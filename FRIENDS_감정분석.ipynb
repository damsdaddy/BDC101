{
  "nbformat": 4,
  "nbformat_minor": 0,
  "metadata": {
    "kernelspec": {
      "display_name": "Python 3",
      "language": "python",
      "name": "python3"
    },
    "language_info": {
      "codemirror_mode": {
        "name": "ipython",
        "version": 3
      },
      "file_extension": ".py",
      "mimetype": "text/x-python",
      "name": "python",
      "nbconvert_exporter": "python",
      "pygments_lexer": "ipython3",
      "version": "3.6.9"
    },
    "colab": {
      "name": "FRIENDS_감정분석.ipynb",
      "provenance": [],
      "include_colab_link": true
    },
    "accelerator": "GPU",
    "widgets": {
      "application/vnd.jupyter.widget-state+json": {
        "e2719ea00466420187a755f102171158": {
          "model_module": "@jupyter-widgets/controls",
          "model_name": "HBoxModel",
          "state": {
            "_view_name": "HBoxView",
            "_dom_classes": [],
            "_model_name": "HBoxModel",
            "_view_module": "@jupyter-widgets/controls",
            "_model_module_version": "1.5.0",
            "_view_count": null,
            "_view_module_version": "1.5.0",
            "box_style": "",
            "layout": "IPY_MODEL_d49b4ccb4eba4c4c8144b49a4d8302ed",
            "_model_module": "@jupyter-widgets/controls",
            "children": [
              "IPY_MODEL_50653ffc18a5444eb73cded18f7c72b0",
              "IPY_MODEL_4b9f60137f704ce58430b859a50ed414"
            ]
          }
        },
        "d49b4ccb4eba4c4c8144b49a4d8302ed": {
          "model_module": "@jupyter-widgets/base",
          "model_name": "LayoutModel",
          "state": {
            "_view_name": "LayoutView",
            "grid_template_rows": null,
            "right": null,
            "justify_content": null,
            "_view_module": "@jupyter-widgets/base",
            "overflow": null,
            "_model_module_version": "1.2.0",
            "_view_count": null,
            "flex_flow": null,
            "width": null,
            "min_width": null,
            "border": null,
            "align_items": null,
            "bottom": null,
            "_model_module": "@jupyter-widgets/base",
            "top": null,
            "grid_column": null,
            "overflow_y": null,
            "overflow_x": null,
            "grid_auto_flow": null,
            "grid_area": null,
            "grid_template_columns": null,
            "flex": null,
            "_model_name": "LayoutModel",
            "justify_items": null,
            "grid_row": null,
            "max_height": null,
            "align_content": null,
            "visibility": null,
            "align_self": null,
            "height": null,
            "min_height": null,
            "padding": null,
            "grid_auto_rows": null,
            "grid_gap": null,
            "max_width": null,
            "order": null,
            "_view_module_version": "1.2.0",
            "grid_template_areas": null,
            "object_position": null,
            "object_fit": null,
            "grid_auto_columns": null,
            "margin": null,
            "display": null,
            "left": null
          }
        },
        "50653ffc18a5444eb73cded18f7c72b0": {
          "model_module": "@jupyter-widgets/controls",
          "model_name": "FloatProgressModel",
          "state": {
            "_view_name": "ProgressView",
            "style": "IPY_MODEL_e1b9a6af23a5412db2861b1387bb1f66",
            "_dom_classes": [],
            "description": "100%",
            "_model_name": "FloatProgressModel",
            "bar_style": "success",
            "max": 10268,
            "_view_module": "@jupyter-widgets/controls",
            "_model_module_version": "1.5.0",
            "value": 10268,
            "_view_count": null,
            "_view_module_version": "1.5.0",
            "orientation": "horizontal",
            "min": 0,
            "description_tooltip": null,
            "_model_module": "@jupyter-widgets/controls",
            "layout": "IPY_MODEL_ae3c28ee4c3c4e328a85c9679c7416bf"
          }
        },
        "4b9f60137f704ce58430b859a50ed414": {
          "model_module": "@jupyter-widgets/controls",
          "model_name": "HTMLModel",
          "state": {
            "_view_name": "HTMLView",
            "style": "IPY_MODEL_c4196f35f431444195b3b9e1c059e2c2",
            "_dom_classes": [],
            "description": "",
            "_model_name": "HTMLModel",
            "placeholder": "​",
            "_view_module": "@jupyter-widgets/controls",
            "_model_module_version": "1.5.0",
            "value": " 10268/10268 [39:23&lt;00:00,  4.34it/s]",
            "_view_count": null,
            "_view_module_version": "1.5.0",
            "description_tooltip": null,
            "_model_module": "@jupyter-widgets/controls",
            "layout": "IPY_MODEL_f65f3181d2f543d78db18f8e7628c432"
          }
        },
        "e1b9a6af23a5412db2861b1387bb1f66": {
          "model_module": "@jupyter-widgets/controls",
          "model_name": "ProgressStyleModel",
          "state": {
            "_view_name": "StyleView",
            "_model_name": "ProgressStyleModel",
            "description_width": "initial",
            "_view_module": "@jupyter-widgets/base",
            "_model_module_version": "1.5.0",
            "_view_count": null,
            "_view_module_version": "1.2.0",
            "bar_color": null,
            "_model_module": "@jupyter-widgets/controls"
          }
        },
        "ae3c28ee4c3c4e328a85c9679c7416bf": {
          "model_module": "@jupyter-widgets/base",
          "model_name": "LayoutModel",
          "state": {
            "_view_name": "LayoutView",
            "grid_template_rows": null,
            "right": null,
            "justify_content": null,
            "_view_module": "@jupyter-widgets/base",
            "overflow": null,
            "_model_module_version": "1.2.0",
            "_view_count": null,
            "flex_flow": null,
            "width": null,
            "min_width": null,
            "border": null,
            "align_items": null,
            "bottom": null,
            "_model_module": "@jupyter-widgets/base",
            "top": null,
            "grid_column": null,
            "overflow_y": null,
            "overflow_x": null,
            "grid_auto_flow": null,
            "grid_area": null,
            "grid_template_columns": null,
            "flex": null,
            "_model_name": "LayoutModel",
            "justify_items": null,
            "grid_row": null,
            "max_height": null,
            "align_content": null,
            "visibility": null,
            "align_self": null,
            "height": null,
            "min_height": null,
            "padding": null,
            "grid_auto_rows": null,
            "grid_gap": null,
            "max_width": null,
            "order": null,
            "_view_module_version": "1.2.0",
            "grid_template_areas": null,
            "object_position": null,
            "object_fit": null,
            "grid_auto_columns": null,
            "margin": null,
            "display": null,
            "left": null
          }
        },
        "c4196f35f431444195b3b9e1c059e2c2": {
          "model_module": "@jupyter-widgets/controls",
          "model_name": "DescriptionStyleModel",
          "state": {
            "_view_name": "StyleView",
            "_model_name": "DescriptionStyleModel",
            "description_width": "",
            "_view_module": "@jupyter-widgets/base",
            "_model_module_version": "1.5.0",
            "_view_count": null,
            "_view_module_version": "1.2.0",
            "_model_module": "@jupyter-widgets/controls"
          }
        },
        "f65f3181d2f543d78db18f8e7628c432": {
          "model_module": "@jupyter-widgets/base",
          "model_name": "LayoutModel",
          "state": {
            "_view_name": "LayoutView",
            "grid_template_rows": null,
            "right": null,
            "justify_content": null,
            "_view_module": "@jupyter-widgets/base",
            "overflow": null,
            "_model_module_version": "1.2.0",
            "_view_count": null,
            "flex_flow": null,
            "width": null,
            "min_width": null,
            "border": null,
            "align_items": null,
            "bottom": null,
            "_model_module": "@jupyter-widgets/base",
            "top": null,
            "grid_column": null,
            "overflow_y": null,
            "overflow_x": null,
            "grid_auto_flow": null,
            "grid_area": null,
            "grid_template_columns": null,
            "flex": null,
            "_model_name": "LayoutModel",
            "justify_items": null,
            "grid_row": null,
            "max_height": null,
            "align_content": null,
            "visibility": null,
            "align_self": null,
            "height": null,
            "min_height": null,
            "padding": null,
            "grid_auto_rows": null,
            "grid_gap": null,
            "max_width": null,
            "order": null,
            "_view_module_version": "1.2.0",
            "grid_template_areas": null,
            "object_position": null,
            "object_fit": null,
            "grid_auto_columns": null,
            "margin": null,
            "display": null,
            "left": null
          }
        },
        "b6442956a53a44b9aeb692720d8e7994": {
          "model_module": "@jupyter-widgets/controls",
          "model_name": "HBoxModel",
          "state": {
            "_view_name": "HBoxView",
            "_dom_classes": [],
            "_model_name": "HBoxModel",
            "_view_module": "@jupyter-widgets/controls",
            "_model_module_version": "1.5.0",
            "_view_count": null,
            "_view_module_version": "1.5.0",
            "box_style": "",
            "layout": "IPY_MODEL_75f24d49cf624ad5a8ed6ed2c330769d",
            "_model_module": "@jupyter-widgets/controls",
            "children": [
              "IPY_MODEL_276faceec0e847cf886da1705f787e8b",
              "IPY_MODEL_d17c7b9da6d944b5bd03028c60a214e2"
            ]
          }
        },
        "75f24d49cf624ad5a8ed6ed2c330769d": {
          "model_module": "@jupyter-widgets/base",
          "model_name": "LayoutModel",
          "state": {
            "_view_name": "LayoutView",
            "grid_template_rows": null,
            "right": null,
            "justify_content": null,
            "_view_module": "@jupyter-widgets/base",
            "overflow": null,
            "_model_module_version": "1.2.0",
            "_view_count": null,
            "flex_flow": null,
            "width": null,
            "min_width": null,
            "border": null,
            "align_items": null,
            "bottom": null,
            "_model_module": "@jupyter-widgets/base",
            "top": null,
            "grid_column": null,
            "overflow_y": null,
            "overflow_x": null,
            "grid_auto_flow": null,
            "grid_area": null,
            "grid_template_columns": null,
            "flex": null,
            "_model_name": "LayoutModel",
            "justify_items": null,
            "grid_row": null,
            "max_height": null,
            "align_content": null,
            "visibility": null,
            "align_self": null,
            "height": null,
            "min_height": null,
            "padding": null,
            "grid_auto_rows": null,
            "grid_gap": null,
            "max_width": null,
            "order": null,
            "_view_module_version": "1.2.0",
            "grid_template_areas": null,
            "object_position": null,
            "object_fit": null,
            "grid_auto_columns": null,
            "margin": null,
            "display": null,
            "left": null
          }
        },
        "276faceec0e847cf886da1705f787e8b": {
          "model_module": "@jupyter-widgets/controls",
          "model_name": "FloatProgressModel",
          "state": {
            "_view_name": "ProgressView",
            "style": "IPY_MODEL_3a0aa18ed235419c9186ee95e3512845",
            "_dom_classes": [],
            "description": "100%",
            "_model_name": "FloatProgressModel",
            "bar_style": "success",
            "max": 2500,
            "_view_module": "@jupyter-widgets/controls",
            "_model_module_version": "1.5.0",
            "value": 2500,
            "_view_count": null,
            "_view_module_version": "1.5.0",
            "orientation": "horizontal",
            "min": 0,
            "description_tooltip": null,
            "_model_module": "@jupyter-widgets/controls",
            "layout": "IPY_MODEL_b5a116b6d5d4407fa9ba2089cbba10f7"
          }
        },
        "d17c7b9da6d944b5bd03028c60a214e2": {
          "model_module": "@jupyter-widgets/controls",
          "model_name": "HTMLModel",
          "state": {
            "_view_name": "HTMLView",
            "style": "IPY_MODEL_eea094b22f0b467daf171842a590a5dd",
            "_dom_classes": [],
            "description": "",
            "_model_name": "HTMLModel",
            "placeholder": "​",
            "_view_module": "@jupyter-widgets/controls",
            "_model_module_version": "1.5.0",
            "value": " 2500/2500 [07:09&lt;00:00,  5.82it/s]",
            "_view_count": null,
            "_view_module_version": "1.5.0",
            "description_tooltip": null,
            "_model_module": "@jupyter-widgets/controls",
            "layout": "IPY_MODEL_fe20f497dcf94ddb8657ceff078f6af3"
          }
        },
        "3a0aa18ed235419c9186ee95e3512845": {
          "model_module": "@jupyter-widgets/controls",
          "model_name": "ProgressStyleModel",
          "state": {
            "_view_name": "StyleView",
            "_model_name": "ProgressStyleModel",
            "description_width": "initial",
            "_view_module": "@jupyter-widgets/base",
            "_model_module_version": "1.5.0",
            "_view_count": null,
            "_view_module_version": "1.2.0",
            "bar_color": null,
            "_model_module": "@jupyter-widgets/controls"
          }
        },
        "b5a116b6d5d4407fa9ba2089cbba10f7": {
          "model_module": "@jupyter-widgets/base",
          "model_name": "LayoutModel",
          "state": {
            "_view_name": "LayoutView",
            "grid_template_rows": null,
            "right": null,
            "justify_content": null,
            "_view_module": "@jupyter-widgets/base",
            "overflow": null,
            "_model_module_version": "1.2.0",
            "_view_count": null,
            "flex_flow": null,
            "width": null,
            "min_width": null,
            "border": null,
            "align_items": null,
            "bottom": null,
            "_model_module": "@jupyter-widgets/base",
            "top": null,
            "grid_column": null,
            "overflow_y": null,
            "overflow_x": null,
            "grid_auto_flow": null,
            "grid_area": null,
            "grid_template_columns": null,
            "flex": null,
            "_model_name": "LayoutModel",
            "justify_items": null,
            "grid_row": null,
            "max_height": null,
            "align_content": null,
            "visibility": null,
            "align_self": null,
            "height": null,
            "min_height": null,
            "padding": null,
            "grid_auto_rows": null,
            "grid_gap": null,
            "max_width": null,
            "order": null,
            "_view_module_version": "1.2.0",
            "grid_template_areas": null,
            "object_position": null,
            "object_fit": null,
            "grid_auto_columns": null,
            "margin": null,
            "display": null,
            "left": null
          }
        },
        "eea094b22f0b467daf171842a590a5dd": {
          "model_module": "@jupyter-widgets/controls",
          "model_name": "DescriptionStyleModel",
          "state": {
            "_view_name": "StyleView",
            "_model_name": "DescriptionStyleModel",
            "description_width": "",
            "_view_module": "@jupyter-widgets/base",
            "_model_module_version": "1.5.0",
            "_view_count": null,
            "_view_module_version": "1.2.0",
            "_model_module": "@jupyter-widgets/controls"
          }
        },
        "fe20f497dcf94ddb8657ceff078f6af3": {
          "model_module": "@jupyter-widgets/base",
          "model_name": "LayoutModel",
          "state": {
            "_view_name": "LayoutView",
            "grid_template_rows": null,
            "right": null,
            "justify_content": null,
            "_view_module": "@jupyter-widgets/base",
            "overflow": null,
            "_model_module_version": "1.2.0",
            "_view_count": null,
            "flex_flow": null,
            "width": null,
            "min_width": null,
            "border": null,
            "align_items": null,
            "bottom": null,
            "_model_module": "@jupyter-widgets/base",
            "top": null,
            "grid_column": null,
            "overflow_y": null,
            "overflow_x": null,
            "grid_auto_flow": null,
            "grid_area": null,
            "grid_template_columns": null,
            "flex": null,
            "_model_name": "LayoutModel",
            "justify_items": null,
            "grid_row": null,
            "max_height": null,
            "align_content": null,
            "visibility": null,
            "align_self": null,
            "height": null,
            "min_height": null,
            "padding": null,
            "grid_auto_rows": null,
            "grid_gap": null,
            "max_width": null,
            "order": null,
            "_view_module_version": "1.2.0",
            "grid_template_areas": null,
            "object_position": null,
            "object_fit": null,
            "grid_auto_columns": null,
            "margin": null,
            "display": null,
            "left": null
          }
        },
        "948889edf77b415c8ba51b4a40c89a2f": {
          "model_module": "@jupyter-widgets/controls",
          "model_name": "HBoxModel",
          "state": {
            "_view_name": "HBoxView",
            "_dom_classes": [],
            "_model_name": "HBoxModel",
            "_view_module": "@jupyter-widgets/controls",
            "_model_module_version": "1.5.0",
            "_view_count": null,
            "_view_module_version": "1.5.0",
            "box_style": "",
            "layout": "IPY_MODEL_21a47558be4a475d9164e83a65e058fd",
            "_model_module": "@jupyter-widgets/controls",
            "children": [
              "IPY_MODEL_148314a00f954e13963232c4e676adb5",
              "IPY_MODEL_978da56ce5f348f2aa22f1a84b4abe1e"
            ]
          }
        },
        "21a47558be4a475d9164e83a65e058fd": {
          "model_module": "@jupyter-widgets/base",
          "model_name": "LayoutModel",
          "state": {
            "_view_name": "LayoutView",
            "grid_template_rows": null,
            "right": null,
            "justify_content": null,
            "_view_module": "@jupyter-widgets/base",
            "overflow": null,
            "_model_module_version": "1.2.0",
            "_view_count": null,
            "flex_flow": null,
            "width": null,
            "min_width": null,
            "border": null,
            "align_items": null,
            "bottom": null,
            "_model_module": "@jupyter-widgets/base",
            "top": null,
            "grid_column": null,
            "overflow_y": null,
            "overflow_x": null,
            "grid_auto_flow": null,
            "grid_area": null,
            "grid_template_columns": null,
            "flex": null,
            "_model_name": "LayoutModel",
            "justify_items": null,
            "grid_row": null,
            "max_height": null,
            "align_content": null,
            "visibility": null,
            "align_self": null,
            "height": null,
            "min_height": null,
            "padding": null,
            "grid_auto_rows": null,
            "grid_gap": null,
            "max_width": null,
            "order": null,
            "_view_module_version": "1.2.0",
            "grid_template_areas": null,
            "object_position": null,
            "object_fit": null,
            "grid_auto_columns": null,
            "margin": null,
            "display": null,
            "left": null
          }
        },
        "148314a00f954e13963232c4e676adb5": {
          "model_module": "@jupyter-widgets/controls",
          "model_name": "FloatProgressModel",
          "state": {
            "_view_name": "ProgressView",
            "style": "IPY_MODEL_73afac0090e4460ea0cee7138221bb05",
            "_dom_classes": [],
            "description": "100%",
            "_model_name": "FloatProgressModel",
            "bar_style": "success",
            "max": 1623,
            "_view_module": "@jupyter-widgets/controls",
            "_model_module_version": "1.5.0",
            "value": 1623,
            "_view_count": null,
            "_view_module_version": "1.5.0",
            "orientation": "horizontal",
            "min": 0,
            "description_tooltip": null,
            "_model_module": "@jupyter-widgets/controls",
            "layout": "IPY_MODEL_4bce9a0820e6420ebb50b3050d06168d"
          }
        },
        "978da56ce5f348f2aa22f1a84b4abe1e": {
          "model_module": "@jupyter-widgets/controls",
          "model_name": "HTMLModel",
          "state": {
            "_view_name": "HTMLView",
            "style": "IPY_MODEL_abf565310aa6461b8e655d3d2aae09bb",
            "_dom_classes": [],
            "description": "",
            "_model_name": "HTMLModel",
            "placeholder": "​",
            "_view_module": "@jupyter-widgets/controls",
            "_model_module_version": "1.5.0",
            "value": " 1623/1623 [00:54&lt;00:00, 29.86it/s]",
            "_view_count": null,
            "_view_module_version": "1.5.0",
            "description_tooltip": null,
            "_model_module": "@jupyter-widgets/controls",
            "layout": "IPY_MODEL_67749e0a032949cd9cf7f4c1ecb7323f"
          }
        },
        "73afac0090e4460ea0cee7138221bb05": {
          "model_module": "@jupyter-widgets/controls",
          "model_name": "ProgressStyleModel",
          "state": {
            "_view_name": "StyleView",
            "_model_name": "ProgressStyleModel",
            "description_width": "initial",
            "_view_module": "@jupyter-widgets/base",
            "_model_module_version": "1.5.0",
            "_view_count": null,
            "_view_module_version": "1.2.0",
            "bar_color": null,
            "_model_module": "@jupyter-widgets/controls"
          }
        },
        "4bce9a0820e6420ebb50b3050d06168d": {
          "model_module": "@jupyter-widgets/base",
          "model_name": "LayoutModel",
          "state": {
            "_view_name": "LayoutView",
            "grid_template_rows": null,
            "right": null,
            "justify_content": null,
            "_view_module": "@jupyter-widgets/base",
            "overflow": null,
            "_model_module_version": "1.2.0",
            "_view_count": null,
            "flex_flow": null,
            "width": null,
            "min_width": null,
            "border": null,
            "align_items": null,
            "bottom": null,
            "_model_module": "@jupyter-widgets/base",
            "top": null,
            "grid_column": null,
            "overflow_y": null,
            "overflow_x": null,
            "grid_auto_flow": null,
            "grid_area": null,
            "grid_template_columns": null,
            "flex": null,
            "_model_name": "LayoutModel",
            "justify_items": null,
            "grid_row": null,
            "max_height": null,
            "align_content": null,
            "visibility": null,
            "align_self": null,
            "height": null,
            "min_height": null,
            "padding": null,
            "grid_auto_rows": null,
            "grid_gap": null,
            "max_width": null,
            "order": null,
            "_view_module_version": "1.2.0",
            "grid_template_areas": null,
            "object_position": null,
            "object_fit": null,
            "grid_auto_columns": null,
            "margin": null,
            "display": null,
            "left": null
          }
        },
        "abf565310aa6461b8e655d3d2aae09bb": {
          "model_module": "@jupyter-widgets/controls",
          "model_name": "DescriptionStyleModel",
          "state": {
            "_view_name": "StyleView",
            "_model_name": "DescriptionStyleModel",
            "description_width": "",
            "_view_module": "@jupyter-widgets/base",
            "_model_module_version": "1.5.0",
            "_view_count": null,
            "_view_module_version": "1.2.0",
            "_model_module": "@jupyter-widgets/controls"
          }
        },
        "67749e0a032949cd9cf7f4c1ecb7323f": {
          "model_module": "@jupyter-widgets/base",
          "model_name": "LayoutModel",
          "state": {
            "_view_name": "LayoutView",
            "grid_template_rows": null,
            "right": null,
            "justify_content": null,
            "_view_module": "@jupyter-widgets/base",
            "overflow": null,
            "_model_module_version": "1.2.0",
            "_view_count": null,
            "flex_flow": null,
            "width": null,
            "min_width": null,
            "border": null,
            "align_items": null,
            "bottom": null,
            "_model_module": "@jupyter-widgets/base",
            "top": null,
            "grid_column": null,
            "overflow_y": null,
            "overflow_x": null,
            "grid_auto_flow": null,
            "grid_area": null,
            "grid_template_columns": null,
            "flex": null,
            "_model_name": "LayoutModel",
            "justify_items": null,
            "grid_row": null,
            "max_height": null,
            "align_content": null,
            "visibility": null,
            "align_self": null,
            "height": null,
            "min_height": null,
            "padding": null,
            "grid_auto_rows": null,
            "grid_gap": null,
            "max_width": null,
            "order": null,
            "_view_module_version": "1.2.0",
            "grid_template_areas": null,
            "object_position": null,
            "object_fit": null,
            "grid_auto_columns": null,
            "margin": null,
            "display": null,
            "left": null
          }
        }
      }
    }
  },
  "cells": [
    {
      "cell_type": "markdown",
      "metadata": {
        "id": "view-in-github",
        "colab_type": "text"
      },
      "source": [
        "<a href=\"https://colab.research.google.com/github/damsdaddy/BDC101/blob/main/FRIENDS_%EA%B0%90%EC%A0%95%EB%B6%84%EC%84%9D.ipynb\" target=\"_parent\"><img src=\"https://colab.research.google.com/assets/colab-badge.svg\" alt=\"Open In Colab\"/></a>"
      ]
    },
    {
      "cell_type": "markdown",
      "metadata": {
        "id": "shPU6iqh-rTE"
      },
      "source": [
        "Step1. 라이브러리를 로드합니다."
      ]
    },
    {
      "cell_type": "code",
      "metadata": {
        "id": "oqW3POSOa-qD",
        "colab": {
          "base_uri": "https://localhost:8080/"
        },
        "outputId": "9cfc00ad-6b12-4025-b2da-78813e99b9a3"
      },
      "source": [
        "import pandas as pd\n",
        "import numpy as np\n",
        "%matplotlib inline\n",
        "import matplotlib.pyplot as plt\n",
        "import re, json\n",
        "from nltk.tokenize import word_tokenize\n",
        "import nltk\n",
        "from tensorflow.keras.preprocessing.text import Tokenizer\n",
        "from tensorflow.keras.preprocessing.sequence import pad_sequences\n",
        "from tensorflow.keras.utils import to_categorical\n",
        "from tqdm.notebook import tqdm\n",
        "\n",
        "nltk.download('punkt')\n"
      ],
      "execution_count": 1,
      "outputs": [
        {
          "output_type": "stream",
          "text": [
            "[nltk_data] Downloading package punkt to /root/nltk_data...\n",
            "[nltk_data]   Unzipping tokenizers/punkt.zip.\n"
          ],
          "name": "stdout"
        },
        {
          "output_type": "execute_result",
          "data": {
            "text/plain": [
              "True"
            ]
          },
          "metadata": {
            "tags": []
          },
          "execution_count": 1
        }
      ]
    },
    {
      "cell_type": "markdown",
      "metadata": {
        "id": "TqChXsezESjJ"
      },
      "source": [
        "Step2. 구글 드라이브를 마운트합니다."
      ]
    },
    {
      "cell_type": "code",
      "metadata": {
        "colab": {
          "base_uri": "https://localhost:8080/"
        },
        "id": "nJoGa9Ym_lG3",
        "outputId": "4b934e0e-8927-4868-f99c-ec509f40a20d"
      },
      "source": [
        "from google.colab import drive\n",
        "drive.mount('/content/drive')"
      ],
      "execution_count": 2,
      "outputs": [
        {
          "output_type": "stream",
          "text": [
            "Mounted at /content/drive\n"
          ],
          "name": "stdout"
        }
      ]
    },
    {
      "cell_type": "markdown",
      "metadata": {
        "id": "2Pf7WG49EXnS"
      },
      "source": [
        "Step3. 마운트된 구글드라이브에 데이터셋이 있는 경로를 설정하고 파일을 로드합니다."
      ]
    },
    {
      "cell_type": "code",
      "metadata": {
        "id": "tT-vqJYCa-qI"
      },
      "source": [
        "mypath = '/content/drive/MyDrive/Colab Notebooks/dataset/'\n",
        "train_data = pd.read_csv(mypath+'friends_train_preprocess.csv', sep='|', index_col=0)\n",
        "test_data = pd.read_csv(mypath+'friends_test_preprocess.csv', sep='|', index_col=0)"
      ],
      "execution_count": 3,
      "outputs": []
    },
    {
      "cell_type": "markdown",
      "metadata": {
        "id": "dTp-NsTiLToO"
      },
      "source": [
        "Step4. 정상적으로 로드되었는지 확인합니다."
      ]
    },
    {
      "cell_type": "code",
      "metadata": {
        "colab": {
          "base_uri": "https://localhost:8080/",
          "height": 221
        },
        "id": "1_E9mTrsa-qJ",
        "outputId": "0be577c6-86b8-4e06-8308-a37bd39252f8"
      },
      "source": [
        "print('훈련용 리뷰 개수 :',len(train_data)) # 훈련용 리뷰 개수 출력\n",
        "train_data[:5] # 상위 5개 출력"
      ],
      "execution_count": 4,
      "outputs": [
        {
          "output_type": "stream",
          "text": [
            "훈련용 리뷰 개수 : 10268\n"
          ],
          "name": "stdout"
        },
        {
          "output_type": "execute_result",
          "data": {
            "text/html": [
              "<div>\n",
              "<style scoped>\n",
              "    .dataframe tbody tr th:only-of-type {\n",
              "        vertical-align: middle;\n",
              "    }\n",
              "\n",
              "    .dataframe tbody tr th {\n",
              "        vertical-align: top;\n",
              "    }\n",
              "\n",
              "    .dataframe thead th {\n",
              "        text-align: right;\n",
              "    }\n",
              "</style>\n",
              "<table border=\"1\" class=\"dataframe\">\n",
              "  <thead>\n",
              "    <tr style=\"text-align: right;\">\n",
              "      <th></th>\n",
              "      <th>speaker</th>\n",
              "      <th>utterance</th>\n",
              "      <th>emotion</th>\n",
              "      <th>annotation</th>\n",
              "    </tr>\n",
              "  </thead>\n",
              "  <tbody>\n",
              "    <tr>\n",
              "      <th>0</th>\n",
              "      <td>Chandler</td>\n",
              "      <td>also i was the point person on my company's tr...</td>\n",
              "      <td>1</td>\n",
              "      <td>4100000</td>\n",
              "    </tr>\n",
              "    <tr>\n",
              "      <th>1</th>\n",
              "      <td>The Interviewer</td>\n",
              "      <td>you must've had your hands full.</td>\n",
              "      <td>1</td>\n",
              "      <td>5000000</td>\n",
              "    </tr>\n",
              "    <tr>\n",
              "      <th>2</th>\n",
              "      <td>Chandler</td>\n",
              "      <td>that i did. that i did.</td>\n",
              "      <td>1</td>\n",
              "      <td>5000000</td>\n",
              "    </tr>\n",
              "    <tr>\n",
              "      <th>3</th>\n",
              "      <td>The Interviewer</td>\n",
              "      <td>so let's talk a little bit about your duties.</td>\n",
              "      <td>1</td>\n",
              "      <td>5000000</td>\n",
              "    </tr>\n",
              "    <tr>\n",
              "      <th>4</th>\n",
              "      <td>Chandler</td>\n",
              "      <td>my duties? all right.</td>\n",
              "      <td>6</td>\n",
              "      <td>2000030</td>\n",
              "    </tr>\n",
              "  </tbody>\n",
              "</table>\n",
              "</div>"
            ],
            "text/plain": [
              "           speaker  ... annotation\n",
              "0         Chandler  ...    4100000\n",
              "1  The Interviewer  ...    5000000\n",
              "2         Chandler  ...    5000000\n",
              "3  The Interviewer  ...    5000000\n",
              "4         Chandler  ...    2000030\n",
              "\n",
              "[5 rows x 4 columns]"
            ]
          },
          "metadata": {
            "tags": []
          },
          "execution_count": 4
        }
      ]
    },
    {
      "cell_type": "code",
      "metadata": {
        "colab": {
          "base_uri": "https://localhost:8080/",
          "height": 221
        },
        "id": "Yg2dMWtLa9WH",
        "outputId": "40c5d0fb-f8c7-45be-ab83-f4c2cf24565f"
      },
      "source": [
        "print('테스트용 리뷰 개수 :',len(test_data)) # 테스트용 리뷰 개수 출력\n",
        "test_data[:5]"
      ],
      "execution_count": 5,
      "outputs": [
        {
          "output_type": "stream",
          "text": [
            "테스트용 리뷰 개수 : 2500\n"
          ],
          "name": "stdout"
        },
        {
          "output_type": "execute_result",
          "data": {
            "text/html": [
              "<div>\n",
              "<style scoped>\n",
              "    .dataframe tbody tr th:only-of-type {\n",
              "        vertical-align: middle;\n",
              "    }\n",
              "\n",
              "    .dataframe tbody tr th {\n",
              "        vertical-align: top;\n",
              "    }\n",
              "\n",
              "    .dataframe thead th {\n",
              "        text-align: right;\n",
              "    }\n",
              "</style>\n",
              "<table border=\"1\" class=\"dataframe\">\n",
              "  <thead>\n",
              "    <tr style=\"text-align: right;\">\n",
              "      <th></th>\n",
              "      <th>speaker</th>\n",
              "      <th>utterance</th>\n",
              "      <th>emotion</th>\n",
              "      <th>annotation</th>\n",
              "    </tr>\n",
              "  </thead>\n",
              "  <tbody>\n",
              "    <tr>\n",
              "      <th>0</th>\n",
              "      <td>Mark</td>\n",
              "      <td>why do all you're coffee mugs have numbers on ...</td>\n",
              "      <td>6</td>\n",
              "      <td>2000030</td>\n",
              "    </tr>\n",
              "    <tr>\n",
              "      <th>1</th>\n",
              "      <td>Rachel</td>\n",
              "      <td>oh. that's so monica can keep track. that way ...</td>\n",
              "      <td>8</td>\n",
              "      <td>2100011</td>\n",
              "    </tr>\n",
              "    <tr>\n",
              "      <th>2</th>\n",
              "      <td>Rachel</td>\n",
              "      <td>y'know what?</td>\n",
              "      <td>1</td>\n",
              "      <td>3000020</td>\n",
              "    </tr>\n",
              "    <tr>\n",
              "      <th>3</th>\n",
              "      <td>Ross</td>\n",
              "      <td>it didn't.</td>\n",
              "      <td>1</td>\n",
              "      <td>5000000</td>\n",
              "    </tr>\n",
              "    <tr>\n",
              "      <th>4</th>\n",
              "      <td>Frank</td>\n",
              "      <td>okay, so what you used to have with rachel, is...</td>\n",
              "      <td>2</td>\n",
              "      <td>1300010</td>\n",
              "    </tr>\n",
              "  </tbody>\n",
              "</table>\n",
              "</div>"
            ],
            "text/plain": [
              "  speaker  ... annotation\n",
              "0    Mark  ...    2000030\n",
              "1  Rachel  ...    2100011\n",
              "2  Rachel  ...    3000020\n",
              "3    Ross  ...    5000000\n",
              "4   Frank  ...    1300010\n",
              "\n",
              "[5 rows x 4 columns]"
            ]
          },
          "metadata": {
            "tags": []
          },
          "execution_count": 5
        }
      ]
    },
    {
      "cell_type": "markdown",
      "metadata": {
        "id": "8dKtp4obLe9U"
      },
      "source": [
        "Step5. (선택) 발화자(speaker) 정보도 데이터셋에 포함시킵니다."
      ]
    },
    {
      "cell_type": "code",
      "metadata": {
        "id": "NAAcsB0QyCts"
      },
      "source": [
        "train_data['utterance'] = train_data['speaker'] + ' ' + train_data['utterance']\n",
        "test_data['utterance'] = test_data['speaker'] + ' ' + test_data['utterance']\n",
        "train_data['utterance'] = train_data['utterance'].str.lower()\n",
        "test_data['utterance'] = test_data['utterance'].str.lower()"
      ],
      "execution_count": 6,
      "outputs": []
    },
    {
      "cell_type": "markdown",
      "metadata": {
        "id": "Q7tnPoKqLz6Z"
      },
      "source": [
        "Step6. 토큰화합니다."
      ]
    },
    {
      "cell_type": "code",
      "metadata": {
        "scrolled": true,
        "colab": {
          "base_uri": "https://localhost:8080/",
          "height": 103,
          "referenced_widgets": [
            "e2719ea00466420187a755f102171158",
            "d49b4ccb4eba4c4c8144b49a4d8302ed",
            "50653ffc18a5444eb73cded18f7c72b0",
            "4b9f60137f704ce58430b859a50ed414",
            "e1b9a6af23a5412db2861b1387bb1f66",
            "ae3c28ee4c3c4e328a85c9679c7416bf",
            "c4196f35f431444195b3b9e1c059e2c2",
            "f65f3181d2f543d78db18f8e7628c432"
          ]
        },
        "id": "dsqQUKqia-qM",
        "outputId": "611305e0-f375-43a4-cb02-5e8635b86379"
      },
      "source": [
        "X_train = []\n",
        "for sentence in tqdm(train_data['utterance']):\n",
        "    temp_X = []\n",
        "    temp_X = word_tokenize(sentence)\n",
        "    X_train.append(temp_X)\n",
        "\n",
        "print(X_train[:30])"
      ],
      "execution_count": 7,
      "outputs": [
        {
          "output_type": "display_data",
          "data": {
            "application/vnd.jupyter.widget-view+json": {
              "model_id": "e2719ea00466420187a755f102171158",
              "version_minor": 0,
              "version_major": 2
            },
            "text/plain": [
              "HBox(children=(FloatProgress(value=0.0, max=10268.0), HTML(value='')))"
            ]
          },
          "metadata": {
            "tags": []
          }
        },
        {
          "output_type": "stream",
          "text": [
            "\n",
            "[['chandler', 'also', 'i', 'was', 'the', 'point', 'person', 'on', 'my', 'company', \"'s\", 'transition', 'from', 'the', 'kl', '-', '5', 'to', 'gr', '-', '6', 'system', '.'], ['the', 'interviewer', 'you', 'must', \"'ve\", 'had', 'your', 'hands', 'full', '.'], ['chandler', 'that', 'i', 'did', '.', 'that', 'i', 'did', '.'], ['the', 'interviewer', 'so', 'let', \"'s\", 'talk', 'a', 'little', 'bit', 'about', 'your', 'duties', '.'], ['chandler', 'my', 'duties', '?', 'all', 'right', '.'], ['the', 'interviewer', 'now', 'you', \"'ll\", 'be', 'heading', 'a', 'whole', 'division', ',', 'so', 'you', \"'ll\", 'have', 'a', 'lot', 'of', 'duties', '.'], ['chandler', 'i', 'see', '.'], ['the', 'interviewer', 'but', 'there', \"'ll\", 'be', 'perhaps', '30', 'people', 'under', 'you', 'so', 'you', 'can', 'dump', 'a', 'certain', 'amount', 'on', 'them', '.'], ['chandler', 'good', 'to', 'know', '.'], ['the', 'interviewer', 'we', 'can', 'go', 'into', 'detail'], ['chandler', 'no', 'do', \"n't\", 'i', 'beg', 'of', 'you', '!'], ['the', 'interviewer', 'all', 'right', 'then', ',', 'we', \"'ll\", 'have', 'a', 'definite', 'answer', 'for', 'you', 'on', 'monday', ',', 'but', 'i', 'think', 'i', 'can', 'say', 'with', 'some', 'confidence', ',', 'you', \"'ll\", 'fit', 'in', 'well', 'here', '.'], ['chandler', 'really', '?', '!'], ['the', 'interviewer', 'absolutely', '.', 'you', 'can', 'relax', ';', 'you', 'did', 'great', '.'], ['joey', 'but', 'then', 'who', '?', 'the', 'waitress', 'i', 'went', 'out', 'with', 'last', 'month', '?'], ['rachel', 'you', 'know', '?', 'forget', 'it', '!'], ['joey', 'no', '-', 'no', '-', 'no', '-', 'no', ',', 'no', '!', 'who', ',', 'who', 'were', 'you', 'talking', 'about', '?'], ['rachel', 'no', ',', 'i', '-', 'i', '-', 'i', '-', 'i', 'do', \"n't\", ',', 'i', 'actually', 'do', \"n't\", 'know'], ['joey', 'ok', '!'], ['joey', 'all', 'right', ',', 'well', '...'], ['joey', 'i', \"'m\", 'gon', 'na', 'see', 'if', 'i', 'can', 'get', 'a', 'room', 'for', 'the', 'night', 'and', 'i', \"'ll\", '...'], ['joey', 'i', \"'ll\", 'see', 'you', 'later', '!'], ['rachel', 'yeah', ',', 'sure', '!'], ['chandler', 'hey', ',', 'mon', '.'], ['monica', 'hey', '-', 'hey', '-', 'hey', '.', 'you', 'wan', 'na', 'hear', 'something', 'that', 'sucks', '.'], ['chandler', 'do', 'i', 'ever', '.'], ['monica', 'chris', 'says', 'they', \"'re\", 'closing', 'down', 'the', 'bar', '.'], ['chandler', 'no', 'way', '!'], ['monica', 'yeah', ',', 'apparently', 'they', \"'re\", 'turning', 'it', 'into', 'some', 'kinda', 'coffee', 'place', '.'], ['chandler', 'just', 'coffee', '!', 'where', 'are', 'we', 'gon', 'na', 'hang', 'out', 'now', '?']]\n"
          ],
          "name": "stdout"
        }
      ]
    },
    {
      "cell_type": "code",
      "metadata": {
        "scrolled": true,
        "colab": {
          "base_uri": "https://localhost:8080/",
          "height": 103,
          "referenced_widgets": [
            "b6442956a53a44b9aeb692720d8e7994",
            "75f24d49cf624ad5a8ed6ed2c330769d",
            "276faceec0e847cf886da1705f787e8b",
            "d17c7b9da6d944b5bd03028c60a214e2",
            "3a0aa18ed235419c9186ee95e3512845",
            "b5a116b6d5d4407fa9ba2089cbba10f7",
            "eea094b22f0b467daf171842a590a5dd",
            "fe20f497dcf94ddb8657ceff078f6af3"
          ]
        },
        "id": "Jgt-G1QBa-qM",
        "outputId": "73cb1c09-38ae-4ce8-8b22-9426e4ae3cc5"
      },
      "source": [
        "X_test = []\n",
        "for sentence in tqdm(test_data['utterance']):\n",
        "    temp_X = []\n",
        "    temp_X = word_tokenize(sentence)\n",
        "    X_test.append(temp_X)\n",
        "\n",
        "print(X_test[:30])"
      ],
      "execution_count": 8,
      "outputs": [
        {
          "output_type": "display_data",
          "data": {
            "application/vnd.jupyter.widget-view+json": {
              "model_id": "b6442956a53a44b9aeb692720d8e7994",
              "version_minor": 0,
              "version_major": 2
            },
            "text/plain": [
              "HBox(children=(FloatProgress(value=0.0, max=2500.0), HTML(value='')))"
            ]
          },
          "metadata": {
            "tags": []
          }
        },
        {
          "output_type": "stream",
          "text": [
            "\n",
            "[['mark', 'why', 'do', 'all', 'you', \"'re\", 'coffee', 'mugs', 'have', 'numbers', 'on', 'the', 'bottom', '?'], ['rachel', 'oh', '.', 'that', \"'s\", 'so', 'monica', 'can', 'keep', 'track', '.', 'that', 'way', 'if', 'one', 'on', 'them', 'is', 'missing', ',', 'she', 'can', 'be', 'like', ',', '\\x91where', \"'s\", 'number', '27', '?', '!', \"'\"], ['rachel', \"y'know\", 'what', '?'], ['ross', 'it', 'did', \"n't\", '.'], ['frank', 'okay', ',', 'so', 'what', 'you', 'used', 'to', 'have', 'with', 'rachel', ',', 'is', 'what', 'i', \"'ve\", 'got', 'with', 'alice', '.'], ['joey', 'now', ',', 'wh', '-', 'what', ',', 'what', 'is', 'that', 'like', '?'], ['frank', 'it', \"'s\", 'so', 'cool', 'man', ',', 'it', \"'s\", 'so', ',', 'it', \"'s\", 'just', '\\x91cause', 'being', 'with', 'her', 'is', 'so', 'much', 'better', 'than', 'like', 'not', 'being', 'with', 'her', '.'], ['ross', 'yeah', ',', 'yeah', '.'], ['joey', 'why', 'ca', \"n't\", 'i', 'find', 'that', '?'], ['ross', 'do', \"n't\", 'ask', 'me', ',', 'i', 'had', 'it', 'and', 'i', 'blew', 'it', '!'], ['joey', 'well', ',', 'i', 'want', 'it', '!'], ['frank', 'you', 'can', 'have', 'it', '!'], ['joey', 'i', 'do', \"n't\", 'know', ',', 'maybe', 'i', 'ca', \"n't\", '.', 'i', 'mean', ',', 'maybe', 'there', \"'s\", 'something', 'wrong', 'with', 'me', '.'], ['ross', 'oh', ',', 'no', '!', 'no', '!'], ['frank', 'it', \"'s\", 'out', 'there', 'man', '!', 'i', \"'ve\", 'seen', 'it', '!', 'i', 'got', 'it', '!', '!'], ['joey', 'then', 'you', 'hold', 'on', 'to', 'it', '!', '!'], ['frank', 'all', 'right', ',', 'man', '!', '!'], ['joey', 'all', 'right', ',', 'congratulations', 'you', 'lucky', 'bastard', '!'], ['joey', 'come', 'on', ',', 'lydia', ',', 'you', 'can', 'do', 'it', '.'], ['joey', 'push', '!'], ['joey', 'push', \"'em\", 'out', ',', 'push', \"'em\", 'out', ',', 'harder', ',', 'harder', '.'], ['joey', 'push', \"'em\", 'out', ',', 'push', \"'em\", 'out', ',', 'way', 'out', '!'], ['joey', 'let', \"'s\", 'get', 'that', 'ball', 'and', 'really', 'move', ',', 'hey', ',', 'hey', ',', 'ho', ',', 'ho', '.'], ['joey', \"let's\\x97\", 'i', 'was', 'just\\x97yeah', ',', 'right', '.'], ['ross', 'okay', '.'], ['rachel', 'ross', ',', 'did', \"n't\", 'you', 'say', 'that', 'there', 'was', 'an', 'elevator', 'in', 'here', '?'], ['ross', 'uhh', ',', 'yes', 'i', 'did', 'but', 'there', 'is', \"n't\", '.', 'okay', ',', 'here', 'we', 'go', '.'], ['ross', 'okay', ',', 'go', 'left', '.', 'left', '!', 'left', '!'], ['rachel', 'okay', ',', \"y'know\", 'what', '?', 'there', 'is', 'no', 'more', 'left', ',', 'left', '!'], ['ross', 'oh', 'okay', ',', 'lift', 'it', 'straight', 'up', 'over', 'your', 'head', '!']]\n"
          ],
          "name": "stdout"
        }
      ]
    },
    {
      "cell_type": "markdown",
      "metadata": {
        "id": "clApAsGkLyeo"
      },
      "source": [
        "Step7. 단어집을 만들고 인덱스가 붙은 결과를 출력해 봅니다."
      ]
    },
    {
      "cell_type": "code",
      "metadata": {
        "id": "JiaHvAMTa-qN",
        "colab": {
          "base_uri": "https://localhost:8080/"
        },
        "outputId": "a92f8071-116c-486c-b076-b9e61c930353"
      },
      "source": [
        "tokenizer = Tokenizer()\n",
        "tokenizer.fit_on_texts(X_train)\n",
        "print(tokenizer.word_index)"
      ],
      "execution_count": 9,
      "outputs": [
        {
          "output_type": "stream",
          "text": [
            "{',': 1, '.': 2, 'i': 3, '!': 4, 'you': 5, '?': 6, 'the': 7, \"'s\": 8, 'it': 9, 'to': 10, 'ross': 11, 'a': 12, 'joey': 13, 'that': 14, 'rachel': 15, 'phoebe': 16, 'chandler': 17, 'monica': 18, 'and': 19, \"n't\": 20, '-': 21, 'do': 22, 'oh': 23, 'no': 24, \"'m\": 25, 'what': 26, 'we': 27, 'is': 28, 'this': 29, 'me': 30, 'so': 31, 'just': 32, 'of': 33, 'in': 34, 'my': 35, 'have': 36, 'okay': 37, \"'re\": 38, 'yeah': 39, 'well': 40, 'not': 41, 'was': 42, 'know': 43, 'on': 44, 'are': 45, 'all': 46, 'na': 47, 'for': 48, 'he': 49, 'with': 50, 'but': 51, 'be': 52, 'right': 53, 'hey': 54, 'your': 55, 'like': 56, 'here': 57, 'get': 58, 'there': 59, 'go': 60, 'gon': 61, 'can': 62, 'did': 63, 'out': 64, '...': 65, 'about': 66, 'uh': 67, 'she': 68, 'got': 69, \"y'know\": 70, 'how': 71, 'really': 72, 'think': 73, 'up': 74, 'look': 75, 'they': 76, 'one': 77, \"'ll\": 78, 'now': 79, 'if': 80, 'her': 81, 'at': 82, 'mean': 83, 'him': 84, 'see': 85, \"'ve\": 86, 'would': 87, 'good': 88, 'come': 89, 'want': 90, 'why': 91, 'ca': 92, 'god': 93, 'sorry': 94, 'tell': 95, 'could': 96, 'when': 97, 'who': 98, 'great': 99, 'guys': 100, 'let': 101, 'going': 102, 'were': 103, 'umm': 104, 'does': 105, 'then': 106, 'some': 107, 'because': 108, 'yes': 109, 'time': 110, 'little': 111, 'had': 112, 'guy': 113, 'back': 114, 'say': 115, \"'\": 116, 'too': 117, 'should': 118, 'wait': 119, 'been': 120, 'love': 121, 'something': 122, 'or': 123, \"'d\": 124, 'an': 125, 'from': 126, 'hi': 127, 'wan': 128, 'as': 129, 'over': 130, 'said': 131, 'doing': 132, 'where': 133, 'his': 134, 'make': 135, 'thing': 136, 'am': 137, 'ok': 138, 'ah': 139, 'them': 140, 'us': 141, 'never': 142, 'mr.': 143, 'take': 144, 'man': 145, 'will': 146, 'maybe': 147, 'people': 148, 'thank': 149, 'sure': 150, 'need': 151, 'much': 152, '``': 153, 'please': 154, 'give': 155, 'still': 156, 'listen': 157, 'huh': 158, \"''\": 159, 'again': 160, 'way': 161, 'by': 162, 'dr.': 163, 'two': 164, 'actually': 165, 'down': 166, 'off': 167, 'very': 168, 'um': 169, 'even': 170, 'thought': 171, 'believe': 172, 'wow': 173, 'our': 174, 'first': 175, 'janice': 176, 'has': 177, 'fine': 178, 'more': 179, 'big': 180, 'woman': 181, 'only': 182, 'nice': 183, 'stop': 184, 'other': 185, 'carol': 186, 'night': 187, 'work': 188, 'before': 189, 'talk': 190, 'call': 191, 'ta': 192, 'baby': 193, 'girl': 194, 'ever': 195, 'stuff': 196, 'pheebs': 197, 'these': 198, 'place': 199, 'geller': 200, 'feel': 201, 'ya': 202, 'any': 203, 'bye': 204, 'anything': 205, 'whoa': 206, 'lot': 207, 'things': 208, 'last': 209, 'those': 210, 'nothing': 211, 'new': 212, 'put': 213, 'married': 214, 'kinda': 215, 'thanks': 216, 'pretty': 217, 'better': 218, '’': 219, 'around': 220, 'went': 221, 'together': 222, 'wanted': 223, 'remember': 224, 'hello': 225, 'into': 226, 'honey': 227, 'told': 228, 'name': 229, 'ohh': 230, 'day': 231, 'rach': 232, 'made': 233, 'room': 234, 'happened': 235, 'play': 236, 'emily': 237, 'date': 238, 'guess': 239, 'long': 240, 'help': 241, 'talking': 242, 'tonight': 243, 'friend': 244, 'left': 245, 'totally': 246, 'having': 247, 'always': 248, 'care': 249, 'find': 250, 'tag': 251, 'mrs.': 252, 'wedding': 253, 'bad': 254, 'ooh': 255, 'stupid': 256, 'thinking': 257, 'wo': 258, 'fun': 259, 'kind': 260, 'ready': 261, 'happy': 262, 'another': 263, 'ask': 264, 'pick': 265, 'best': 266, 'phone': 267, 'next': 268, 'wrong': 269, 'friends': 270, 'richard': 271, 'whole': 272, 'might': 273, 'try': 274, 'getting': 275, 'which': 276, 'else': 277, 'funny': 278, 'second': 279, 'susan': 280, 'five': 281, 'mona': 282, 'than': 283, 'hear': 284, 'done': 285, 'coming': 286, 'someone': 287, 'ben': 288, 'course': 289, 'home': 290, 'years': 291, 'mom': 292, 'mark': 293, 'job': 294, 'yet': 295, 'later': 296, 'ring': 297, 'old': 298, 'eat': 299, 'stay': 300, 'after': 301, 'such': 302, 'problem': 303, 'today': 304, 'ow': 305, 'pete': 306, 'anyway': 307, 'trying': 308, 'looking': 309, 'green': 310, 'happen': 311, 'check': 312, 'leave': 313, 'doug': 314, 'hot': 315, 'frank': 316, 'three': 317, 'life': 318, '\\x91cause': 319, 'game': 320, 'came': 321, 'myself': 322, 'called': 323, 'crazy': 324, 'everybody': 325, 'tomorrow': 326, 'wants': 327, 'david': 328, 'keep': 329, 'women': 330, 'everything': 331, 'morning': 332, 'being': 333, 'probably': 334, 'idea': 335, 'real': 336, 'director': 337, 'may': 338, 'mine': 339, 'away': 340, 'ho': 341, 'enough': 342, 'head': 343, ':': 344, 'joanna': 345, 'move': 346, 'money': 347, 'saying': 348, 'every': 349, 'dad': 350, 'hand': 351, 'house': 352, 'coffee': 353, 'bob': 354, 'each': 355, 'hard': 356, 'father': 357, 'party': 358, 'sex': 359, 'must': 360, 'part': 361, 'apartment': 362, 'minute': 363, 'weird': 364, 'supposed': 365, 'took': 366, 'their': 367, 'year': 368, 'julie': 369, 'hold': 370, 'looks': 371, 'ha': 372, 'dinner': 373, 'telling': 374, 'person': 375, 'world': 376, 'late': 377, 'knew': 378, 'meet': 379, 'matter': 380, 'bing': 381, 'chip': 382, 'since': 383, 'both': 384, 'most': 385, 'either': 386, 'anymore': 387, 'treeger': 388, 'knows': 389, 'seen': 390, 'naked': 391, 'saw': 392, 'high': 393, 'alright': 394, 'kiss': 395, 'watch': 396, 'bring': 397, 'sleep': 398, 'danny': 399, 'anyone': 400, 'live': 401, 'turn': 402, 'wish': 403, 'though': 404, 'show': 405, 'serious': 406, 'start': 407, 'hours': 408, 'same': 409, 'elizabeth': 410, 'chance': 411, 'marry': 412, 'yourself': 413, 'question': 414, 'anybody': 415, 'deal': 416, 'lost': 417, 'use': 418, 'found': 419, 'barry': 420, 'says': 421, 'hang': 422, 'number': 423, 'food': 424, 'excuse': 425, 'already': 426, 'somebody': 427, 't': 428, 'half': 429, 'also': 430, 'bit': 431, ';': 432, 'forget': 433, 'joe': 434, 'throw': 435, 'babies': 436, 'without': 437, 'kids': 438, 'amazing': 439, 'beautiful': 440, 'tribbiani': 441, 'until': 442, 'break': 443, 'read': 444, 'story': 445, 'couple': 446, 'cool': 447, 'kathy': 448, 'gone': 449, 'minutes': 450, 'making': 451, 'comes': 452, 'teacher': 453, 'open': 454, 'sounds': 455, 'doctor': 456, 'own': 457, 'movie': 458, 'miss': 459, 'sweet': 460, 'sister': 461, 'glad': 462, 'walk': 463, 'wearing': 464, 'through': 465, 'ten': 466, 'while': 467, 'pants': 468, 'bed': 469, 'kill': 470, 'wear': 471, 'asked': 472, 'kidding': 473, 'paul': 474, 'dude': 475, 'four': 476, 'worry': 477, 'joshua': 478, 'cute': 479, 'hmm': 480, 'earl': 481, 'once': 482, 'alone': 483, 'understand': 484, 'boy': 485, 'girls': 486, 'hurt': 487, 'mind': 488, 'hate': 489, 'true': 490, 'school': 491, 'easy': 492, 'between': 493, 'under': 494, 'absolutely': 495, 'relax': 496, 'roommate': 497, 'started': 498, 'mad': 499, 'different': 500, 'ahh': 501, 'gave': 502, 'times': 503, 'hell': 504, 'bitch': 505, 'used': 506, 'ugh': 507, 'promise': 508, 'hope': 509, 'makes': 510, 'everyone': 511, 'parents': 512, 's': 513, 'hour': 514, 'buddy': 515, 'yep': 516, 'kid': 517, 'cut': 518, 'bet': 519, 'brother': 520, 'jill': 521, 'gay': 522, 'museum': 523, 'eric': 524, 'sweetie': 525, 'goes': 526, 'free': 527, \"'cause\": 528, 'wh': 529, 'uhh': 530, 'mike': 531, 'means': 532, 'sit': 533, 'important': 534, 'doin': 535, 'sir': 536, 'gets': 537, '$': 538, 'book': 539, 'face': 540, 'picture': 541, 'son': 542, 'alice': 543, 'plan': 544, 'gunther': 545, 'issac': 546, 'mon': 547, 'exactly': 548, 'moment': 549, 'table': 550, 'able': 551, 'working': 552, 'end': 553, 'ball': 554, 'unbelievable': 555, 'grandmother': 556, '\\x91em': 557, 'six': 558, 'touch': 559, 'pregnant': 560, 'buy': 561, 'fault': 562, 'moving': 563, 'close': 564, 'city': 565, 'soon': 566, 'machine': 567, 'cooking': 568, 'song': 569, 'thanksgiving': 570, 'broke': 571, 'reason': 572, 'girlfriend': 573, 'talked': 574, 'eh': 575, 'lady': 576, 'kate': 577, 'fact': 578, 'perfect': 579, 'feeling': 580, 'pay': 581, 'message': 582, 'marriage': 583, 'janine': 584, 'sick': 585, 'sr': 586, 'liked': 587, 'charlie': 588, 'hair': 589, 'many': 590, 'huge': 591, 'men': 592, 'few': 593, 'seeing': 594, 'brought': 595, 'ass': 596, 'hit': 597, 'run': 598, 'its': 599, 'heard': 600, 'small': 601, 'shoot': 602, 'win': 603, 'family': 604, 'fireman': 605, 'fire': 606, 'candy': 607, 'car': 608, 'seven': 609, 'asleep': 610, 'realize': 611, 'bathroom': 612, 'nurse': 613, 'dina': 614, 'clothes': 615, 'dance': 616, 'word': 617, 'change': 618, 'shower': 619, 'street': 620, 'smell': 621, 'asking': 622, 'forgot': 623, 'side': 624, 'aw': 625, 'aww': 626, 'birthday': 627, 'cassie': 628, 'lives': 629, 'julio': 630, 'wife': 631, 'week': 632, 'dog': 633, 'least': 634, 'porn': 635, 'eyes': 636, 'gary': 637, '2': 638, 'katie': 639, 'chloe': 640, 'larry': 641, 'class': 642, 'ursula': 643, 'building': 644, 'evil': 645, 'nobody': 646, 'estelle': 647, 'dead': 648, 'casting': 649, 'blue': 650, 'weeks': 651, 'tv': 652, 'surprise': 653, 'taking': 654, 'figure': 655, 'won': 656, 'seriously': 657, 'quick': 658, 'scared': 659, 'loved': 660, 'ohhh': 661, 'stuck': 662, 'almost': 663, 'moved': 664, 'lose': 665, 'fake': 666, 'dollars': 667, 'yours': 668, 'playing': 669, 'days': 670, 'floor': 671, 'front': 672, 'questions': 673, 'stick': 674, 'isabella': 675, 'list': 676, 'plans': 677, 'grab': 678, 'drake': 679, 'russell': 680, 'answer': 681, 'seem': 682, 'thinks': 683, 'meant': 684, 'line': 685, 'shut': 686, 'top': 687, 'ok.': 688, 'stand': 689, 'young': 690, 'fast': 691, 'ew': 692, 'rest': 693, 'eight': 694, 'bag': 695, 'terrible': 696, 'tickets': 697, 'ran': 698, 'dana': 699, 'whatever': 700, 'office': 701, 'quit': 702, 'special': 703, 'living': 704, 'bucks': 705, 'fight': 706, 'kristen': 707, 'ago': 708, 'taste': 709, '1': 710, 'underwear': 711, 'spend': 712, 'idiot': 713, 'eye': 714, 'angela': 715, 'bought': 716, 'cup': 717, 'don': 718, 'door': 719, 'restaurant': 720, 'porsche': 721, 'write': 722, 'mischa': 723, 'dum': 724, 'shot': 725, 'spent': 726, 'heads': 727, 'actor': 728, 'keys': 729, 'apparently': 730, 'wrote': 731, 'fell': 732, 'although': 733, 'boyfriend': 734, 'audition': 735, 'kyle': 736, 'excited': 737, 'against': 738, 'seems': 739, 'chef': 740, 'team': 741, 'lie': 742, 'missed': 743, 'ticket': 744, 'card': 745, 'sitting': 746, 'tired': 747, 'decided': 748, 'lunch': 749, 'shirt': 750, 'felt': 751, 'set': 752, 'town': 753, 'feels': 754, 'boxes': 755, 'heckles': 756, 'sad': 757, 'figured': 758, 'soup': 759, 'red': 760, 'pass': 761, 'robert': 762, 'lydia': 763, 'mother': 764, 'point': 765, 'interviewer': 766, 'hands': 767, 'paper': 768, 'route': 769, 'scene': 770, 'customer': 771, 'damn': 772, 'happens': 773, 'professor': 774, 'pizza': 775, 'water': 776, 'calm': 777, 'luck': 778, 'welcome': 779, 'interesting': 780, 'joke': 781, 'heart': 782, 'daddy': 783, 'ones': 784, 'mistake': 785, 'box': 786, 'o': 787, 'gim': 788, 'less': 789, 'calling': 790, 'turned': 791, 'except': 792, 'attendant': 793, 'chick': 794, 'definitely': 795, 'crush': 796, 'trust': 797, 'along': 798, 'months': 799, 'hole': 800, 'stripper': 801, 'third': 802, 'drunk': 803, 'needs': 804, 'cookies': 805, 'weekend': 806, 'store': 807, 'died': 808, 'laundry': 809, 'student': 810, 'rule': 811, 'owe': 812, 'knock': 813, 'far': 814, 'mess': 815, '3': 816, 'yesterday': 817, 'sometimes': 818, 'policeman': 819, 'window': 820, 'roger': 821, 'tour': 822, \"c'mon\": 823, 'grade': 824, 'watching': 825, 'bigger': 826, 'damnit': 827, 'light': 828, 'baldhara': 829, '(': 830, 'business': 831, 'romantic': 832, 'upset': 833, 'jim': 834, 'milk': 835, 'stage': 836, 'decide': 837, 'mail': 838, 'stanley': 839, '30': 840, 'empty': 841, 'inside': 842, 'jealous': 843, 'wondering': 844, 'finally': 845, 'london': 846, 'bunch': 847, 'kept': 848, 'feelings': 849, 'cat': 850, 'loves': 851, 'completely': 852, 'sweater': 853, 'hotel': 854, 'duck': 855, 'king': 856, 'pack': 857, 'clear': 858, 'favorite': 859, 'bobby': 860, 'franklin': 861, 'neither': 862, 'looked': 863, 'vegas': 864, 'somewhere': 865, 'drink': 866, 'changed': 867, 'fair': 868, 'obviously': 869, 'fat': 870, 'news': 871, 'entire': 872, 'cliff': 873, 'leg': 874, 'interested': 875, 'nooo': 876, 'button': 877, 'bonnie': 878, 'suck': 879, 'park': 880, 'imagine': 881, 'freak': 882, 'finish': 883, 'speak': 884, 'behind': 885, 'sound': 886, 'giving': 887, 'turkey': 888, 'nah': 889, 'starts': 890, 'die': 891, 'save': 892, 'flight': 893, 'remoray': 894, 'ate': 895, 'children': 896, 'receptionist': 897, 'husband': 898, 'terry': 899, 'alan': 900, 'shelley': 901, 'joey/drake': 902, 'full': 903, 'sucks': 904, 'tough': 905, 'james': 906, 'paid': 907, 'middle': 908, 'difference': 909, 'straight': 910, 'switch': 911, 'nervous': 912, 'met': 913, 'breaking': 914, 'smart': 915, 'kissed': 916, 'starting': 917, 'ma': 918, \"'em\": 919, 'rules': 920, 'robot': 921, 'uncle': 922, 'krista': 923, 'secret': 924, 'shopping': 925, 'train': 926, 'bastard': 927, 'twice': 928, 'jason': 929, 'christmas': 930, 'white': 931, 'kim': 932, 'leaving': 933, 'worse': 934, 'test': 935, '10': 936, 'clean': 937, 'seconds': 938, 'nickname': 939, 'dating': 940, 'freaked': 941, 'explain': 942, 'piece': 943, 'forever': 944, 'instead': 945, 'checking': 946, 'favor': 947, 'early': 948, 'band': 949, 'sometime': 950, 'casey': 951, 'sing': 952, 'downstairs': 953, 'cover': 954, 'invite': 955, 'nine': 956, 'choose': 957, 'sent': 958, 'twin': 959, 'wonder': 960, 'york': 961, 'divorce': 962, 'jake': 963, 'apologize': 964, 'waiting': 965, 'purse': 966, 'tiny': 967, 'strong': 968, 'holding': 969, 'emma': 970, 'goin': 971, 'lights': 972, 'lying': 973, 'birds': 974, \"o'clock\": 975, 'hoo': 976, 'la': 977, 'carl': 978, 'names': 979, 'hospital': 980, 'using': 981, 'steve': 982, 'megan': 983, 'quarter': 984, 'tulsa': 985, 'system': 986, 'month': 987, 'italian': 988, 'proud': 989, 'surprised': 990, 'hoping': 991, 'health': 992, 'pain': 993, 'key': 994, 'speech': 995, 'catch': 996, 'fan': 997, '..': 998, 'putting': 999, 'wonderful': 1000, 'worth': 1001, 'ways': 1002, 'dry': 1003, 'sudden': 1004, 'warm': 1005, 'letting': 1006, 'bike': 1007, 'scientist': 1008, 'stole': 1009, 'character': 1010, 'camera': 1011, 'sandwich': 1012, 'worst': 1013, 'worked': 1014, 'sensitive': 1015, 'especially': 1016, 'careful': 1017, 'college': 1018, 'genius': 1019, 'fired': 1020, 'keeps': 1021, 'bank': 1022, 'personal': 1023, 'ladies': 1024, 'future': 1025, 'happening': 1026, 'child': 1027, 'europe': 1028, 'gotten': 1029, 'remembered': 1030, 'engaged': 1031, 'dancing': 1032, 'showing': 1033, 'wine': 1034, 'across': 1035, 'ms.': 1036, 'worried': 1037, 'trip': 1038, 'aunt': 1039, 'foot': 1040, 'page': 1041, 'enjoy': 1042, 'appreciate': 1043, 'listening': 1044, 'past': 1045, 'trouble': 1046, 'daughter': 1047, 'walking': 1048, 'feet': 1049, 'guitar': 1050, 'human': 1051, 'drive': 1052, 'cheese': 1053, 'divorced': 1054, 'speed': 1055, 'order': 1056, 'relationship': 1057, 'charming': 1058, 'jane': 1059, 'walked': 1060, 'body': 1061, 'coat': 1062, 'celebrate': 1063, 'drop': 1064, 'dear': 1065, '8': 1066, 'brain': 1067, 'ethan': 1068, 'comfortable': 1069, 'quite': 1070, 'lovely': 1071, 'learned': 1072, 'cry': 1073, 'teach': 1074, 'cowboy': 1075, 'mouth': 1076, 'mindy': 1077, 'noo': 1078, 'fighting': 1079, 'guide': 1080, 'burgin': 1081, 'picked': 1082, 'birth': 1083, 'jam': 1084, 'bijan': 1085, 'needed': 1086, 'mary': 1087, 'gift': 1088, 'liam': 1089, 'reading': 1090, 'ride': 1091, 'ex': 1092, 'rooms': 1093, 'bedroom': 1094, 'places': 1095, 'outta': 1096, 'max': 1097, 'hanging': 1098, 'movies': 1099, 'kristin': 1100, 'bunny': 1101, 'security': 1102, '6': 1103, 'dump': 1104, 'monday': 1105, 'bar': 1106, 'fall': 1107, 'truth': 1108, 'case': 1109, 'central': 1110, 'horny': 1111, 'clerk': 1112, 'conversation': 1113, 'hat': 1114, 'scary': 1115, 'yay': 1116, 'sandwiches': 1117, 'earrings': 1118, 'saturday': 1119, 'fashion': 1120, 'incredible': 1121, 'size': 1122, 'inappropriate': 1123, 'broken': 1124, 'age': 1125, 'tape': 1126, 'pocket': 1127, 'lucky': 1128, 'dirty': 1129, 'likes': 1130, 'ronni': 1131, 'otherwise': 1132, 'technically': 1133, 'follow': 1134, 'hearing': 1135, 'music': 1136, 'couch': 1137, 'fix': 1138, 'ended': 1139, 'accident': 1140, 'toby': 1141, 'takes': 1142, 'hooked': 1143, 'boring': 1144, 'annoying': 1145, 'counter': 1146, 'bride': 1147, 'dress': 1148, 'regular': 1149, 'handle': 1150, 'assistant': 1151, 'chicken': 1152, 'guest': 1153, 'outside': 1154, 'buffay': 1155, 'attention': 1156, 'hundred': 1157, 'kick': 1158, 'sell': 1159, 'sarah': 1160, 'double': 1161, 'sheet': 1162, 'universe': 1163, 'cheesecake': 1164, 'cares': 1165, 'choice': 1166, 'singing': 1167, 'roll': 1168, 'critic': 1169, 'dumped': 1170, 'post': 1171, 'extra': 1172, 'writing': 1173, 'desk': 1174, 'basically': 1175, 'ugly': 1176, 'dentist': 1177, 'twenty': 1178, 'tie': 1179, 'experience': 1180, 'm': 1181, 'y': 1182, 'dream': 1183, 'words': 1184, 'voice': 1185, 'pie': 1186, 'john': 1187, 'hurry': 1188, 'ice': 1189, 'sleeping': 1190, 'tall': 1191, 'kicking': 1192, 'flowers': 1193, 'boutros': 1194, 'short': 1195, 'secrets': 1196, 'final': 1197, 'invited': 1198, 'anywhere': 1199, '7': 1200, 'books': 1201, 'thoughts': 1202, 'memories': 1203, 'plane': 1204, 'busy': 1205, 'view': 1206, 'lover': 1207, 'jokes': 1208, 'honest': 1209, 'shh': 1210, 'wake': 1211, 'gym': 1212, 'breast': 1213, 'll': 1214, 'boat': 1215, 'maid': 1216, 'honor': 1217, 'plus': 1218, 'cross': 1219, 'note': 1220, 'deep': 1221, 'sold': 1222, 'possible': 1223, 'sense': 1224, 'shoes': 1225, 'crap': 1226, 'bugs': 1227, 'nap': 1228, 'pig': 1229, 'disgusting': 1230, 'woo': 1231, 'jail': 1232, 'guard': 1233, 'miller': 1234, 'presents': 1235, 'calls': 1236, 'reset': 1237, 'crying': 1238, 'backup': 1239, 'none': 1240, 'realized': 1241, 'judge': 1242, 'area': 1243, 'whitney': 1244, 'smoking': 1245, 'star': 1246, 'magic': 1247, 'spending': 1248, 'zane': 1249, 'official': 1250, 'learn': 1251, 'potential': 1252, 'kori': 1253, 'company': 1254, 'perhaps': 1255, 'fit': 1256, 'waitress': 1257, 'poor': 1258, 'poem': 1259, 'sergei': 1260, 'teaching': 1261, 'bond': 1262, 'stranger': 1263, 'bucket': 1264, '\\x91kay': 1265, 'during': 1266, 'sports': 1267, 'talkin': 1268, 'breathe': 1269, 'dark': 1270, 'share': 1271, 'bus': 1272, 'unless': 1273, 'sign': 1274, 'pink': 1275, 'sort': 1276, 'hung': 1277, 'stevens': 1278, 'usually': 1279, 'embarrassed': 1280, 'minsk': 1281, 'vic': 1282, 'nothin': 1283, 'script': 1284, 'jenny': 1285, 'chair': 1286, 'ridiculous': 1287, 'jack': 1288, 'actors': 1289, 'easier': 1290, 'death': 1291, 'meeting': 1292, 'op': 1293, 'tux': 1294, 'oo': 1295, 'control': 1296, 'sink': 1297, 'hero': 1298, 'blew': 1299, 'canoe': 1300, 'center': 1301, 'throwing': 1302, 'built': 1303, 'yemen': 1304, 'library': 1305, 'everywhere': 1306, 'familiar': 1307, 'santa': 1308, 'nancy': 1309, 'realise': 1310, 'drinking': 1311, 'sophie': 1312, 'grandma': 1313, 'nipple': 1314, 'rhodes': 1315, 'congratulations': 1316, 'accept': 1317, 'club': 1318, 'sec': 1319, 'asks': 1320, 'british': 1321, 'jester': 1322, 'rock': 1323, 'actual': 1324, 'strip': 1325, 'covered': 1326, 'become': 1327, 'copy': 1328, 'sauce': 1329, 'turns': 1330, 'female': 1331, 'rather': 1332, 'expecting': 1333, 'caught': 1334, 'fill': 1335, 'soo': 1336, 'slow': 1337, 'standing': 1338, 'opened': 1339, 'bite': 1340, 'hates': 1341, 'major': 1342, 'lemonade': 1343, 'tea': 1344, 'juice': 1345, 'jerk': 1346, 'suppose': 1347, 'goodbye': 1348, 'holiday': 1349, '25': 1350, 'nope': 1351, 'slept': 1352, 'subway': 1353, 'duncan': 1354, 'shame': 1355, 'hah': 1356, 'chute': 1357, 'smelly': 1358, 'leslie': 1359, 'twelve': 1360, 'board': 1361, 'works': 1362, 'french': 1363, 'pull': 1364, 'tried': 1365, 'hormones': 1366, 'expect': 1367, 'whose': 1368, 'tom': 1369, 'ad': 1370, 'pages': 1371, 'saving': 1372, '40': 1373, 'vendor': 1374, 'trick': 1375, 'forward': 1376, 'spot': 1377, 'computer': 1378, 'air': 1379, 'cab': 1380, 'lean': 1381, 'neck': 1382, 'uncomfortable': 1383, 'san': 1384, 'percent': 1385, 'sr.': 1386, 'longer': 1387, 'return': 1388, 'killed': 1389, 'interview': 1390, 'treat': 1391, 'killing': 1392, 'mac': 1393, 'oberman': 1394, 'candles': 1395, 'cream': 1396, 'poker': 1397, '%': 1398, 'hooker': 1399, 'e': 1400, 'hitting': 1401, 'selling': 1402, 'hall': 1403, 'device': 1404, 'annabelle': 1405, 'allowed': 1406, 'd': 1407, 'honeymoon': 1408, 'lately': 1409, 'bill': 1410, 'enjoying': 1411, 'dumb': 1412, 'letter': 1413, 'safe': 1414, 'single': 1415, 'lots': 1416, 'lorraine': 1417, 'richard\\x92s': 1418, 'kitchen': 1419, 'closer': 1420, 'unfair': 1421, 'numbers': 1422, 'paolo': 1423, 'island': 1424, 'screwed': 1425, 'zelner': 1426, 'loose': 1427, 'swear': 1428, 'acting': 1429, 'exciting': 1430, 'clearly': 1431, 'negative': 1432, 'picking': 1433, 'black': 1434, 'greatest': 1435, 'sorta': 1436, 'librarian': 1437, 'hats': 1438, 'tree': 1439, 'stopped': 1440, 'rick': 1441, 'brave': 1442, 'suds': 1443, 'tasted': 1444, 'heldi': 1445, 'bug': 1446, 'melissa': 1447, 'wendy': 1448, 'jen': 1449, 'lauren': 1450, '5': 1451, 'closing': 1452, 'beer': 1453, 'mm': 1454, 'touched': 1455, 'vase': 1456, 'jade': 1457, 'legs': 1458, 'afternoon': 1459, 'impression': 1460, 'arms': 1461, 'garbage': 1462, 'video': 1463, 'insurance': 1464, 'toilet': 1465, 'indian': 1466, 'pool': 1467, 'blind': 1468, 'commercial': 1469, 'delivery': 1470, 'pee': 1471, 'issue': 1472, 'public': 1473, 'loud': 1474, 'practice': 1475, 'raymond': 1476, 'barely': 1477, 'cause': 1478, 'beat': 1479, 'boyfriends': 1480, 'address': 1481, 'cleaner': 1482, 'charity': 1483, 'research': 1484, 'nuts': 1485, 'history': 1486, 'attracted': 1487, 'greg': 1488, 'teeth': 1489, 'ace': 1490, 'anniversary': 1491, 'vestibule': 1492, 'drew': 1493, 'rich': 1494, 'department': 1495, 'pal': 1496, 'famous': 1497, 'land': 1498, 'saved': 1499, 'dammit': 1500, 'opportunity': 1501, '50': 1502, 'trade': 1503, 'entertainment': 1504, 'cards': 1505, 'quickly': 1506, 'vince': 1507, 'lived': 1508, 'act': 1509, 'typical': 1510, 'zoo': 1511, 'send': 1512, 'stars': 1513, 'groom': 1514, 'apart': 1515, 'pieces': 1516, 'handling': 1517, 'present': 1518, 'horrible': 1519, 'account': 1520, 'dates': 1521, 'cafeteria': 1522, 'salad': 1523, 'rid': 1524, 'slice': 1525, 'chi': 1526, 'whenever': 1527, 'threw': 1528, 'space': 1529, 'cups': 1530, 'boobs': 1531, 'shop': 1532, 'bra': 1533, '17': 1534, 'n': 1535, 'oooh': 1536, 'emergency': 1537, 'soap': 1538, 'burn': 1539, 'litter': 1540, 'plastic': 1541, 'evening': 1542, 'notice': 1543, 'tests': 1544, 'danielle': 1545, 'sexy': 1546, 'kip': 1547, 'massage': 1548, 'hers': 1549, 'g': 1550, 'noise': 1551, 'service': 1552, 'rip': 1553, 'click': 1554, 'singer': 1555, 'beard': 1556, 'pretending': 1557, 'switching': 1558, 'grown': 1559, 'friday': 1560, 'rogers': 1561, 'cost': 1562, 'expensive': 1563, 'trash': 1564, 'mix': 1565, 'rosselini': 1566, 'admit': 1567, 'misunderstood': 1568, 'biggest': 1569, 'altar': 1570, 'named': 1571, 'chasing': 1572, 'fifth': 1573, 'beach': 1574, 'blazer': 1575, 'fear': 1576, 'boss': 1577, 'court': 1578, 'sexual': 1579, '4': 1580, 'knicks': 1581, 'punch': 1582, 'hypothetically': 1583, 'market': 1584, 'certainly': 1585, 'ruin': 1586, 'itself': 1587, 'yelling': 1588, 'fourth': 1589, 'diego': 1590, 'states': 1591, 'goofing': 1592, 'pulling': 1593, 'bottom': 1594, 'oww': 1595, 'games': 1596, 'plate': 1597, 'pair': 1598, 'lipstick': 1599, 'skin': 1600, 'paying': 1601, 'ehh': 1602, 'million': 1603, 'wha': 1604, 'sweetheart': 1605, 'aruba': 1606, 'bernice': 1607, 'farber': 1608, 'junior': 1609, 'possibly': 1610, 'manager': 1611, 'closed': 1612, '\\x91til': 1613, 'gee': 1614, 'awful': 1615, 'coats': 1616, 'thread': 1617, 'cameras': 1618, 'eating': 1619, 'dressed': 1620, '15': 1621, 'fruit': 1622, 'borrow': 1623, 'goggles': 1624, 'international': 1625, 'country': 1626, 'centimeters': 1627, 'j': 1628, 'private': 1629, 'millions': 1630, 'respect': 1631, 'sisters': 1632, 'lesbian': 1633, 'tight': 1634, 'bee': 1635, 'rhyme': 1636, 'poughkeepsie': 1637, 'wash': 1638, 'bars': 1639, 'breath': 1640, 'letters': 1641, 'wet': 1642, 'ours': 1643, 'puck': 1644, 'ordered': 1645, 'terrific': 1646, 'butt': 1647, 'near': 1648, '80': 1649, 'whew': 1650, 'afraid': 1651, 'noodle': 1652, 'host': 1653, 'screw': 1654, 'heh': 1655, 'george': 1656, 'lurker': 1657, 'deserve': 1658, 'chuck': 1659, 'join': 1660, 'hoshi': 1661, 'partner': 1662, 'noooo': 1663, 'needle': 1664, 'cobb': 1665, 'mouse': 1666, 'gun': 1667, 'hurts': 1668, 'annulment': 1669, 'basket': 1670, 'towel': 1671, 'quitting': 1672, 'played': 1673, 'limit': 1674, 'shoe': 1675, 'bake': 1676, 'seat': 1677, 'friendly': 1678, 'bla': 1679, '200': 1680, 'ladle': 1681, 'fifteen': 1682, 'section': 1683, 'smooth': 1684, 'information': 1685, 'tank': 1686, 'wesley': 1687, 'healthy': 1688, 'waiter': 1689, 'heaven': 1690, 'squeeze': 1691, 'paula': 1692, 'rain': 1693, 'comin': 1694, 'brolin': 1695, 'trudie': 1696, 'base': 1697, 'montreal': 1698, 'loser': 1699, 'allesandro': 1700, 'omnipotent': 1701, 'duties': 1702, 'heading': 1703, 'division': 1704, 'certain': 1705, 'ameri': 1706, 'notch': 1707, 'specifics': 1708, 'kangaroo': 1709, 'war': 1710, 'messed': 1711, 'dying': 1712, 'thinkin': 1713, 'sees': 1714, 'pure': 1715, 'lined': 1716, 'stomach': 1717, 'century': 1718, 'laughing': 1719, 'conference': 1720, 'gentlemen': 1721, 'oy': 1722, 'responsibilities': 1723, 'ahhh': 1724, 'insane': 1725, 'nerve': 1726, 'unfortunately': 1727, 'narrowed': 1728, 'borrowed': 1729, 'bloody': 1730, 'propose': 1731, 'advice': 1732, 'prefer': 1733, 'wall': 1734, 'depends': 1735, 'peel': 1736, 'appointment': 1737, 'burning': 1738, 'league': 1739, 'dropped': 1740, 'bringing': 1741, 'era': 1742, 'known': 1743, 'wanting': 1744, 'promised': 1745, 'complement': 1746, 'goodacre': 1747, 'apartments': 1748, 'lines': 1749, 'phil': 1750, 'semi': 1751, 'everyday': 1752, 'eleven': 1753, 'film': 1754, 'perform': 1755, 'staring': 1756, 'legitimate': 1757, '[': 1758, ']': 1759, 'coulda': 1760, 'stain': 1761, 'musta': 1762, 'tony': 1763, 'pardon': 1764, 'peter': 1765, 'pretend': 1766, 'credit': 1767, 'cast': 1768, 'drinks': 1769, 'jumping': 1770, 'waste': 1771, 'support': 1772, 'planning': 1773, 'circles': 1774, 'smoke': 1775, 'match': 1776, 'excellent': 1777, 'ripped': 1778, 'ourselves': 1779, 'clinic': 1780, 'raise': 1781, 'male': 1782, 'harder': 1783, 'magician': 1784, 'cousin': 1785, 'th': 1786, 'johnson': 1787, 'france': 1788, 'western': 1789, 'barcelona': 1790, 'hiking': 1791, 'sid': 1792, 'checked': 1793, '19': 1794, 'someplace': 1795, 'cold': 1796, 'favour': 1797, 'rent': 1798, 'tells': 1799, 'sells': 1800, 'spacecamp': 1801, 'afford': 1802, 'invented': 1803, 'impossible': 1804, 'field': 1805, 'correct': 1806, 'given': 1807, 'blond': 1808, 'serve': 1809, 'ai': 1810, 'disagree': 1811, 'collection': 1812, 'knocked': 1813, 'pressure': 1814, 'obvious': 1815, 'ooooh': 1816, 'review': 1817, 'classy': 1818, 'spilled': 1819, 'kitty': 1820, 'hungry': 1821, 'competition': 1822, 'stack': 1823, 'football': 1824, 'nights': 1825, 'waving': 1826, 'toast': 1827, 'oatmeal': 1828, '\\x91cha': 1829, 'furniture': 1830, 'breakfast': 1831, 'commitment': 1832, 'oboe': 1833, 'fool': 1834, 'period': 1835, 'peeking': 1836, 'fellow': 1837, 'older': 1838, 'intense': 1839, 'falling': 1840, 'hidden': 1841, 'besides': 1842, 'hmmm': 1843, 'road': 1844, 'hitchhiker': 1845, 'musician': 1846, '20': 1847, 'tomato': 1848, 'finished': 1849, 'taken': 1850, 'license': 1851, 'blow': 1852, 'weirdest': 1853, 'labor': 1854, 'stolen': 1855, 'lookin': 1856, 'arm': 1857, 'phoebs': 1858, 'ton': 1859, 'non': 1860, 'laminated': 1861, 'ahead': 1862, '13': 1863, 'angry': 1864, 'freeze': 1865, 'setting': 1866, 'joanne': 1867, 'lets': 1868, 'bell': 1869, 'agreed': 1870, 'jamie': 1871, 'cramp': 1872, 'gali': 1873, 'opening': 1874, 'bird': 1875, 'upstairs': 1876, 'action': 1877, 'toy': 1878, 'fund': 1879, 'waxine': 1880, 'strips': 1881, 'russia': 1882, 'audience': 1883, 'bear': 1884, 'knocking': 1885, 'engagement': 1886, 'telethon': 1887, 'gala': 1888, 'flying': 1889, 'fancy': 1890, 'glass': 1891, 'yell': 1892, 'franzblau': 1893, 'armadillo': 1894, 'became': 1895, 'routine': 1896, 'insist': 1897, 'push': 1898, 'carry': 1899, 'combination': 1900, 'law': 1901, 'airport': 1902, 'focus': 1903, 'winning': 1904, 'marcel': 1905, 'animal': 1906, 'whoever': 1907, 'results': 1908, 'alive': 1909, 'collins': 1910, 'suddenly': 1911, '\\x94': 1912, 'unagi': 1913, 'aware': 1914, 'homemade': 1915, 'moon': 1916, 'safely': 1917, 'princess': 1918, 'coffeehouse': 1919, 'rude': 1920, 'drums': 1921, 'situation': 1922, 'flesh': 1923, 'doesn': 1924, 'pathetic': 1925, 'muffins': 1926, 'toner': 1927, 'controls': 1928, 'c.h.e.e.s.e.': 1929, 'schedule': 1930, 'quack': 1931, 'cervix': 1932, 'jump': 1933, 'tile': 1934, 'lifetime': 1935, 'heat': 1936, 'supervisor': 1937, 'empire': 1938, 'running': 1939, 'forgive': 1940, 'lock': 1941, 'gettin': 1942, 'often': 1943, 'chelsea': 1944, 'joseph': 1945, 'francis': 1946, 'naming': 1947, 'cancel': 1948, 'row': 1949, 'blood': 1950, 'including': 1951, 'energy': 1952, 'blocks': 1953, '500': 1954, 'sharp': 1955, 'points': 1956, 'meat': 1957, 'oil': 1958, 'bags': 1959, 'sale': 1960, 'sweeping': 1961, 'docks': 1962, 'america': 1963, 'attractive': 1964, 'odds': 1965, 'drugs': 1966, 'jacket': 1967, 'sake': 1968, 'boom': 1969, '700': 1970, 'countdown': 1971, 'sperm': 1972, 'brown': 1973, 'liking': 1974, 'reasons': 1975, 'privacy': 1976, 'color': 1977, 'remove': 1978, 'ocean': 1979, 'lily': 1980, 'gosh': 1981, 'pbs': 1982, 'pill': 1983, 'ed': 1984, 'begley': 1985, 'jr.': 1986, 'drunken': 1987, 'wells': 1988, 'natural': 1989, 'instincts': 1990, 'fly': 1991, 'whispering': 1992, 'pregnancy': 1993, 'cigarette': 1994, 'group': 1995, 'finger': 1996, 'impressive': 1997, 'pearls': 1998, 'clown': 1999, 'adam': 2000, 'boxer': 2001, 'eww': 2002, 'chicago': 2003, 'nude': 2004, 'reservations': 2005, 'complicated': 2006, 'incredibly': 2007, 'showed': 2008, 'sickness': 2009, 'just\\x97i': 2010, 'forest': 2011, 'power': 2012, 'illinois': 2013, 'considered': 2014, 'bother': 2015, 'ping': 2016, 'pong': 2017, 'planned': 2018, 'noticed': 2019, 'howie': 2020, 'alarm': 2021, 'search': 2022, 'sidney': 2023, 'marks': 2024, 'agent': 2025, 'mention': 2026, 'answering': 2027, 'saves': 2028, 'hm': 2029, 'taught': 2030, 'president': 2031, 'contraction': 2032, 'stealing': 2033, 'dial': 2034, 'television': 2035, 'nooooo': 2036, 'bumped': 2037, 'ironic': 2038, 'chan': 2039, 'magioni': 2040, 'paleontology': 2041, 'forbidden': 2042, 'novels': 2043, 'evaluation': 2044, 'concentrate': 2045, 'popular': 2046, 'project': 2047, 'matthews': 2048, 'flea': 2049, 'tons': 2050, \"d'you\": 2051, 'quiet': 2052, 'drapes': 2053, 'available': 2054, 'identical': 2055, 'twins': 2056, 'study': 2057, 'smells': 2058, 'fling': 2059, 'sugar': 2060, 'fortunately': 2061, 'poking': 2062, 'retract': 2063, 'flip': 2064, 'ducks': 2065, 'clowns': 2066, 'clever': 2067, 'ideas': 2068, 'hollow': 2069, 'uterus': 2070, 'finals': 2071, \"it's\": 2072, 'slip': 2073, '#': 2074, 'stryker': 2075, 'miracle': 2076, 'worker': 2077, 'snack': 2078, 'gum': 2079, 'neighbors': 2080, 'lawyer': 2081, 'keeping': 2082, 'du': 2083, 'recipe': 2084, 'sunday': 2085, 'lighter': 2086, 'cracking': 2087, 'awww': 2088, 'normal': 2089, 'carrying': 2090, 'medical': 2091, 'steal': 2092, 'brothers': 2093, 'gives': 2094, 'vent': 2095, 'filing': 2096, 'smile': 2097, 'kissing': 2098, 'type': 2099, 'bamboozled': 2100, 'sticks': 2101, 'lilies': 2102, 'grip': 2103, 'swing': 2104, 'teaches': 2105, 'canvas': 2106, 'client': 2107, 'mcdowell': 2108, 'amy': 2109, 'psyched': 2110, 'lead': 2111, 'b': 2112, 'joy': 2113, 'muscles': 2114, 'giant': 2115, 'leather': 2116, 'puppet': 2117, 'forty': 2118, 'dinosaur': 2119, 'geez': 2120, 'ancient': 2121, 'problems': 2122, 'attic': 2123, 'growing': 2124, 'blame': 2125, 'steak': 2126, 'scrud': 2127, 'dictionary': 2128, 'gas': 2129, 'science': 2130, 'beef': 2131, 'ground': 2132, 'yore': 2133, 'siadic': 2134, 'following': 2135, 'postpone': 2136, 'waltham': 2137, 'thquirt': 2138, 'strength': 2139, 'paris': 2140, 'conscious': 2141, 'chatracus': 2142, 'lift': 2143, 'freaking': 2144, 'harm': 2145, 'staying': 2146, 'breasts': 2147, 'minister': 2148, 'comet': 2149, 'bapstein': 2150, 'styler': 2151, 'station': 2152, 'decision': 2153, 'chase': 2154, 'jeannine': 2155, 'pancakes': 2156, 'thirsty': 2157, 'chop': 2158, 'sauti': 2159, 'hired': 2160, 'petrie': 2161, 'maitre': 2162, 'scottish': 2163, 'swedish': 2164, 'marion': 2165, 'views': 2166, 'talks': 2167, 'born': 2168, 'threatened': 2169, 'ken': 2170, 'adams': 2171, 'ghost': 2172, 'beg': 2173, 'chris': 2174, 'turning': 2175, 'seemed': 2176, 'epic': 2177, 'suggestions': 2178, 'dessert': 2179, 'buried': 2180, 'spirit': 2181, 'partying': 2182, 'seek': 2183, 'hug': 2184, 'hernia': 2185, 'dinosaurs': 2186, 'sum': 2187, 'scientists': 2188, 'importantly': 2189, 'damage': 2190, 'diaper': 2191, 'forth': 2192, 'dropping': 2193, 'awkward': 2194, 'common': 2195, 'deaf': 2196, 'exploded': 2197, 'gina': 2198, 'lecture': 2199, 'marge': 2200, 'hint': 2201, 'uma': 2202, 'thurman': 2203, 'actress': 2204, 'feminist': 2205, 'embarrassing': 2206, 'embarrass': 2207, 'easily': 2208, 'secure': 2209, 'yeah\\x97no': 2210, 'total': 2211, 'wuss': 2212, 'discovered': 2213, 'lobby': 2214, 'charge': 2215, 'adrienne': 2216, 'victor': 2217, 'eighth': 2218, 'deli': 2219, 'pet': 2220, 'navy': 2221, 'memory': 2222, 'tomatoes': 2223, 'guru': 2224, 'saj': 2225, 'waaay': 2226, 'queen': 2227, 'aim': 2228, 'von': 2229, 'keystone': 2230, 'wayne': 2231, 'level': 2232, 'earlier': 2233, 'apologise': 2234, 'atm': 2235, 'ee': 2236, \"i'm\": 2237, 'switched': 2238, 'gravy': 2239, 'fridge': 2240, 'maniac': 2241, 'ye': 2242, 'adding': 2243, 'thin': 2244, 'batman': 2245, 'worn': 2246, 'internet': 2247, 'marrying': 2248, 'member': 2249, 'saliva': 2250, 'playfully': 2251, 'cushion': 2252, 'spill': 2253, 'exact': 2254, 'l': 2255, 'robe': 2256, 'latte': 2257, 'sissy': 2258, 'nowhere': 2259, 'virginity': 2260, 'scenes': 2261, 'yuh': 2262, 'invitation': 2263, 'finds': 2264, 'drag': 2265, 'charlton': 2266, 'heston': 2267, 'oughta': 2268, 'bum': 2269, 'neat': 2270, 'rushed': 2271, 'nuclear': 2272, 'goods': 2273, 'enjoyed': 2274, 'ing': 2275, 'create': 2276, 'effective': 2277, 'unbelievably': 2278, 'nurses': 2279, 'bachelor': 2280, 'shrill': 2281, 'mill': 2282, 'dealing': 2283, 'backpacking': 2284, 'whatcha': 2285, 'messages': 2286, 'round': 2287, 'carpet': 2288, 'lap': 2289, 'nutmeg': 2290, 'professional': 2291, 'sailing': 2292, '\\x91sup': 2293, 'appointments': 2294, 'strangers': 2295, 'signed': 2296, 'kay': 2297, 'helping': 2298, 'india': 2299, 'atlantic': 2300, 'square': 2301, 'seventh': 2302, 'windows': 2303, 'betting': 2304, 'answers': 2305, 'written': 2306, 'steady': 2307, 'hockey': 2308, 'goalie': 2309, 'hairy': 2310, 'eligible': 2311, 'wig': 2312, 'respectfully': 2313, 'rocks': 2314, 'ignore': 2315, 'sunshine': 2316, 'sky': 2317, 'begin': 2318, 'ooohh': 2319, 'ec': 2320, 'drama': 2321, 'de': 2322, 'chinese': 2323, 'fits': 2324, 'chest': 2325, 'convinced': 2326, 'gorilla': 2327, 'pile': 2328, 'mexico': 2329, 'stuffing': 2330, 'honing': 2331, 'dishes': 2332, 'grow': 2333, 'cook': 2334, 'beeps': 2335, 'trusted': 2336, 'nuh': 2337, 'shave': 2338, 'impressions': 2339, 'butter': 2340, 'split': 2341, 'grant': 2342, 'socks': 2343, 'lamp': 2344, 're': 2345, 'ukrainian': 2346, 'aid': 2347, 'fantastic': 2348, 'r': 2349, 'tellin': 2350, 'appears': 2351, '\\x91bout': 2352, 'meaning': 2353, 'songs': 2354, 'pen': 2355, 'draw': 2356, 'moustache': 2357, 'iced': 2358, 'fella': 2359, 'radio': 2360, 'selfish': 2361, 'delicious': 2362, '3rd': 2363, 'criticism': 2364, 'mood': 2365, 'killer': 2366, 'feast': 2367, 'havin': 2368, 'pumpkin': 2369, 'difficult': 2370, 'penis': 2371, 'ups': 2372, 'gang': 2373, 'dare': 2374, 'saint': 2375, 'starving': 2376, 'spooky': 2377, 'ole': 2378, 'nighttime': 2379, 'factory': 2380, 'pin': 2381, 'waking': 2382, 'feeding': 2383, 'jingle': 2384, 'millionaire': 2385, 'nut': 2386, 'whip': 2387, 'popcorn': 2388, 'pushing': 2389, 'success': 2390, 'disease': 2391, 'vacation': 2392, 'florida': 2393, 'krog': 2394, 'fully': 2395, 'destroy': 2396, 'triumph': 2397, 'herself': 2398, 'kiki': 2399, 'waitressing': 2400, 'specials': 2401, 'chocolate': 2402, 'midnight': 2403, 'truck': 2404, 'jordie': 2405, 'suit': 2406, 'sun': 2407, 'mountain': 2408, 'jogging': 2409, 'property': 2410, 'lovers': 2411, 'awesome': 2412, 'thrilled': 2413, 'linen': 2414, 'motion': 2415, 'painful': 2416, 'wax': 2417, 'satin': 2418, 'plaid': 2419, 'learning': 2420, 'thirty': 2421, 'waiters': 2422, 'chefs': 2423, 'depressed': 2424, 'tad': 2425, 'a.m': 2426, 'behaved': 2427, 'tuesday': 2428, 'balls': 2429, 'method': 2430, 'blackout': 2431, 'beginning': 2432, 'sheer': 2433, 'blouse': 2434, 'doctors': 2435, 'yelled': 2436, 'catching': 2437, 'american': 2438, 'forward\\x97stop': 2439, 'ba': 2440, 'cheshhh': 2441, 'wind': 2442, 'fabulous': 2443, 'apology': 2444, 'maternity': 2445, 'hogging': 2446, 'july': 2447, 'apple': 2448, 'cubicle': 2449, 'cube': 2450, 'indeedy': 2451, 'brush': 2452, 'sweep': 2453, 'hammer': 2454, 'blade': 2455, 'cruel': 2456, 'ringing': 2457, 'helped': 2458, 'deposit': 2459, 'assumed': 2460, '48': 2461, 'joan': 2462, 'sea': 2463, 'large': 2464, 'cancelled': 2465, 'avoiding': 2466, 'wound': 2467, 'flattered': 2468, 'sensed': 2469, 'apollo': 2470, 'sixth': 2471, 'stood': 2472, 'ceremony': 2473, 'nicest': 2474, 'kicked': 2475, 'rapist': 2476, 'tiffany': 2477, 'brochures': 2478, 'paste': 2479, 'maria': 2480, \"that's\": 2481, 'silk': 2482, 'theme': 2483, 'nipples': 2484, 'career': 2485, 'gogo': 2486, 'bail': 2487, 'needy': 2488, 'egg': 2489, 'exist': 2490, 'wasting': 2491, 'guilty': 2492, 'graduated': 2493, 'lobster': 2494, 'shake': 2495, 'robbie': 2496, 'plates': 2497, '\\x91ya': 2498, 'celtics': 2499, 'sweating': 2500, '\\x91is': 2501, 'tiles': 2502, 'build': 2503, 'unit': 2504, 'cinderelly': 2505, 'scare': 2506, 'kisser': 2507, 'supply': 2508, 'catering': 2509, 'cilantro': 2510, 'reporter': 2511, 'hopping': 2512, '1,000': 2513, 'daily': 2514, 'karen': 2515, 'conquered': 2516, 'missing': 2517, 'physical': 2518, 'ultimate': 2519, 'champion': 2520, 'training': 2521, 'designer': 2522, 'beeped': 2523, 'spleen': 2524, 'stu': 2525, 'bald': 2526, 'chess': 2527, 'soak': 2528, 'blazers': 2529, 'apologizing': 2530, 'ledbetter': 2531, 'rejoin': 2532, 'donald': 2533, '22': 2534, '18': 2535, 'spelled': 2536, 'boobies': 2537, 'mint': 2538, 'treasures': 2539, 'cookie': 2540, 'planetarium': 2541, 'price': 2542, 'score': 2543, 'disposable': 2544, 'cake': 2545, 'groceries': 2546, 'report': 2547, 'eaten': 2548, 'dragon': 2549, 'wheel': 2550, 'jackass': 2551, 'contestants': 2552, 'horse': 2553, 'visit': 2554, 'allergies': 2555, 'soda': 2556, 'sweety': 2557, 'refuse': 2558, 'tramp': 2559, 'faster': 2560, 'broom': 2561, 'opposite': 2562, 'batch': 2563, 'dies': 2564, 'mailman': 2565, 'hurely': 2566, 'sucker': 2567, 'boarding': 2568, 'lens': 2569, 'alien': 2570, 'kiddin': 2571, 'suite': 2572, 'lounge': 2573, 'brings': 2574, 'avenue': 2575, 'hardly': 2576, 'closet': 2577, 'nelson': 2578, 'grass': 2579, 'dingy': 2580, 'doubt': 2581, 'hamper': 2582, 'heck': 2583, 'gorgeous': 2584, 'unusual': 2585, 'abott': 2586, 'cable': 2587, 'loan': 2588, 'jet': 2589, 'spaceship': 2590, 'helps': 2591, 'volunteer': 2592, 'pledges': 2593, 'performance': 2594, 'guts': 2595, 'sayin': 2596, 'stunning': 2597, 'offer': 2598, 'attack': 2599, 'connect': 2600, '16': 2601, '33': 2602, 'issues': 2603, 'bagel': 2604, 'confident': 2605, 'manage': 2606, 'hardest': 2607, '26': 2608, 'picnic': 2609, 'grabs': 2610, '35': 2611, 'coast': 2612, 'walls': 2613, 'shorts': 2614, 'paulo': 2615, 'awfully': 2616, 'application': 2617, 'sooo': 2618, 'panicked': 2619, \"'74\": 2620, 'latour': 2621, 'unacceptable': 2622, 'punk': 2623, 'state': 2624, 'mississ': 2625, 'blades': 2626, 'herbal': 2627, 'magazines': 2628, 'aisle': 2629, 'paints': 2630, 'charcoal': 2631, '41': 2632, 'stayed': 2633, 'paranoid': 2634, 'proposed': 2635, 'goose': 2636, 'bumps': 2637, 'rush': 2638, 'chin': 2639, 'puff': 2640, 'forgotten': 2641, 'tastes': 2642, 'crust': 2643, 'filled': 2644, 'momma': 2645, 'hopefully': 2646, \"'yes\": 2647, \"c'mere\": 2648, 'rough': 2649, 'marc': 2650, 'fingers': 2651, 'forgetting': 2652, 'al': 2653, 'sur': 2654, 'competitive': 2655, 'fish': 2656, 'capable': 2657, 'lotion': 2658, 'government': 2659, 'hated': 2660, 'label': 2661, 'you\\x97okay': 2662, 'irony': 2663, 'benefits': 2664, 'lapsed': 2665, 'rented': 2666, 'mmm': 2667, 'triple': 2668, '27.': 2669, '93': 2670, '76': 2671, 'barium': 2672, 'local': 2673, 'laugh': 2674, 'las': 2675, 'urgent': 2676, 'belt': 2677, 'lasagne': 2678, 'dogs': 2679, 'los': 2680, 'hopes': 2681, 'nudity': 2682, 'boots': 2683, 'tan': 2684, 'opera': 2685, 'recent': 2686, 'ashamed': 2687, 'whom': 2688, '8:00': 2689, 'neil': 2690, 'lasagna': 2691, 'fulfilling': 2692, 'yikes': 2693, 'accent': 2694, 'nanny': 2695, 'betty': 2696, 'chocolates': 2697, 'distract': 2698, 'abort': 2699, 'uniform': 2700, 'specially': 2701, 'classes': 2702, '\\x96': 2703, 'sheets': 2704, 'cried': 2705, 'someday': 2706, 'threesome': 2707, 'suggestion': 2708, 'potatoes': 2709, 'kinds': 2710, 'underdog': 2711, 'balloon': 2712, 'cartoon': 2713, 'reached': 2714, 'observe': 2715, \"'you\": 2716, 'chairs': 2717, '45': 2718, '2,000': 2719, 'testing': 2720, 'potato': 2721, 'officially': 2722, 'underpants': 2723, \"y'think\": 2724, 'fairly': 2725, 'patrick': 2726, 'broadway': 2727, 'tongue': 2728, 'ear': 2729, 'balance': 2730, 'tweezers': 2731, '\\x91i': 2732, 'direction': 2733, 'south': 2734, 'wished': 2735, 'lations': 2736, 'beating': 2737, 'mistakes': 2738, 'jerks': 2739, 'licked': 2740, 'ballroom': 2741, 'coma': 2742, 'hopeless': 2743, 'ramoray': 2744, 'tin': 2745, 'emotional': 2746, 'burned': 2747, 'intuitive': 2748, 'stevie': 2749, 'backstage': 2750, '9': 2751, 'mouthing': 2752, 'beans': 2753, 'nesele': 2754, 'patch': 2755, 'thumb': 2756, 'constant': 2757, 'knuckle': 2758, 'mel': 2759, 'yourselves': 2760, 'aaron': 2761, 'himself': 2762, 'fanny': 2763, 'terms': 2764, 'explains': 2765, 'laughed': 2766, 'blast': 2767, 'naps': 2768, 'jew': 2769, 'inspector': 2770, 'airline': 2771, 'employee': 2772, 'eater': 2773, 'posner': 2774, 'designers': 2775, 'laid': 2776, 'sweaty': 2777, 'subtle': 2778, 'wrecking': 2779, 'drum': 2780, 'react': 2781, 'brownie': 2782, 'foosball': 2783, 'violated': 2784, 'lo': 2785, 'helen': 2786, 'valentine': 2787, 'photos': 2788, 'fiancee': 2789, 'scooch': 2790, 'swimming': 2791, 'eggs': 2792, 'embryos': 2793, 'gumball': 2794, 'regatta': 2795, 'monana': 2796, 'monet': 2797, 'phonetically': 2798, 'memorize': 2799, 'uses': 2800, 'carefully': 2801, '23': 2802, 'testify': 2803, 'owes': 2804, '7.50': 2805, 'cursed': 2806, 'andie': 2807, 'jo': 2808, 'advantage': 2809, 'horoscope': 2810, 'twelfth': 2811, 'spat': 2812, 'series': 2813, 'tooty': 2814, 'weight': 2815, 'temporary': 2816, '4:00': 2817, 'yesss': 2818, 'landlord': 2819, 'handsome': 2820, 'makin': 2821, 'brag': 2822, 'practicing': 2823, 'anytime': 2824, 'seats': 2825, 'survived': 2826, 'prove': 2827, 'oi': 2828, 'glen': 2829, 'fiancée': 2830, 'roommates': 2831, 'boles': 2832, 'avoid': 2833, 'tune': 2834, 'purpose': 2835, 'count': 2836, \"y'see\": 2837, 'bump': 2838, 'guilt': 2839, 'vibe': 2840, 'u.s.': 2841, 'overseas': 2842, '28': 2843, 'mirror': 2844, 'leader': 2845, 'barley': 2846, 'sophisticated': 2847, 'cereal': 2848, 'flicks': 2849, 'hide': 2850, 'pushover': 2851, 'magical': 2852, 'albany': 2853, 'younger': 2854, 'taller': 2855, 'worrying': 2856, \"'it\": 2857, 'caller': 2858, 'data': 2859, 'massaging': 2860, 'pleasant': 2861, 'rachel/actress': 2862, 'knowing': 2863, 'ding': 2864, 'mckenna': 2865, 'elaine': 2866, 'slight': 2867, 'sting': 2868, 'integrity': 2869, 'just\\x97it': 2870, 'whoo': 2871, 'drops': 2872, 'luckiest': 2873, 'slide': 2874, 'happiness': 2875, 'weak': 2876, 'martin': 2877, 'scorcese': 2878, 'sat': 2879, 'remembering': 2880, 'burt': 2881, 'vision': 2882, 'recently': 2883, 'barn': 2884, 'staten': 2885, 'rhonda': 2886, 'scott': 2887, 'masculine': 2888, 'cuter': 2889, 'police': 2890, 'onstage': 2891, 'err': 2892, 'restaurants': 2893, 'tail': 2894, 'pre': 2895, 'bone': 2896, 'cecilia': 2897, 'liquor': 2898, 'loveable': 2899, 'thousand': 2900, 'expression': 2901, 'moms': 2902, 'reacted': 2903, 'settle': 2904, '&': 2905, 'ordinary': 2906, 'knives': 2907, 'instructor': 2908, 'ankle': 2909, 'hip': 2910, 'reject': 2911, 'revenge': 2912, 'bouillabaisse': 2913, 'stare': 2914, 'speacial': 2915, 'crab': 2916, 'cakes': 2917, 'woowoo': 2918, 'jay': 2919, 'leno': 2920, \"ma'am\": 2921, 'tar': 2922, 'pipe': 2923, 'hi..': 2924, 'dunno': 2925, 'driving': 2926, 'bowl': 2927, 'tryin': 2928, 'tedlock': 2929, 'hamburger': 2930, 'feature': 2931, 'customers': 2932, 'morgan': 2933, 'cancellation': 2934, 'chippy': 2935, 'jennifer': 2936, 'master': 2937, 'poet': 2938, 'shadow': 2939, 'lip': 2940, 'related': 2941, 'howdy': 2942, 'wa': 2943, 'whistle': 2944, 'spoon': 2945, 'bearnaise': 2946, 'fifty': 2947, 'convention': 2948, 'goodnight': 2949, 'wrapped': 2950, 'rat': 2951, 'traps': 2952, 'skip': 2953, 'peep': 2954, 'huggin': 2955, 'nose': 2956, 'grandfather': 2957, 'welch': 2958, 'mia': 2959, 'hamm': 2960, 'summer': 2961, 'trees': 2962, 'exit': 2963, 'cuba': 2964, 'northern': 2965, 'bees': 2966, 'parade': 2967, 'abandoned': 2968, 'material': 2969, 'swans': 2970, 'lem': 2971, 'qualified': 2972, 'askin': 2973, 'messing': 2974, 'gerston': 2975, 'santos': 2976, '717': 2977, 'stock': 2978, 'sulk': 2979, 'huntley': 2980, 'trifle': 2981, 'bicep': 2982, 'memorial': 2983, 'salt': 2984, 'simmons': 2985, 'kelly': 2986, 'progressionist': 2987, 'ship': 2988, 'witness': 2989, 'cop': 2990, 'harad': 2991, 'hums': 2992, 'pees': 2993, 'peanut': 2994, 'roof': 2995, 'announcer': 2996, 'becker': 2997, 'bruiser': 2998, 'favourite': 2999, 'kash': 3000, 'january': 3001, 'terrace': 3002, 'opossum': 3003, 'sweetest': 3004, 'sidecar': 3005, 'ralph': 3006, 'iceberg': 3007, 'questioning': 3008, 'alike': 3009, 'horsing': 3010, 'c.h.e.e.s.e': 3011, 'ehm': 3012, 'blah': 3013, 'radioactive': 3014, 'burial': 3015, 'movement': 3016, 'plains': 3017, 'transition': 3018, 'kl': 3019, 'gr': 3020, 'amount': 3021, 'detail': 3022, 'definite': 3023, 'confidence': 3024, 'betcha': 3025, \"'my\": 3026, 'vessel': 3027, 'emptier': 3028, 'interviewed': 3029, 'coached': 3030, 'ccan': 3031, 'ambulance': 3032, 'wander': 3033, 'nether': 3034, 'eternity': 3035, 'usual': 3036, 'aerobics': 3037, 'poster': 3038, \"'bout\": 3039, 'perk': 3040, 'village': 3041, 'ish': 3042, 'tomorow': 3043, 'comfort': 3044, 'wry': 3045, 'respects': 3046, 'phobo': 3047, 'phewbedo': 3048, 'phaybobo': 3049, 'auditions': 3050, 'blinding': 3051, 'lifting': 3052, 'weights': 3053, 'passed': 3054, 'to\\x97you': 3055, 'sticking': 3056, '15s': 3057, 'eighteenth': 3058, 'artifact': 3059, 'calcutta': 3060, 'homo': 3061, 'erectus': 3062, 'hum': 3063, 'paleontologist': 3064, 'keynote': 3065, 'speaker': 3066, 'professore': 3067, 'academics': 3068, 'sand': 3069, 'flood': 3070, 'bash': 3071, 'lima': 3072, 'bean': 3073, 'bubbling': 3074, 'caitlin': 3075, 'erin': 3076, 'calms': 3077, 'peaceful': 3078, 'nodded': 3079, 'insecure': 3080, 'constantly': 3081, 'reassure': 3082, 'airplane': 3083, 'dwha': 3084, '\\x91see': 3085, 'pa': 3086, 'haa': 3087, 'monger': 3088, 'nailed': 3089, 'foxtrot': 3090, 'tango': 3091, 'wracking': 3092, 'callbacks': 3093, 'nose\\x97i': 3094, 'concussion': 3095, 'sensing': 3096, 'controlled': 3097, 'glee': 3098, 'recover': 3099, 'wh\\x97excuse': 3100, 'matt': 3101, 'lauer': 3102, 'cleaned': 3103, 'ooooohh': 3104, 'scouts': 3105, 'camped': 3106, 'ooo': 3107, 'moral': 3108, 'obligation': 3109, 'oop': 3110, 'event': 3111, 'hilarious': 3112, 'hundreds': 3113, 'rode': 3114, 'faced': 3115, 'fears': 3116, 'ultimately': 3117, 'overcame': 3118, 'permanently': 3119, 'achieve': 3120, 'positronic': 3121, 'distillation': 3122, 'subatomic': 3123, 'particles': 3124, 'options': 3125, 'prototypes': 3126, 'mushroom': 3127, 'cap': 3128, 'bologna': 3129, 'toothpicks': 3130, 'mashuga': 3131, 'tasty': 3132, 'onion': 3133, 'rookie': 3134, 'souvenirs': 3135, 'poisoning': 3136, 'bazida': 3137, 'mortician': 3138, 'yard': 3139, 'ships': 3140, \"y'ever\": 3141, \"d'know\": 3142, \"y'have\": 3143, 'dick': 3144, 'shampoo': 3145, 'mesozoic': 3146, '21st': 3147, 'yess': 3148, 'zack': 3149, 'low': 3150, 'courtside': 3151, 'anvil': 3152, 'babes': 3153, 'immodest': 3154, 'whiff': 3155, 'frowned': 3156, 'upon': 3157, 'judgey': 3158, 'holierthanthou': 3159, 'reputation': 3160, 'mcnailshisstudents': 3161, 'block': 3162, 'thursday': 3163, 'caplin': 3164, 'rumors': 3165, 'stressed': 3166, 'swore': 3167, 'gods': 3168, 'sock': 3169, 'forcing': 3170, 'numb': 3171, 'nuts\\x97oh': 3172, 'gangster': 3173, 'rap': 3174, 'i.': 3175, 'visiting': 3176, 'victoria': 3177, 'model': 3178, 'trapped': 3179, \"'hey\": 3180, 'og': 3181, 'snooty': 3182, 'stocked': 3183, 'donut': 3184, 'conclusion': 3185, '8:30': 3186, 'joel': 3187, 'burg': 3188, 'briefcase': 3189, 'basis': 3190, 'freakish': 3191, 'hanger': 3192, 'expressly': 3193, 'val': 3194, 'kilmer': 3195, 'so\\x97if': 3196, 'ordained': 3197, 'weddings': 3198, 'legal': 3199, 'clergy': 3200, 'passion': 3201, 'rubs': 3202, 'dot': 3203, 'ink': 3204, 'sofa': 3205, 'cushions': 3206, 'spaghetti': 3207, 'homeless': 3208, 'know\\x97well': 3209, 'denise': 3210, 'secretly': 3211, 'counted': 3212, \"'watching\": 3213, 'watchin': 3214, 'hire': 3215, 'espresso': 3216, 'brutal': 3217, 'willing': 3218, 'travelling': 3219, 'handing': 3220, '2,100': 3221, 'chickeeeen': 3222, 'initiated': 3223, 'danger': 3224, 'olivia': 3225, 'extras': 3226, 'christian': 3227, 'sanders': 3228, 'bitten': 3229, 'peacock': 3230, 'rsvp': 3231, 'veil': 3232, 'kurt': 3233, 'douglas': 3234, 'doooo': 3235, 'pep': 3236, 'rally': 3237, 'pyramid': 3238, 'anyway\\x97umm': 3239, 'marijuana': 3240, 'cigarettes': 3241, 'dubbies': 3242, 'microphones': 3243, '6:00': 3244, 'holocaust': 3245, 'earth': 3246, 'ennnh': 3247, 'canned': 3248, 'dug': 3249, 'occasional': 3250, 'binge': 3251, 'position': 3252, 'buyer': 3253, 'expense': 3254, 'cliché': 3255, 'cheeks': 3256, 'bossy': 3257, 'domineering': 3258, 'sloppy': 3259, 'immature': 3260, 'obsessive': 3261, 'voices': 3262, 'hamilton': 3263, 'rear': 3264, 'hmm\\x97wait': 3265, 'studied': 3266, 'foothills': 3267, 'mount': 3268, 'tibidaybo': 3269, 'filter': 3270, 'tipped': 3271, \"'dear\": 3272, 'error': 3273, 'credited': 3274, 'inconvenience': 3275, 'copies': 3276, 'really\\x97i': 3277, 'panties': 3278, 'exotic': 3279, 'vermont': 3280, 'daiquiris': 3281, 'virgin': 3282, \"what\\x97y'know\": 3283, 'layman': 3284, 'arrogance': 3285, 'unable': 3286, 'to\\x97i': 3287, \"couldn't\": 3288, 'huh\\x97hmm': 3289, 'incident': 3290, 'scale': 3291, 'dumbest': 3292, 'greasy': 3293, 'puzzle\\x97beer': 3294, 'faeces': 3295, 'videos': 3296, 'museums': 3297, 'version': 3298, 'gooooood': 3299, 'racecar': 3300, 'velula': 3301, 'wins': 3302, 'daydreaming': 3303, 'outer': 3304, 'taj': 3305, 'mahal': 3306, 'slots': 3307, 'grope': 3308, 'parallel': 3309, 'stairway': 3310, 'counting': 3311, 'lightning': 3312, 'begins\\x97stop': 3313, '\\x97now': 3314, 'claims': 3315, 'dangerous': 3316, 'liaisons': 3317, 'bernie': 3318, 'phase': 3319, 'realised': 3320, 'topic': 3321, 'ruth': 3322, 'plain': 3323, 'disarray': 3324, 'flung': 3325, 'physically': 3326, 'depending': 3327, 'species': 3328, 'alumni': 3329, 'reads': 3330, 'fossil': 3331, 'samples': 3332, 'steps': 3333, 'entirely': 3334, 'giiiiiiift': 3335, 'drying': 3336, 'rod': 3337, 'horribly': 3338, 'traumatised': 3339, 'mommy': 3340, 'clock': 3341, 'ambitious': 3342, 'here\\x97': 3343, 'pyjama': 3344, 'stating': 3345, 'ohhhhh': 3346, 'mustard': 3347, 'tastrophe': 3348, 'plague': 3349, 'houses': 3350, 'clawing': 3351, 'cats': 3352, 'ooh\\x97hey': 3353, 'donuts': 3354, 'odour': 3355, 'transit': 3356, 'authority': 3357, 'carseat': 3358, 'onto': 3359, 'stroller': 3360, 'ah\\x97\\x97whoa': 3361, 'introducing': 3362, 'applied': 3363, 'fierce': 3364, 'but\\x97i': 3365, 'applaud': 3366, 'intended': 3367, 'admitted': 3368, 'friendship': 3369, 'farrell': 3370, 'overheard': 3371, 'ot': 3372, 'bigot': 3373, 'learners': 3374, 'essay': 3375, 'documents': 3376, 'toss': 3377, 'shedder': 3378, 'claim': 3379, 'national': 3380, 'sundays': 3381, 'uh..': 3382, 'restaurant..': 3383, 'telescope': 3384, 'creeps': 3385, 'spatters': 3386, 'watched': 3387, 'pot': 3388, '\\x91okay': 3389, 'saddest': 3390, 'camper': 3391, 'minimal': 3392, 'rethink': 3393, 'underwear\\x97you': 3394, 'fabric': 3395, 'softener': 3396, 'adventure': 3397, 'delvecchio': 3398, 'imagination': 3399, 'hibachi': 3400, 'affect': 3401, 'form': 3402, 'ms': 3403, 'accidentally': 3404, 'valuable': 3405, 'steer': 3406, 'ju': 3407, 'girlie': 3408, 'wired': 3409, 'stereo': 3410, 'disturbing': 3411, 'belongs': 3412, 'bitter': 3413, 'chapter': 3414, 'peek': 3415, 'clicked': 3416, 'spoil': 3417, 'whazzup': 3418, 'molly': 3419, 'complex': 3420, 'unlikely': 3421, 'geeky': 3422, 'vulnerability': 3423, 'factor': 3424, 'here\\x97but': 3425, '29.': 3426, 'savings': 3427, 'focusing': 3428, 'consider': 3429, 'length': 3430, 'rope': 3431, 'nouse': 3432, 'grace': 3433, 'rhyming': 3434, 'styles': 3435, 'more..': 3436, 'beside': 3437, 'meeeee': 3438, 'eeee': 3439, 'partners': 3440, '\\x91look': 3441, 'doodle': 3442, 'busty': 3443, 'as..': 3444, 'general': 3445, 'ment': 3446, 'brilliant': 3447, 'sincerely': 3448, 'wisely': 3449, '1st': 3450, '2nd': 3451, 'particular': 3452, 'superb': 3453, 'complaint': 3454, 'oh..please': 3455, 'traditional': 3456, 'grilled': 3457, 'fixin': 3458, 'funyuns': 3459, 'magnificent': 3460, 'vividly': 3461, 'mouthful': 3462, 'reverse': 3463, 'nana': 3464, \"'me\": 3465, 'java': 3466, '1939': 3467, '24': 3468, 'nono': 3469, 'poison': 3470, 'involved': 3471, 'mature': 3472, 'presenter': 3473, 'category': 3474, 'returning': 3475, 'nominees': 3476, 'wheeler': 3477, 'aquarius': 3478, 'gemini': 3479, 'taurus': 3480, 'virgo': 3481, 'sagittarius': 3482, 'meantime': 3483, 'bernard': 3484, 'hear\\x97\\x97mother': 3485, 'jan': 3486, 'contracting': 3487, 'wide': 3488, 'pelvis': 3489, 'unwitting': 3490, 'essence': 3491, 'crawl': 3492, 'meddled': 3493, 'according': 3494, 'da': 3495, 'sparkly': 3496, 'wonerful': 3497, 'capades': 3498, 'wooo': 3499, 'matador': 3500, 'happenin': 3501, 'stupider': 3502, 'medieval': 3503, 'antique': 3504, 'fortune': 3505, 'ridiculously': 3506, 'crystal': 3507, 'f': 3508, 'flennin': 3509, 'depressing': 3510, 'soft': 3511, 'pretzel': 3512, 'id': 3513, 'bras': 3514, \"do\\x97y'know\": 3515, 'be\\x97okay': 3516, 'jurassic': 3517, 'scarf': 3518, 'tucked': 3519, 'ewww': 3520, 'ezels': 3521, 'campaign': 3522, 'caf': 3523, 'hazel': 3524, 'foam': 3525, 'missy': 3526, 'alternate': 3527, 'crawler': 3528, 'raised': 3529, 'awareness': 3530, 'doorknob': 3531, 'grows': 3532, 'spring': 3533, 'adorable': 3534, 'equipped': 3535, 'fourteen': 3536, 'protected': 3537, 'tornado': 3538, 'dreamless': 3539, 'dirt': 3540, 'dumping': 3541, 'reality': 3542, \"i'm..\": 3543, 'artelle': 3544, 'blobbies': 3545, 'cleansing': 3546, 'firemen': 3547, 'cramps': 3548, 'voulez': 3549, 'vous': 3550, 'coucher': 3551, 'avec': 3552, 'moi': 3553, 'ce': 3554, 'soir': 3555, 'cafe': 3556, 'maurice': 3557, 'fascinated': 3558, 'talky': 3559, 'golden': 3560, 'menu': 3561, 'silently': 3562, 'airhead': 3563, 'forgets': 3564, 'picture\\x97i': 3565, 'churo': 3566, 'paulette': 3567, 'vincent': 3568, 'soaked': 3569, 'judy': 3570, 'diaphragm': 3571, 'chew': 3572, 'halloween': 3573, 'withdrawal': 3574, 'applying': 3575, 'grasp': 3576, '\\x91easy': 3577, 'tab': 3578, 'zine': 3579, 'nighties': 3580, 'nerves': 3581, 'deadened': 3582, 'bikini': 3583, 'kilt': 3584, 'skirt': 3585, 'knee': 3586, 'haircut': 3587, 'guides': 3588, 'alley': 3589, 'wave': 3590, 'butternut': 3591, 'squash': 3592, 'squatternut': 3593, 'buash': 3594, 'reliving': 3595, 'indians': 3596, \"i\\x97y'know\": 3597, 'edgy': 3598, 'ette': 3599, 'papers': 3600, 'chewed': 3601, 'trap': 3602, 'chewing': 3603, 'harassment': 3604, 'cases': 3605, 'urine': 3606, 'cuts': 3607, 'emeril': 3608, 'broiling': 3609, 'pan': 3610, 'caterpillars': 3611, 'william': 3612, 'sonoma': 3613, 'champ': 3614, 'battery': 3615, 'skimp': 3616, '112': 3617, '110': 3618, 'mingle': 3619, 'ease': 3620, 'solider': 3621, 'tommy': 3622, 'wingman': 3623, 'buds': 3624, 'frat': 3625, 'bros': 3626, 'lobbing': 3627, 'yellow': 3628, 'chord': 3629, '7143457': 3630, 'lecturer': 3631, 'layering': 3632, 'fabrics': 3633, 'colours': 3634, 'instance': 3635, 'schemp': 3636, 'deadline': 3637, 'fundamentally': 3638, 'unmarriable': 3639, 'parachute': 3640, 'knapsack': 3641, 'dressy': 3642, 'merry': 3643, 'platform': 3644, 'millennium': 3645, '\\x91cut': 3646, 'update': 3647, '\\x91cos': 3648, 'stronger': 3649, 'scarves': 3650, 'tulip': 3651, 'londoners': 3652, 'tourists': 3653, 'poems': 3654, 'back\\x97stop': 3655, 'wedged': 3656, 'soooo': 3657, 'mini': 3658, 'van': 3659, 'neutral': 3660, 'haul': 3661, '2030': 3662, 'computers': 3663, 'functions': 3664, 'theoretically': 3665, 'download': 3666, 'interfacing': 3667, 'bumb': 3668, 'stays': 3669, 'bernoulli': 3670, 'principle': 3671, 'newton': 3672, 'aaargh': 3673, 'slutty': 3674, 'lingerie': 3675, 'hurtin': 3676, 'skidmark': 3677, 'overdue': 3678, 'overweight': 3679, 'ni': 3680, 'chou': 3681, 'stroke': 3682, 'tingly': 3683, 'hickey': 3684, 'speaks': 3685, 'held': 3686, 'but\\x97okay': 3687, 'scores': 3688, 'roast': 3689, 'pizzas': 3690, 'just\\x97there': 3691, 'thinkers': 3692, 'leaders': 3693, 'peeing': 3694, 'lid': 3695, 'oke': 3696, 'dokey': 3697, 'per': 3698, 'se': 3699, 'interactive': 3700, 'wildlife': 3701, 'animals': 3702, 'docile': 3703, 'cornered': 3704, 'objects': 3705, 'banana': 3706, 'jungle': 3707, 'horns': 3708, 'rabbit': 3709, 'gains': 3710, 'specimen': 3711, 'process': 3712, 'allow': 3713, 'haha': 3714, 'hyphen': 3715, 'bicentennial': 3716, 'felon': 3717, 'fallin': 3718, 'shiny': 3719, 'chad': 3720, 'miserable': 3721, 'seahorse': 3722, 'seahorses': 3723, 'toward': 3724, '.what': 3725, 'terrified': 3726, 'goofin': 3727, 'leedbetter': 3728, 'namesake': 3729, 'clamed': 3730, '\\x93aww': 3731, 'entering': 3732, 'puppies': 3733, 'exposed': 3734, 'sexually': 3735, 'satisfy': 3736, 'fulfill': 3737, 'eel': 3738, 'replica': 3739, 'sends': 3740, 'orbit': 3741, 'captain': 3742, 'cupid': 3743, 'dwarf': 3744, 'clark': 3745, 'happier': 3746, 'reinforcements': 3747, 'rape\\x97': 3748, 'a\\x97ah': 3749, 'pays': 3750, 'pl': 3751, 'this\\x97ah': 3752, 'just\\x97if': 3753, 'matches': 3754, 'timing': 3755, 'fires': 3756, 'gossiping': 3757, 'diets': 3758, 'moderation': 3759, 'understood': 3760, 'unbearable': 3761, 'tequila': 3762, 'partly': 3763, 'lesson': 3764, 'session': 3765, '1200': 3766, 'lycra': 3767, 'spandex': 3768, 'dared': 3769, 'briefs': 3770, 'flap': 3771, 'heels': 3772, 'posture': 3773, 'lumberjack': 3774, 'lacys': 3775, 'masculinity': 3776, 'lusts': 3777, 'i…it': 3778, 'nursing': 3779, 'yowsa': 3780, 'lord': 3781, 'that…': 3782, 'suity': 3783, 'pillman': 3784, 'counselor': 3785, 'added': 3786, 'but\\x97come': 3787, 'vulnerable': 3788, 'cha': 3789, 'ching': 3790, 'sung': 3791, 'authorized': 3792, 'distribute': 3793, \"just\\x97y'know\": 3794, 'reciprocate': 3795, 'blessing': 3796, 'meaningless': 3797, 'surrounded': 3798, 'charm': 3799, 'mistaken': 3800, 'badly': 3801, 'that\\x97it': 3802, 'convince': 3803, 'ravioli': 3804, 'dinosaur..': 3805, 'thing..': 3806, '..dr.': 3807, 'our..': 3808, 'supportive': 3809, 'quack..': 3810, 'opens': 3811, 'flame': 3812, 'snow': 3813, 'knick': 3814, '.whoa': 3815, 'ewing': 3816, 'rebuilding': 3817, 'waah': 3818, 'wha..aa': 3819, 'costalano': 3820, 'choking': 3821, 'retainer': 3822, 'hating': 3823, 'punches': 3824, 'devil': 3825, 'satan': 3826, 'smock': 3827, 'd.d.s': 3828, 'complementary': 3829, 'climbing': 3830, 'retiling': 3831, 'yo': 3832, 'spackel': 3833, 'lay': 3834, 'copying': 3835, \"..y'know\": 3836, 'd.j': 3837, 'philly': 3838, 'champagne': 3839, 'anniversaries': 3840, 'lasts': 3841, 'fantasy': 3842, 'fantasies': 3843, 'sour': 3844, 'sneak': 3845, 'cockpit': 3846, 'stewardess': 3847, 'trial': 3848, 'supplies': 3849, 'blouses': 3850, 'dresses': 3851, 'purses': 3852, 'bloomingdale': 3853, 'okayyyyy': 3854, 'paint': 3855, 'sword': 3856, 'replace': 3857, 'baguette': 3858, 'balded': 3859, 'nnnnn': 3860, \"g'night\": 3861, '98': 3862, '90/10': 3863, 'wh\\x97no': 3864, 'tennille': 3865, 'influence': 3866, 'dozens': 3867, 'case\\x97\\x97yay': 3868, 'callin': 3869, '92.3': 3870, 'wxrk': 3871, 'k': 3872, 'challenge': 3873, 'tron': 3874, 'ditch': 3875, 'possibility': 3876, 'girlfriends': 3877, 'intellectual': 3878, 'conquer': 3879, 'banned': 3880, '49': 3881, 'trainer': 3882, 'koon': 3883, 'doe': 3884, 'brazilian': 3885, 'octagon': 3886, 'designed': 3887, 'ruptured': 3888, 'joked': 3889, 'shows': 3890, 'morse': 3891, 'lied': 3892, 'risky': 3893, 'frozen': 3894, 'lake': 3895, 'mask': 3896, 'cameron': 3897, 'diaz': 3898, 'sabotage': 3899, 'gate': 3900, 'packing': 3901, 'trench': 3902, 'bums': 3903, 'genuinely': 3904, 'fort': 3905, 'danced': 3906, 'fallen': 3907, 'furnished': 3908, 'rage': 3909, 'i\\x97what': 3910, '.and': 3911, '12': 3912, 'cutting': 3913, 'seventeen': 3914, '\\x91laser': 3915, 'floyd': 3916, 'occurred': 3917, '\\x91the': 3918, 'munchies': 3919, 'nyu': 3920, 'dorms': 3921, \"'cookie\": 3922, 'envelope': 3923, 'stuffers': 3924, 'stamp': 3925, 'lickers': 3926, 'resumes': 3927, 'eclipse': 3928, 'soaps': 3929, 'shampoos': 3930, 'need\\x97\\x97what': 3931, 'murray': 3932, 'handed': 3933, 'yugoslavian': 3934, 'not\\x97that': 3935, 'milan': 3936, 'respond': 3937, 'superiors': 3938, 'l.a': 3939, 'after\\x97i': 3940, 'lyin': 3941, 'leeeeean': 3942, 'triscadecaphobia': 3943, 'edges': 3944, 'entitled': 3945, 'angel': 3946, 'losing': 3947, 'losers': 3948, 'spin': 3949, 'google': 3950, 'think\\x97oh': 3951, 'gimmie': 3952, 'flirting': 3953, 'flirt': 3954, 'ewwuck': 3955, 'graceful': 3956, 'dried': 3957, 'seashores': 3958, 'abandoner': 3959, 'custard': 3960, 'goooooood': 3961, 'licence': 3962, 'revoked': 3963, 'slips': 3964, 'cotton': 3965, 'lifeguards': 3966, 'dismantle': 3967, 'care\\x97i': 3968, 'offered': 3969, 'fran': 3970, 'wenus': 3971, 'whooooaaaa': 3972, 'picky': 3973, 'grieve': 3974, 'wholesale': 3975, '*fell*': 3976, 'socket': 3977, 'tinted': 3978, 'brownies': 3979, 'tooth': 3980, 'invisible': 3981, 'dentists': 3982, 'hygienist': 3983, '\\x91albino': 3984, 'oral': 3985, 'hygiene': 3986, 'floss': 3987, 'coincidence': 3988, 'dreadful': 3989, 'acted': 3990, 'england': 3991, 'celebrities': 3992, 'spots': 3993, 'forgiving': 3994, 'sarandon': 3995, 'political': 3996, 'donated': 3997, 'cans': 3998, 'geography': 3999, 'jetway': 4000, 'i\\x97he': 4001, 'federal': 4002, 'regulations': 4003, 'beats': 4004, 'receive': 4005, 'doubling': 4006, 'bonus': 4007, '100': 4008, '1,500': 4009, 'get\\x97no': 4010, 'somehow': 4011, 'presenting': 4012, 'tuttle': 4013, 'mission': 4014, 'asteroid': 4015, '37135': 4016, \"'fraid\": 4017, 'aaaah': 4018, 'wonderfulness': 4019, 'creepy': 4020, 'screwing': 4021, 'handshake': 4022, 'that\\x97i': 4023, 'manly': 4024, 'slut': 4025, 'greely': 4026, 'theory': 4027, 'dominance': 4028, 'freeman': 4029, 'graduate': 4030, 'seminar': 4031, 'sounded': 4032, 'schmair': 4033, 'superstar': 4034, 'pouring': 4035, 'feasted': 4036, \"don't\\x97whoa\": 4037, 'god\\x97ow': 4038, '\\x97oo': 4039, 'crushing': 4040, 'bones': 4041, 'ouch': 4042, 'constructive': 4043, 'solution': 4044, 'chalk': 4045, 'headin': 4046, '1982': 4047, 'hardware': 4048, 'redo': 4049, 'highly': 4050, 'inch': 4051, 'glued': 4052, 'pry': 4053, 'gouged': 4054, 'surgeons': 4055, 'colon': 4056, 'tummy': 4057, 'purred': 4058, 'jeez': 4059, 'the\\x97that': 4060, '\\x91hi': 4061, 'homesick': 4062, 'lads': 4063, 'babe': 4064, 'scrum': 4065, 'bedrooms': 4066, 'baths': 4067, 'erwin': 4068, 'skinny': 4069, 'sunglasses': 4070, 'holds': 4071, 'stealer': 4072, 'stung': 4073, 'style\\x97what': 4074, 'victorian': 4075, 'doorknobs': 4076, 'cupert': 4077, 'hewitt': 4078, 'dragged': 4079, 'ornate': 4080, 'ninth': 4081, 'finest': 4082, 'oak': 4083, 'east': 4084, 'mississippi': 4085, 'prettiest': 4086, 'lace': 4087, 'craftsmanship': 4088, 'gepeto': 4089, '5,000': 4090, '300': 4091, 'changing': 4092, 'profit': 4093, 'accountant': 4094, 'shark': 4095, 'crossword': 4096, 'dots': 4097, 'maroon': 4098, 'comedy': 4099, 'petite': 4100, 'wee': 4101, 'mute': 4102, 'jewelry': 4103, 'neurologist': 4104, 'comprehensive': 4105, 'overview': 4106, 'status': 4107, 'response': 4108, 'clifford': 4109, 'burnett': 4110, 'november': 4111, 'based': 4112, 'mathematician': 4113, 'widower': 4114, 'muriel': 4115, 'draddle': 4116, 'rhymes': 4117, 'pole': 4118, 'breaths': 4119, 'atmosphere': 4120, 'sidestep': 4121, 'mazel': 4122, 'tov': 4123, 'uptown': 4124, 'was\\x97if': 4125, 'racist': 4126, 'positive': 4127, 'trading': 4128, 'zinfandel': 4129, 'closest': 4130, 'angelica': 4131, 'noooooooo': 4132, 'bask': 4133, 'kissey': 4134, 'european': 4135, \"just\\x97y'know\\x97stop\": 4136, 'culture': 4137, 'puke': 4138, 'cheered': 4139, 'wisdom': 4140, 'wha\\x97what': 4141, 'river': 4142, 'yo\\x97you': 4143, 'ceilings': 4144, 'sage': 4145, 'branches': 4146, 'sacramental': 4147, 'oregano': 4148, 'semen': 4149, 'righteous': 4150, 'ritual': 4151, 'ritter': 4152, 'receipt': 4153, 'nokululu': 4154, 'oon': 4155, 'scotty': 4156, 'jared': 4157, 'grappa': 4158, 'salmon': 4159, 'sets': 4160, 'slash': 4161, 'bathtub': 4162, 'skedaddle': 4163, 'highness': 4164, 'loaner': 4165, 'helper': 4166, '10.': 4167, 'imaginary': 4168, 'lafite': 4169, 'nicely': 4170, 'damaged': 4171, 'zillionaire': 4172, 'dakota': 4173, 'zip': 4174, '\\x93hey': 4175, 'nudes': 4176, '\\x93nah': 4177, 'place.\\x94': 4178, 'roller': 4179, 'shrink': 4180, 'stumble': 4181, 'item': 4182, 'j437': 4183, 'winterberry': 4184, 'savory': 4185, 'resist': 4186, 'brides': 4187, 'donna': 4188, 'carin': 4189, 'clubbing': 4190, 'imagining': 4191, 'guests': 4192, 'journal': 4193, 'drawings': 4194, 'colors': 4195, 'access': 4196, 'math': 4197, 'paths': 4198, 'random': 4199, 'intimidated': 4200, 'bore': 4201, 'manipulative': 4202, 'doors': 4203, 'adjustment': 4204, 'barry..': 4205, 'too..': 4206, 'progress': 4207, 'removal': 4208, 'glaucoma': 4209, 'haunt': 4210, 'tick': 4211, 'step': 4212, 'cubby': 4213, 'snug': 4214, 'sergio': 4215, 'valente': 4216, 'delivered': 4217, 'buttery': 4218, 'crumbly': 4219, 'graham': 4220, 'cracker': 4221, 'filling': 4222, 'tempted': 4223, 'bakery': 4224, 'scooter': 4225, 'hill': 4226, 'tracks': 4227, 'boobie': 4228, 'payback': 4229, 'express': 4230, 'freak..': 4231, 'silence': 4232, 'lambs': 4233, 'specifically': 4234, 'rubber': 4235, 'glue': 4236, 'whatever\\x97\\x97ca': 4237, 'er': 4238, 'sandra': 4239, 'very\\x97really': 4240, 'dilated': 4241, 'compare': 4242, 'interrupting': 4243, 'fed': 4244, 'bridal': 4245, 'ruined': 4246, 'raining': 4247, 'bright': 4248, 'paleontologists': 4249, 'shirts': 4250, 'others': 4251, 'punched': 4252, 'clunked': 4253, 'massager': 4254, 'reach': 4255, '.been': 4256, 'originated': 4257, 'aroma': 4258, 'giraffe': 4259, 'pirate': 4260, 'foster': 4261, 'puppets': 4262, 'interviewing': 4263, 'opponent': 4264, 'trains': 4265, 'iran': 4266, 'thieves': 4267, 'burger': 4268, 'slap': 4269, 'conducting': 4270, 'experiment': 4271, 'smack': 4272, 'websites': 4273, 'website': 4274, 'unnecessary': 4275, 'tabs': 4276, 'branching': 4277, 'solidify': 4278, 'declare': 4279, 'bowmont': 4280, 'editing': 4281, 'edit': 4282, 'spoken': 4283, 'refill': 4284, 'she\\x97well': 4285, 'janet': 4286, 'officer\\x97fireman': 4287, 'wrap': 4288, 'blanket': 4289, 'warrant': 4290, 'reattach': 4291, 'disconnect': 4292, 'circle': 4293, 'hoop': 4294, 'pointing': 4295, 'doorman': 4296, 'peeper': 4297, 'nngghhh': 4298, 'heating': 4299, 'radiator': 4300, 'rdtor': 4301, 'heyy': 4302, 'screen': 4303, 'guild': 4304, 'residual': 4305, 'expired': 4306, 'boats': 4307, 'viking': 4308, \"y'know..\": 4309, 'huh..': 4310, 'moist': 4311, 'surefire': 4312, 'talker': 4313, 'tissues': 4314, 'freemont': 4315, 'west': 4316, 'westmont': 4317, 'westburg': 4318, '27': 4319, 'drove': 4320, 'enema': 4321, 'wonderment': 4322, 'gaze': 4323, 'drowning': 4324, 'moron': 4325, 'guarantee': 4326, 'deals': 4327, 'locked': 4328, 'shook': 4329, 'seal': 4330, 'matthew': 4331, 'perry': 4332, 'signs': 4333, 'gambler': 4334, 'sweats': 4335, 'press': 4336, 'whoa\\x97hey\\x97wh': 4337, 'sliver': 4338, 'hometowns': 4339, 'nothing\\x97why': 4340, 'classroom': 4341, 'students': 4342, 'picturing': 4343, 'candels': 4344, 'lit': 4345, 'midterms': 4346, 'countries': 4347, 'tone': 4348, 'to\\x97whoa': 4349, 'lag': 4350, 'flies': 4351, 'angeles': 4352, 'loses': 4353, 'touching': 4354, 'cell': 4355, 'rang': 4356, 'features': 4357, 'handbag': 4358, 'puzzler': 4359, 'puzzle': 4360, 'contracts': 4361, 'genitals': 4362, 'phones': 4363, 'noisy': 4364, 'passin': 4365, 'phew': 4366, 'networks': 4367, 'broadcast': 4368, 'denis': 4369, 'franz': 4370, 'rocked': 4371, 'globe': 4372, 'united': 4373, 'knitting': 4374, 'knit': 4375, 'careers': 4376, 'advised': 4377, 'role': 4378, 'homosexually': 4379, 'auditioned': 4380, 'contract': 4381, 'luchhi': 4382, 'daytime': 4383, 'unexpected': 4384, 'nominated': 4385, 'simon': 4386, 'wait\\x97oh\\x97hey\\x97huh': 4387, 'sorts': 4388, 'closes': 4389, 'realilized': 4390, 'duh': 4391, 'judgmental': 4392, 'destiny': 4393, 'fulfilled': 4394, 'ageist': 4395, 'fresh': 4396, 'chipper': 4397, 'napping': 4398, 'whaddya': 4399, 'shy': 4400, 'preppy': 4401, 'understanding': 4402, 'flattery': 4403, 'dismiss': 4404, 'draft': 4405, 'wynona': 4406, 'rider': 4407, 'goofy': 4408, 'listener': 4409, 'trays': 4410, 'floopy': 4411, 'nonsense': 4412, 'english': 4413, 'permanent': 4414, 'organize': 4415, 'plural': 4416, 'allright': 4417, 'stable': 4418, 'obstacles': 4419, 'mediocre': 4420, 'lure': 4421, 'anything\\x97minute': 4422, 'finding': 4423, 'iron': 4424, 'steel': 4425, 'operators': 4426, 'schools': 4427, 'motorcycle': 4428, 'letterman': 4429, 'wore': 4430, 'mascot': 4431, 'if..': 4432, 'mellow': 4433, 'hey\\x97ooh': 4434, 'loosen': 4435, 'strings': 4436, 'mena': 4437, 'unattractive': 4438, 'laying': 4439, 'bathrooms': 4440, 'spice': 4441, 'is\\x97it': 4442, 'diner': 4443, 'skates': 4444, 'cocoa': 4445, 'lumps': 4446, 'whipped': 4447, 'add': 4448, 'peas': 4449, 'onions': 4450, 'inflatable': 4451, 'lotsa': 4452, \"d'y'see\": 4453, 'yoghurt': 4454, 'containers': 4455, 'uncoordinated': 4456, 'adjoining': 4457, 'corneas': 4458, 'reserve': 4459, 'donate': 4460, 'fluids': 4461, 'cycles': 4462, 'applicants': 4463, 'studies': 4464, 'participate': 4465, 'effects': 4466, 'receptionists': 4467, 'chips': 4468, 'oven': 4469, 'crumbies': 4470, 'monkey': 4471, 'wiped': 4472, 'biggie': 4473, 'platforms': 4474, 'taping': 4475, 'dancer': 4476, 'loosened': 4477, 'hips': 4478, 'rhythm': 4479, \"don't..\": 4480, 'deliveries': 4481, 'description': 4482, 'ummmmmmmm': 4483, 'get\\x97oh': 4484, 'date\\x97oh': 4485, 'fried': 4486, 'inflate': 4487, 'flopping': 4488, 'cocktails': 4489, 'appalachia': 4490, 'rambunctious': 4491, \"it's\\x97not\": 4492, 'graduation': 4493, 'surrogate': 4494, 'cufflinks': 4495, 'pulse': 4496, 'saucy': 4497, 'electrical': 4498, 'judging': 4499, 'mister': 4500, 'pinching': 4501, 'explanation': 4502, 'pinchable': 4503, 'bulging': 4504, 'biceps\\x97she': 4505, 'wrestle': 4506, 'manuver': 4507, 'hangs': 4508, 'poke': 4509, 'higher': 4510, 'angle': 4511, 'approaching': 4512, '\\x97': 4513, 'pervert': 4514, 'pat': 4515, 'sajak': 4516, 'alex': 4517, 'trebek': 4518, 'woolery': 4519, 'eyelash': 4520, 'curler': 4521, 'oohh': 4522, 'ohhhhhhhhhhh': 4523, 'thomas': 4524, 'gobb': 4525, 'assign': 4526, 'tricks': 4527, 'convey': 4528, 'basic': 4529, 'fishhook': 4530, 'eyebrow': 4531, 'divide': 4532, '232': 4533, 'dismissed': 4534, 'trib': 4535, 'winter': 4536, 'azzz': 4537, 'bench': 4538, 'directly': 4539, 'assuming': 4540, 'nurturing': 4541, 'congratu': 4542, 'philadelphia': 4543, 'layers': 4544, 'if\\x97no': 4545, 'freaky': 4546, 'presumptuous': 4547, 'lame': 4548, 'and\\x97oh': 4549, 'divert': 4550, 'listings': 4551, 'swallow': 4552, 'sonic': 4553, 'blaster': 4554, 'zone': 4555, 'lodged': 4556, 'throat': 4557, 'naturally': 4558, 'gellers': 4559, 'porsch': 4560, 'stories': 4561, 'neighbor': 4562, 'chunk': 4563, 'newspaper': 4564, 'helena': 4565, 'darlings': 4566, 'the\\x97\\x97wowww': 4567, 'beyond': 4568, 'lasted': 4569, 'hanukkah': 4570, 'easter': 4571, 'funeral': 4572, 'lighting': 4573, '\\x91walking': 4574, 'strange': 4575, 'japan': 4576, 'fictitious': 4577, 'agree': 4578, 'psychic': 4579, 'substantial': 4580, 'ridicule': 4581, 'fisher': 4582, 'firm': 4583, 'represents': 4584, 'fooled': 4585, 'cancer': 4586, 'emphysema': 4587, '..well': 4588, 'knight': 4589, 'candle': 4590, '46': 4591, '47': 4592, 'bwah': 4593, 'definitive': 4594, 'mwwwooooo': 4595, 'oh..': 4596, 'crowd': 4597, 'see\\x97darnit': 4598, 'shuffleboard': 4599, 'relatives': 4600, 'tolouse': 4601, 'toulouse': 4602, 'nestle': 4603, 'tollhouse': 4604, 'americans': 4605, 'butcher': 4606, 'language': 4607, 'grabbing': 4608, 'cupboard': 4609, 'appealing': 4610, 'patches': 4611, 'cigs': 4612, 'contest': 4613, 'collect': 4614, 'flaw': 4615, 'pronouncing': 4616, 'snort': 4617, 'laughs': 4618, 'flaws': 4619, 'chews': 4620, 'endearing': 4621, 'speaking': 4622, 'correctly': 4623, 'indeed': 4624, 'hooohhh': 4625, 'gloves': 4626, 'torme': 4627, '\\x91probably': 4628, 'yoo': 4629, 'litman': 4630, 'neurolic': 4631, 'keeper': 4632, 'admire': 4633, 'raising': 4634, 'meets': 4635, 'i\\x97that': 4636, 'tim': 4637, 'disgustingtons': 4638, 'wheeled': 4639, 'juicy': 4640, 'crowning': 4641, 'see\\x97i': 4642, 'example': 4643, 'normally': 4644, 'sweatpants': 4645, 'triplets': 4646, 'thrice': 4647, 'randy': 4648, 'cardboard': 4649, 'cutout': 4650, 'evander': 4651, 'holyfield': 4652, 'irreplaceable': 4653, 'generations': 4654, 'objectively': 4655, 'yeah\\x97wait': 4656, '94': 4657, 'humidity': 4658, 'dense': 4659, 'poetry': 4660, 'transcriber': 4661, 'surgically': 4662, 'attached': 4663, '350': 4664, 'windshield': 4665, 'mommies': 4666, 'ju\\x97\\x97hi': 4667, 'eddie': 4668, 'moskowitz': 4669, 'reaffirms': 4670, 'faith': 4671, 'strain': 4672, 'straightener': 4673, 'unattended': 4674, 's…': 4675, 'is…do': 4676, 'drift': 4677, 'principal': 4678, 'catcher': 4679, 'mitt': 4680, 'bonding': 4681, 'belong': 4682, 'oranges': 4683, 'memorized': 4684, '1a': 4685, 'the\\x97': 4686, 'bumming': 4687, 'layer': 4688, 'crack': 4689, 'foundation': 4690, 'asbestos': 4691, 'ceiling': 4692, 'childhood': 4693, 'uncooked': 4694, 'batter': 4695, 'unreasonable': 4696, 'rescue': 4697, 'janitor': 4698, 'resume': 4699, 'implementing': 4700, 'colored': 4701, 'labels': 4702, 'folders': 4703, 'brighten': 4704, 'cabinets': 4705, 'lynch': 4706, 'mentor': 4707, 'cultivating': 4708, 'relationships': 4709, 'geographically': 4710, 'ude': 4711, 'awhile': 4712, 'defense': 4713, 'genie': 4714, 'brunch': 4715, 'deciding': 4716, 'disrupts': 4717, 'phial': 4718, 'pox': 4719, 'release': 4720, 'hallway': 4721, 'throws': 4722, 'annoy': 4723, 'flower': 4724, 'startin': 4725, 'faint': 4726, 'subscription': 4727, 'protective': 4728, 'kettle': 4729, 'differ': 4730, 'oooooh': 4731, 'raquetball': 4732, 'ciao': 4733, 'bela': 4734, 'uhhhh': 4735, 'jockstrap': 4736, 'hel': 4737, \"'excuse\": 4738, 'blarrglarrghh': 4739, 'handbook': 4740, 'describe': 4741, 'naughty': 4742, 'taboo': 4743, 'december': 4744, 'photographer': 4745, 'jeffery': 4746, 'kings': 4747, 'heavy': 4748, 'metal': 4749, 'carcass': 4750, '\\x91c': 4751, '\\x91k': 4752, 'kleinman': 4753, 'overpriced': 4754, 'schoolchildren': 4755, 'dangle': 4756, 'pressuring': 4757, 'testosteroney': 4758, 'francisco': 4759, 'interestingly': 4760, 'leaf': 4761, 'blower': 4762, 'spontaneous': 4763, 'phrase': 4764, 'shove': 4765, '..which': 4766, 'scooching': 4767, 'riggs': 4768, 'willick': 4769, 'funnily': 4770, 'hop': 4771, 'patio': 4772, 'ladybugs': 4773, 'insects': 4774, 'suggest': 4775, 'dining': 4776, 'hombre': 4777, 'spraying': 4778, 'cologne': 4779, 'hottest': 4780, \"'cha\": 4781, 'waved': 4782, 'myth': 4783, 'lenny': 4784, 'believes': 4785, 'implantation': 4786, 'thick': 4787, 'now\\x97go': 4788, 'prepare': 4789, 'embryossss': 4790, 'stairs': 4791, 'attach': 4792, '75': 4793, 'costs': 4794, '16,000': 4795, 'that\\x97okay': 4796, 'codes': 4797, 'johnos': 4798, 'yum': 4799, 'efficient': 4800, 'condom': 4801, 'wallet': 4802, 'tanned': 4803, 'fluff': 4804, 'pillows': 4805, 'bills': 4806, 'helloooo': 4807, 'arrested': 4808, 'painterly': 4809, 'impasto': 4810, 'painted': 4811, 'outdoors': 4812, 'elusive': 4813, 'subject': 4814, 'monster': 4815, 'trucks': 4816, 'spelt': 4817, 'impressed': 4818, 'frontal': 4819, 'temporal': 4820, 'zygomatic': 4821, 'craniotomy': 4822, 'renaissance': 4823, 'caravaggio': 4824, 'chiaroscuro': 4825, 'highlight': 4826, 'anguish': 4827, 'bumpy': 4828, 'libbing': 4829, 'thorough': 4830, '\\x91does': 4831, 'glance': 4832, 'overall': 4833, 'attorney': 4834, 'annulled': 4835, 'therapy': 4836, 'forms': 4837, 'witnesses': 4838, 'teachin': 4839, 'eyed': 4840, 'spends': 4841, 'leaves': 4842, 'rodney': 4843, 'nightmare': 4844, 'storming': 4845, 'manuscript': 4846, 'josephine': 4847, 'ninja': 4848, 'advance': 4849, 'nineteenth': 4850, 'announces': 4851, 'crime': 4852, 'sidekick': 4853, 'dreamed': 4854, 'preparing': 4855, 'technology': 4856, 'bactine': 4857, 'owner': 4858, \"'poor\": 4859, 'trampled': 4860, 'woods': 4861, 'relief': 4862, 'lifted': 4863, 'loss': 4864, 'rash': 4865, 'hives': 4866, 'shortness': 4867, 'euphoria\\x97oh': 4868, 'steam': 4869, 'responsibility': 4870, 'shhh': 4871, 'runnin': 4872, '555': 4873, '9323.': 4874, 'prom': 4875, 'product': 4876, 'violation': 4877, 'grief': 4878, 'illegally': 4879, 'subletting': 4880, 'matters': 4881, 'repeating': 4882, 'comic': 4883, 'confront': 4884, 'shall': 4885, 'intercourse': 4886, 'hike': 4887, 'toots': 4888, 'arrest': 4889, 'register': 4890, 'hangover': 4891, 'brooklyn': 4892, 'heights': 4893, 'cleveland': 4894, 'ashley': 4895, 'evidently': 4896, 'waitin': 4897, 'yellin': 4898, 'christmastime': 4899, 'donations': 4900, 'spreading': 4901, 'spread': 4902, 'timer': 4903, 'sore': 4904, 'dime': 4905, 'lint': 4906, 'canadian': 4907, 'coin': 4908, 'contribution': 4909, 'complaints': 4910, 'profile': 4911, 'hoops': 4912, 'trrrribbiani': 4913, '437': 4914, 'shift': 4915, 'increase': 4916, 'rolling': 4917, 'referring': 4918, 'increasing': 4919, 'understaffed': 4920, 'appreciation': 4921, 'sanctity': 4922, 'defend': 4923, 'drain': 4924, 'ants': 4925, 'uff': 4926, 'thigh': 4927, 'theatre': 4928, 'multiplex': 4929, 'posters': 4930, 'ahhhhhhhhhh': 4931, 'taped': 4932, 'fellas': 4933, 'instinct': 4934, 'risked': 4935, 'eez': 4936, 'carat': 4937, 'congress': 4938, 'debating': 4939, 'deficit': 4940, 'reduction': 4941, 'mayor': 4942, 'fares': 4943, 'teams': 4944, 'agamemnon': 4945, 'stares': 4946, 'knack': 4947, 'reacquainted': 4948, 'trump': 4949, 'expert': 4950, 'torture': 4951, 'captured': 4952, 'girlfriend\\x97which': 4953, 'shorten': 4954, 'muse': 4955, 'confusion': 4956, 'rare': 4957, 'bookstore': 4958, 'madison': 4959, 'architecture': 4960, 'cathedral': 4961, 'pastry': 4962, 'thai': 4963, 'antiquities': 4964, 'wing': 4965, 'egypt': 4966, 'mesopotamia': 4967, 'byzantine': 4968, 'critics': 4969, 'monogamy': 4970, 'carryon': 4971, 'impact': 4972, 'skating': 4973, 'shin': 4974, 'estate': 4975, 'limb': 4976, 'modeling': 4977, 'clap': 4978, 'chorus': 4979, 'favored': 4980, 'unconsciously': 4981, 'marvel': 4982, 'sail': 4983, 'cheer': 4984, 'pony': 4985, 'dehydrated': 4986, 'japanese': 4987, 'noodles': 4988, 'fluorescent': 4989, \"'co\": 4990, 'dependent': 4991, \"'self\": 4992, 'destructive': 4993, 'flush': 4994, 'it\\x97the': 4995, 'charisma': 4996, 'fail': 4997, 'midterm': 4998, 'you\\x97i': 4999, 'blushed': 5000, '8.': 5001, 'toughest': 5002, \"'a\": 5003, 'g.i': 5004, 'protects': 5005, 'interests': 5006, '56': 5007, 'swimmers': 5008, 'tallies': 5009, 'ohhhh': 5010, 'debbie': 5011, '321': 5012, 'charla': 5013, '278.': 5014, 'platonic': 5015, 'goof': 5016, 'term': 5017, 'technical': 5018, 'definition': 5019, 'fangled': 5020, 'original': 5021, 'dan': 5022, 'neighborhood': 5023, 'serves': 5024, 'planet': 5025, 'yarns': 5026, 'weave': 5027, 'not\\x97no': 5028, 'flick': 5029, 'jus': 5030, 'go.you': 5031, 'prison': 5032, 'bitches': 5033, 'lunges': 5034, 'maintenance': 5035, 'flaky': 5036, 'lee': 5037, 'cranky': 5038, 'cuz': 5039, 'kiddy': 5040, 'invasive': 5041, 'vaginal': 5042, 'exam': 5043, 'suckers': 5044, 'mugsy': 5045, 'regularly': 5046, 'scheduled': 5047, 'programming': 5048, 'wigging': 5049, 'luggage': 5050, 'canada': 5051, 'ill': 5052, 'monnnnn': 5053, 'felicity': 5054, 'unsuccessful': 5055, 'sized': 5056, 'tips': 5057, 'brady': 5058, 'cole': 5059, 'slaw': 5060, 'buns': 5061, 'formerly': 5062, 'cows': 5063, 'turkeys': 5064, 'senior': 5065, 'whoooaa': 5066, 'milwaukee': 5067, 'disneyland': 5068, '1989': 5069, 'mechanical': 5070, 'dutch': 5071, 'fixed': 5072, 'kingdom': 5073, 'patience': 5074, 'yesteryear': 5075, 'redecorate\\x97and': 5076, 'cheap': 5077, 'offs': 5078, 'junk': 5079, '60': 5080, 'colonial': 5081, 'the\\x97okay': 5082, 'portion': 5083, 'injure': 5084, 'greenpeace': 5085, 'crew': 5086, 'shoppin': 5087, 'screaming': 5088, 'baack': 5089, 'mets': 5090, 'bat': 5091, 'shea': 5092, 'stadium': 5093, 'supergay': 5094, 'await': 5095, 'mri': 5096, 'scans': 5097, 'dna': 5098, 'gathered': 5099, 'simple': 5100, 'carbon': 5101, 'leathery': 5102, 'wrinkled': 5103, 'phoebe/waitress': 5104, 'stimulate': 5105, 'flow': 5106, 'frustrating': 5107, 'lovable': 5108, 'continue': 5109, 'glare': 5110, 'streetlight': 5111, 'breadstick': 5112, 'fangs': 5113, 'advanced': 5114, 'café': 5115, 'afterwards': 5116, 'sixteen': 5117, 'pound': 5118, 'childbirth': 5119, 'c': 5120, 'sections': 5121, 'stretching': 5122, 'co': 5123, 'lips': 5124, 'involve': 5125, 'projectile': 5126, 'vomiting': 5127, 'vail': 5128, 'syphilis': 5129, 'thankful': 5130, 'thanksgivings': 5131, 'sucked': 5132, 'lousy': 5133, 'crappy': 5134, 'bugger': 5135, 'didn': 5136, 'ain': 5137, 'italy—please': 5138, 'i…': 5139, 'strapping': 5140, 'isn': 5141, 'jaw': 5142, 'colour': 5143, \"'memo\": 5144, 'crash': 5145, 'embassy': 5146, 'parties': 5147, 'phobia': 5148, 'needles': 5149, 'phd': 5150, 'orally': 5151, 'circumstances': 5152, 'injection': 5153, 'tho': 5154, 'balcony': 5155, 'cape': 5156, 'up\\x97i': 5157, 'checkbook': 5158, 'loyal': 5159, 'ummm': 5160, 'clogging': 5161, 'unclogging': 5162, \"didn't\\x97i\": 5163, \"didn't\": 5164, 'coveralls': 5165, 'whoops': 5166, 'amanda': 5167, 'parent': 5168, 'salami': 5169, 'unhook': 5170, 'bouquet': 5171, 'moonlit': 5172, 'rue': 5173, 'sprinkle': 5174, 'rose': 5175, 'pedals': 5176, 'loooot': 5177, 'electricity': 5178, 'goal': 5179, 'no\\x97\\x97one': 5180, 'gar': 5181, 'hammered': 5182, 'shooting': 5183, 'fork': 5184, 'luckier': 5185, 'wires': 5186, 'wire': 5187, 'disappears': 5188, 'baseboard': 5189, 'darling': 5190, 'teamwork': 5191, 'gawd': 5192, 'pooper': 5193, 'within': 5194, 'coyotes': 5195, 'members': 5196, 'herd': 5197, 'slimmer': 5198, 'guy..': 5199, 'visited': 5200, 'thompson': 5201, 'blowing': 5202, 'budget': 5203, 'sleepy': 5204, 'sleeperson': 5205, 'nicknames': 5206, 'brownshirt': 5207, 'cutie': 5208, 'mcpretty': 5209, 'rejections': 5210, \"'were\": 5211, 'believable': 5212, \"'pretty\": 5213, 'yummy': 5214, 'kissin': 5215, 'obsessed': 5216, 'restraining': 5217, 'orrr': 5218, 'fabutec': 5219, 'info': 5220, 'mercial': 5221, 'mop': 5222, 'waxing': 5223, 'organic': 5224, 'substances': 5225, 'depths': 5226, \"'scuse\": 5227, 'sucking': 5228, 'corporate': 5229, 'varrrrrroom': 5230, 'varrrrrrrrrrom': 5231, 'varrrrrrrrroom': 5232, 'upstate': 5233, 'cars': 5234, 'mercy': 5235, 'burring': 5236, 'pictures\\x97are': 5237, 'rides': 5238, '\\x91where': 5239, 'bend': 5240, 'outdoorsy': 5241, 'handy': 5242, 'win\\x97ross': 5243, '3\\x97go': 5244, '2:17': 5245, 'jinx': 5246, 'meal': 5247, \"you're\\x97you\": 5248, 'seller': 5249, 'suitcases': 5250, 'raisin': 5251, 'proves': 5252, 'starlight': 5253, 'ratchet': 5254, 'suicide': 5255, 'blueberry': 5256, 'muffin': 5257, 'carlos': 5258, 'luger': 5259, 'cash': 5260, 'yearly': 5261, 'trips': 5262, 'rec': 5263, 'rustic': 5264, 'custom': 5265, 'waisted': 5266, 'duchess': 5267, 'gown': 5268, 'rack': 5269, 'phillips': 5270, 'unnatural': 5271, 'shed': 5272, 'separate': 5273, 'underneath': 5274, 'squat': 5275, 'ted': 5276, 'scares': 5277, 'teddy': 5278, 'andrew': 5279, 'pear': 5280, 'martini': 5281, 'chuckles': 5282, 'aboard': 5283, 'y\\x97': 5284, 'ohhhhhhhh': 5285, 'steered': 5286, 'noticing': 5287, 'commercials': 5288, 'smacks': 5289, 'vacuum': 5290, 'polish': 5291, 'tip': 5292, 'stoop': 5293, 'bridge': 5294, 'liar': 5295, 'suspects': 5296, 'load': 5297, 'nor': 5298, 'i\\x97i': 5299, 'good\\x97ohh': 5300, 'blurtin': 5301, 'curtain': 5302, 'hazard': 5303, 'safety': 5304, 'rub': 5305, 'gibson': 5306, 'clint': 5307, 'eastwood': 5308, 'tension': 5309, 'chemistry': 5310, 'benefit': 5311, 'erotic': 5312, 'wildly': 5313, 'unpopular': 5314, 'ph.d': 5315, 'lillian': 5316, 'fuzzy': 5317, 'mints': 5318, 'gross': 5319, \"'n\": 5320, 'pets': 5321, 'occasionally': 5322, 'pose': 5323, 'frisbee': 5324, 'tuxedos': 5325, 'approved': 5326, 'hookin': 5327, 'attend': 5328, 'limited': 5329, 'seating': 5330, 'gellar': 5331, 'relative': 5332, 'fewer': 5333, 'bricks': 5334, 'musicians': 5335, 'practical': 5336, 'monroe': 5337, 'becoming': 5338, 'confidant': 5339, 'complain': 5340, 'musical': 5341, 'visits': 5342, 'meanwhile': 5343, \"'maybe\": 5344, 'understands': 5345, \"'ohh\": 5346, \"'wh\": 5347, \"'hhiii\": 5348, \"'i\": 5349, \"'man\": 5350, 'wise': 5351, 'right\\x97oh': 5352, 'geeks': 5353, 'anthropologists': 5354, 'dudes': 5355, \"don't\\x97maybe\": 5356, 'hulk': 5357, 'mentioned': 5358, 'independent': 5359, 'chubby': 5360, 'puzzles': 5361, 'themselves': 5362, 'supporting': 5363, 'controversial': 5364, 'wallets': 5365, 'garden': 5366, 'gentleman': 5367, 'bummer': 5368, 'craziest': 5369, 'upset\\x97for': 5370, 'endless': 5371, 'unfulfilling': 5372, 'exclusive': 5373, 'granted': 5374, 'lane': 5375, 'cartoons': 5376, 'knife': 5377, 'slays': 5378, 'attacking': 5379, 'attacked': 5380, 'stopping': 5381, 'finishing': 5382, 'inflict': 5383, 'closely': 5384, 'devon': 5385, 'swift': 5386, 'bloke': 5387, 'knees': 5388, 'assume': 5389, 'again\\x97nooooooo': 5390, 'youngest': 5391, 'uh\\x97how': 5392, 'vice': 5393, 'reconfiguration': 5394, 'statistical': 5395, 'factoring': 5396, 'companies': 5397, 'cooked': 5398, 'reviewer': 5399, 'admits': 5400, 'spit': 5401, 'cocky': 5402, 'shining': 5403, 'leak': 5404, 'luckily': 5405, 'settled': 5406, \"but\\x97y'know\": 5407, 'destined': 5408, 'soul': 5409, 'mate': 5410, 'misses': 5411, 'sight': 5412, 'delicacy': 5413, '\\x91dear': 5414, 'hubba': 5415, 'bubba': 5416, 'enemas': 5417, '\\x91mattress': 5418, 'showroom': 5419, 'bambi': 5420, 'maaaaadd': 5421, 'dances': 5422, 'super': 5423, 'electrician': 5424, 'shocks': 5425, 'responsible': 5426, 'folks': 5427, \"'euphoria\": 5428, 'unbound': 5429, 'nora': 5430, 'tyler': 5431, 'passing': 5432, '79': 5433, \"'mistress\": 5434, 'cider': 5435, 'cinamon': 5436, 'eraser': 5437, 'n.y.p.d': 5438, 'busted': 5439, 'slammer': 5440, 'come\\x97i': 5441, 'believe\\x97i': 5442, 'nature': 5443, 'spectacular': 5444, 'phenomenon': 5445, 'right\\x97hey': 5446, 'respected': 5447, 'astronomer': 5448, 'passageway': 5449, 'mum': 5450, 'well..': 5451, 'positions': 5452, 'hassidic': 5453, 'jewellers': 5454, 'softball..': 5455, 'maybe..': 5456, 'sometimes..': 5457, '..i': 5458, 'innate': 5459, 'ness': 5460, 'adore': 5461, 'personally': 5462, 'gallon': 5463, 'beginners': 5464, 'basics': 5465, 'upstage': 5466, 'downstage': 5467, 'snuggle': 5468, 'volcano': 5469, 'further': 5470, 'crank': 5471, 'intrigued': 5472, 'fluid': 5473, 'darts': 5474, 'spackle': 5475, 'tiki': 5476, 'weeeell': 5477, 'rum': 5478, 'zero': 5479, 'frightening': 5480, 'suggested': 5481, 'mean\\x97no': 5482, 'you\\x97you': 5483, 'mozzarella': 5484, 'jalepino': 5485, 'poppers': 5486, 'barney': 5487, '3:30': 5488, 'courthouse': 5489, 'markson': 5490, 'fact\\x97yes': 5491, 'brains': 5492, 'smeared': 5493, 'you\\x97yeah': 5494, 'manhattan': 5495, 'stores': 5496, 'schmoon': 5497, 'transferring': 5498, 'rome': 5499, 'vienna': 5500, 'transferred': 5501, 'attract': 5502, 'stinkers': 5503, 'kostelick': 5504, 'prank': 5505, 'memos': 5506, 'sweets': 5507, 'surprisingly': 5508, 'strict': 5509, '\\x97eh': 5510, 'classics': 5511, 'marshmellows': 5512, 'concentric': 5513, 'mcclane': 5514, 'botched': 5515, 'operation': 5516, 'murder': 5517, 'punctuated': 5518, 'equilibrium': 5519, 'devonian': 5520, 'hooking': 5521, 'smarter': 5522, 'cracks': 5523, 'wink': 5524, 'apron': 5525, 'aprons': 5526, 'screening': 5527, 'facility': 5528, 'groom\\x97no': 5529, 'minor': 5530, 'setback': 5531, 'argument': 5532, 'croupier': 5533, 'dice': 5534, 'i\\x97rachel': 5535, 'deserves': 5536, 'informed': 5537, 'ohh\\x97do': 5538, 'hydrosaurids': 5539, 'unearthed': 5540, 'main': 5541, 'locations': 5542, 'hydrosaurs': 5543, 'beth': 5544, 'loreo': 5545, 'uhh…': 5546, 'well…did': 5547, 'just…i': 5548, 'unfortunate': 5549, 'levels': 5550, 'adios': 5551, 'beaudalire': 5552, 'translation': 5553, 'conductor': 5554, 'ferry': 5555, 'nova': 5556, 'scotia': 5557, 'orange': 5558, 'demeaning': 5559, 'remotely': 5560, 'yentel': 5561, 'dowdy': 5562, 'dues': 5563, 'mira': 5564, 'arthritic': 5565, 'seamstress': 5566, 'misery': 5567, 'amusing': 5568, 'mannequin': 5569, 'mannequins': 5570, 'pickle': 5571, 'hearts': 5572, 'plunge': 5573, 'pit': 5574, 'depression': 5575, 'alessandro': 5576, 'torn': 5577, 'desire': 5578, 'abysmal': 5579, 'thata': 5580, 'introduction': 5581, 'hollandaise': 5582, 'yolk': 5583, 'shallots': 5584, 'shirvel': 5585, 'tarragon': 5586, 'argentinaaaa': 5587, 'seeeeen': 5588, 'pesos': 5589, 'humaaan': 5590, 'spleeeeen': 5591, 'olè': 5592, 'entertain': 5593, 'requesting': 5594, 'bored': 5595, 'pharmaceutical': 5596, 'pharmacists': 5597, 'medeio': 5598, 'eva': 5599, 'trorro': 5600, 'womba': 5601, 'fringe': 5602, 'sides': 5603, 'readers': 5604, 'mikey': 5605, 'p': 5606, 'capture': 5607, 'possom': 5608, 'wisecracking': 5609, 'owl': 5610, 'suzie': 5611, 'rejection': 5612, 'waited': 5613, 'puts': 5614, 'bath': 5615, 'loong': 5616, '5:30': 5617, 'carried': 5618, 'breadsticks': 5619, 'marinara': 5620, 'vodka': 5621, 'celery': 5622, 'lebanon': 5623, 'nasty': 5624, 'hanks': 5625, 'meg': 5626, 'ryan': 5627, 'bullets': 5628, 'guns': 5629, 'slower': 5630, 'clinton': 5631, 'moss': 5632, '865': 5633, 'program': 5634, '20,000': 5635, 'offensive': 5636, 'bleeding': 5637, 'crotch': 5638, 'soccer': 5639, 'player': 5640, 'pinned': 5641, 'tickled': 5642, 'freckles': 5643, 'muscle': 5644, 'plinky': 5645, 'plunky': 5646, 'meadow': 5647, 'breeze': 5648, 'moonlight': 5649, 'flowing': 5650, 'wagering': 5651, 'permitted': 5652, 'waterfalls': 5653, 'trickling': 5654, 'fountains': 5655, 'calming': 5656, 'babbling': 5657, 'brook': 5658, 'awake': 5659, 'somethin': 5660, 'f.y.i..': 5661, 'afternoons': 5662, 'stephanie': 5663, 'swirl': 5664, 'strippers': 5665, 'awwww': 5666, 'competitor': 5667, 'queens': 5668, 'traveled': 5669, 'southern': 5670, 'protest': 5671, 'wisconsin': 5672, 'solved': 5673, 'grocery': 5674, 'or\\x97oh': 5675, 'linda': 5676, 'camp': 5677, 'tradition': 5678, 'couples': 5679, 'braverman': 5680, 'protecting': 5681, 'kicky': 5682, 'distance': 5683, 'fitting': 5684, 'cave': 5685, 'courage': 5686, 'fettuccini': 5687, 'alfredo': 5688, 'bubbles': 5689, 'perceptive': 5690, 'freaks': 5691, 'sending': 5692, 'cruise': 5693, 'razor': 5694, 'stitches': 5695, 'realises': 5696, 'teeny': 5697, 'comprehends': 5698, 'thousands': 5699, 'miles': 5700, 'disappointed': 5701, 'decent': 5702, 'booked': 5703, 'postponing': 5704, 'option': 5705, '\\x91or': 5706, 'backwards': 5707, 'please\\x97': 5708, 'refer': 5709, 'bobo': 5710, 'sullies': 5711, 'leon': 5712, 'purchasing': 5713, 'kidney': 5714, 'gotcha': 5715, '87': 5716, 'vcr': 5717, 'bleaker': 5718, 'mama': 5719, 'lisettie': 5720, 'enh': 5721, 'that\\x97this': 5722, '11': 5723, 'code': 5724, 'requires': 5725, 'convenience': 5726, 'warning': 5727, 'bust': 5728, 'picks': 5729, 'towels': 5730, 'loaned': 5731, 'nineteen': 5732, 'u.s.s': 5733, 'nimitz': 5734, 'interviews': 5735, 'napkin': 5736, 'greeting': 5737, 'charred': 5738, 'picture\\x97wow': 5739, 'hairier': 5740, 'chief': 5741, 'bonfire': 5742, 'busiest': 5743, \"'pl\": 5744, \"'g.stephanopoulos\": 5745, 'mediterranean': 5746, 'curiously': 5747, 'intelligent': 5748, 'stephanopoulos': 5749, 'snuffalopagus': 5750, 'spying': 5751, 'rainy': 5752, 'allll': 5753, 'boredddd': 5754, 'choices': 5755, 'printed': 5756, 'winona': 5757, 'ryder': 5758, 'michelle': 5759, 'pfieffer': 5760, 'dorothy': 5761, 'hammel': 5762, 'spins': 5763, 'fonzie': 5764, 'resident': 5765, 'specified': 5766, 'needing': 5767, 'doogie': 5768, 'officer': 5769, 'petty': 5770, 'margaritas': 5771, 'weekly': 5772, '.right': 5773, 'pleased': 5774, 'pickles': 5775, 'tampons': 5776, 'penny': 5777, 'tow': 5778, 'innocent': 5779, 'victim': 5780, 'punish': 5781, 'bound': 5782, 'rights': 5783, 'minks': 5784, 'i\\x97it': 5785, 'sits': 5786, 'straighten': 5787, 'via': 5788, 'burritos': 5789, 'reservation': 5790, 'burrito': 5791, 'shakin': 5792, \"o'mally\": 5793, 'quicker': 5794, 'required': 5795, 'evaluate': 5796, 'gel': 5797, 'cowlicky': 5798, 'sweepin': 5799, 'chimney': 5800, 'vicar': 5801, 'zelda': 5802, 'erotica': 5803, 'sexuality': 5804, 'shortbread': 5805, 'scotland': 5806, 'vikings': 5807, 'rediscover': 5808, 'roots': 5809, 'bagpipes': 5810, 'personalities': 5811, 'pillow': 5812, 'string': 5813, 'doggy': 5814, 'kitten': 5815, 'but\\x97bye': 5816, 'dancers': 5817, 'alot': 5818, 'whippin': 5819, '\\x93oh': 5820, 'opinion': 5821, 'foxy': 5822, 'sexless': 5823, 'misunderstand': 5824, 'flexed': 5825, 'concert': 5826, 'allan': 5827, 'planner': 5828, 'theta': 5829, 'beta': 5830, 'pi': 5831, 'syracuse': 5832, 'repeat': 5833, 'closets': 5834, 'here\\x97do': 5835, 'blacken': 5836, 'edge': 5837, 'forehead': 5838, 'pencil': 5839, 'ringside': 5840, 'affected': 5841, 'concentration': 5842, 'bout': 5843, 'zana': 5844, 'spindler': 5845, 'devane': 5846, 'goldie': 5847, 'zuchoff': 5848, 'mcgwire': 5849, 'j.t.': 5850, 'breadsly': 5851, 'dorfman': 5852, 'wedgie': 5853, 'architect': 5854, 'grabbed': 5855, 'fiction': 5856, 'writers': 5857, 'leading': 5858, 'invest': 5859, 'nostril': 5860, 'sneezed': 5861, 'bats': 5862, 'flew': 5863, 'leaned': 5864, 'perfectly': 5865, 'superficial': 5866, 'insignificant': 5867, 'apples': 5868, 'accounts': 5869, 'source': 5870, 'buddies': 5871, 'touchy': 5872, 'oath': 5873, 'foul': 5874, 'scholars': 5875, 'chester': 5876, 'musings': 5877, 'smiledon': 5878, 'californicus': 5879, 'evolution': 5880, 'uh\\x97wait': 5881, \"you're\": 5882, 'skipped': 5883, 'sailed': 5884, 'what\\x97you': 5885, 'roomie': 5886, 'catholic': 5887, 'falls': 5888, 'jewish': 5889, 'rainstorm': 5890, 'undress': 5891, 'tender': 5892, 'smoker': 5893, 'pace': 5894, 'perps': 5895, 'lawyers': 5896, 'perp': 5897, 'earring': 5898, 'lent': 5899, 'beads': 5900, 'risk': 5901, 'kindergarten': 5902, 'flashback': 5903, 'sonogram': 5904, 'toes': 5905, 'crib': 5906, 'serious\\x97really': 5907, 'condition': 5908, 'covers': 5909, 'still\\x97\\x97it': 5910, 'reminiscing': 5911, 'whining': 5912, 'potaato': 5913, 'valet': 5914, 'passerby': 5915, 'stepfather': 5916, 'perfume': 5917, 'enter': 5918, 'dresser': 5919, 'monocle': 5920, 'clarify': 5921, 'outing': 5922, 'louder': 5923, 'one\\x97\\x97oh': 5924, 'whoah': 5925, 'shoulda': 5926, 'trusts': 5927, 'shorter': 5928, 'discussed': 5929, 'wears': 5930, 'jody': 5931, 'led': 5932, 'occur': 5933, 'barbara': 5934, 'streisand': 5935, 'brand': 5936, 'bailed': 5937, 'reactor': 5938, 'solid': 5939, 'rehearsed': 5940, 'passionately': 5941, 'pressing': 5942, 'intently': 5943, 'weston': 5944, 'effaced': 5945, 'anxious': 5946, 'remedies': 5947, 'acoustical': 5948, 'circling': 5949, 'complete': 5950, 'ford': 5951, 'handyman': 5952, 'nevermind': 5953, 'brace': 5954, 'restrooms': 5955, '\\x91no': 5956, 'tissue': 5957, 'tuschy': 5958, 'episode': 5959, 'hostages': 5960, '\\x91rainy': 5961, 'sowed': 5962, 'bloodbath': 5963, 'noises': 5964, 'eve': 5965, 'peace': 5966, 'hunger': 5967, 'see..': 5968, \"i'd..\": 5969, 'wishes': 5970, '..excuse': 5971, 'blargon': 5972, 'alternative': 5973, 'fuels': 5974, 'aged': 5975, 'granddaughter': 5976, 'elton': 5977, 'cigar': 5978, 'butts': 5979, 'squeaky': 5980, 'cereals': 5981, 'waffles': 5982, 'foxhole': 5983, 'pacifist': 5984, 'revolution': 5985, 'continuing': 5986, 'meals': 5987, 'macaroni': 5988, 'mixed': 5989, 'homework': 5990, 'gail': 5991, 'rosten': 5992, 'reception': 5993, 'feasible': 5994, 'dove': 5995, 'easiest': 5996, '400': 5997, 'proposal': 5998, 'imagined': 5999, 'windscreen': 6000, 'bananas': 6001, 'hiring': 6002, 'committee': 6003, 'qualifications': 6004, 'convincing': 6005, 'wild': 6006, 'drank': 6007, 'look\\x97okay': 6008, '\\x97i': 6009, 'disease\\x97ralph': 6010, 'mumbles': 6011, 'mumble': 6012, 'parent/teacher': 6013, 'conferences': 6014, 'mug': 6015, 'shots': 6016, 'colorado': 6017, \"it\\x97y'know\": 6018, 'toothless': 6019, \"how's\": 6020, 'speakers': 6021, 'headrest': 6022, 'hook': 6023, 'heals': 6024, 'tiger': 6025, 'andy': 6026, 'cooper': 6027, 'baddest': 6028, 'embarrassment': 6029, 'passionate': 6030, 'way\\x97but': 6031, 'defiantly': 6032, 'hmph': 6033, 'fooling': 6034, 'mental': 6035, 'images': 6036, 'elle': 6037, 'macpherson': 6038, 'xerox': 6039, 'belly': 6040, 'muhawa': 6041, 'pops': 6042, \"'mom\": 6043, 'everything\\x97': 6044, 'wreck': 6045, 'tense': 6046, 'porsching': 6047, 'fertility': 6048, 'tadpoles': 6049, 'expenses': 6050, 'attitude': 6051, 'robots': 6052, 'reaching': 6053, 'q.t': 6054, 'glenda': 6055, 'executor': 6056, 'beggin': 6057, 'irene': 6058, 'remind': 6059, 'ears': 6060, 'bearings': 6061, 'prance': 6062, 'stroll': 6063, 'alexandra': 6064, 'okay\\x97oop': 6065, \"i'd\\x97\\x97yeah\": 6066, 'cord': 6067, 'bruise': 6068, 'puncture': 6069, 'squeezed': 6070, 'apothecary': 6071, 'noooooo': 6072, 'opium': 6073, 'cents': 6074, 'resting': 6075, 'clip': 6076, 'curling': 6077, 'packaging': 6078, 'appeal': 6079, 'silly': 6080, 'cantaloupe': 6081, 'bottle': 6082, 'regina': 6083, 'philange': 6084, 'itches': 6085, 'forking': 6086, 'wallpaper': 6087, 'faded': 6088, 'hardwood': 6089, 'floors': 6090, 'sneezes': 6091, 'china': 6092, 'cabinet': 6093, 'ooohhhh': 6094, 'ahhhh': 6095, 'crisp': 6096, 'em': 6097, '853': 6098, 'mime': 6099, 'directing': 6100, 'pacino': 6101, 'either\\x97ooh': 6102, 'entice': 6103, 'sadly': 6104, 'enticed': 6105, 'stalk': 6106, 'pricing': 6107, '\\x93good': 6108, 'p.s': 6109, 'montauk.\\x94': 6110, 'gist': 6111, 'impulsively': 6112}\n"
          ],
          "name": "stdout"
        }
      ]
    },
    {
      "cell_type": "markdown",
      "metadata": {
        "id": "1TNtKXt5NEp5"
      },
      "source": [
        "Step8. 단어의 빈도에 따라 임계값(threshold)을 넘지 않은 경우 제외시킵니다."
      ]
    },
    {
      "cell_type": "code",
      "metadata": {
        "colab": {
          "base_uri": "https://localhost:8080/"
        },
        "id": "uA30skwya-qN",
        "outputId": "24388ac1-5b51-4f93-8f9d-e29c08a144ae"
      },
      "source": [
        "threshold = 2\n",
        "total_cnt = len(tokenizer.word_index) # 단어의 수\n",
        "rare_cnt = 0 # 등장 빈도수가 threshold보다 작은 단어의 개수를 카운트\n",
        "total_freq = 0 # 훈련 데이터의 전체 단어 빈도수 총 합\n",
        "rare_freq = 0 # 등장 빈도수가 threshold보다 작은 단어의 등장 빈도수의 총 합\n",
        "\n",
        "# 단어와 빈도수의 쌍(pair)을 key와 value로 받는다.\n",
        "for key, value in tokenizer.word_counts.items():\n",
        "    total_freq = total_freq + value\n",
        "\n",
        "    # 단어의 등장 빈도수가 threshold보다 작으면\n",
        "    if(value < threshold):\n",
        "        rare_cnt = rare_cnt + 1\n",
        "        rare_freq = rare_freq + value\n",
        "\n",
        "print('단어 집합(vocabulary)의 크기 :',total_cnt)\n",
        "print('등장 빈도가 %s번 이하인 희귀 단어의 수: %s'%(threshold - 1, rare_cnt))\n",
        "print(\"단어 집합에서 희귀 단어의 비율:\", (rare_cnt / total_cnt)*100)\n",
        "print(\"전체 등장 빈도에서 희귀 단어 등장 빈도 비율:\", (rare_freq / total_freq)*100)"
      ],
      "execution_count": 10,
      "outputs": [
        {
          "output_type": "stream",
          "text": [
            "단어 집합(vocabulary)의 크기 : 6112\n",
            "등장 빈도가 1번 이하인 희귀 단어의 수: 3095\n",
            "단어 집합에서 희귀 단어의 비율: 50.6380890052356\n",
            "전체 등장 빈도에서 희귀 단어 등장 빈도 비율: 2.33241644372433\n"
          ],
          "name": "stdout"
        }
      ]
    },
    {
      "cell_type": "code",
      "metadata": {
        "colab": {
          "base_uri": "https://localhost:8080/"
        },
        "id": "AKY2vxJda-qN",
        "outputId": "2fb4a735-adaa-498a-b810-1350f07a27e8"
      },
      "source": [
        "# 전체 단어 개수 중 빈도수 2이하인 단어 개수는 제거.\n",
        "# 0번 패딩 토큰과 1번 OOV 토큰을 고려하여 +2\n",
        "vocab_size = total_cnt - rare_cnt + 2\n",
        "print('단어 집합의 크기 :',vocab_size)"
      ],
      "execution_count": 11,
      "outputs": [
        {
          "output_type": "stream",
          "text": [
            "단어 집합의 크기 : 3019\n"
          ],
          "name": "stdout"
        }
      ]
    },
    {
      "cell_type": "markdown",
      "metadata": {
        "id": "DaHKkfWMNet4"
      },
      "source": [
        "Step9. 단어집의 크기를 재설정하고, 데이터셋을 인덱스값으로 변환시킵니다."
      ]
    },
    {
      "cell_type": "code",
      "metadata": {
        "id": "JFc4r-m7a-qO",
        "colab": {
          "base_uri": "https://localhost:8080/"
        },
        "outputId": "d574a2b1-213e-4660-87d1-6dc13d4b1c10"
      },
      "source": [
        "tokenizer = Tokenizer(vocab_size, oov_token = 'OOV') \n",
        "tokenizer.fit_on_texts(X_train)\n",
        "X_train = tokenizer.texts_to_sequences(X_train)\n",
        "X_test = tokenizer.texts_to_sequences(X_test)\n",
        "print(X_train[:3])"
      ],
      "execution_count": 12,
      "outputs": [
        {
          "output_type": "stream",
          "text": [
            "[[18, 431, 4, 43, 8, 766, 376, 45, 36, 1255, 9, 1, 127, 8, 1, 22, 1452, 11, 1, 22, 1104, 987, 3], [8, 767, 6, 361, 87, 113, 56, 768, 904, 3], [18, 15, 4, 64, 3, 15, 4, 64, 3]]\n"
          ],
          "name": "stdout"
        }
      ]
    },
    {
      "cell_type": "markdown",
      "metadata": {
        "id": "bB_B_D_oOM8V"
      },
      "source": [
        "Step10. 감정분류 인덱스값을 원핫인코딩을 통해 원핫벡터로 변환시킵니다. 다중분류 문제에서 출력노드의 개수를 분류할 가지수에 맞추어야 하기 때문입니다."
      ]
    },
    {
      "cell_type": "code",
      "metadata": {
        "id": "4M-v9sZ-a-qO"
      },
      "source": [
        "# 원핫인코딩\n",
        "y_train = to_categorical(np.array(train_data['emotion']))\n",
        "y_test = to_categorical(np.array(test_data['emotion']))"
      ],
      "execution_count": 13,
      "outputs": []
    },
    {
      "cell_type": "markdown",
      "metadata": {
        "id": "2Q7qjk_fOmp1"
      },
      "source": [
        "Step11. 빈 샘플을 제거합니다."
      ]
    },
    {
      "cell_type": "code",
      "metadata": {
        "colab": {
          "base_uri": "https://localhost:8080/"
        },
        "id": "aRTaLzP-a-qO",
        "outputId": "a797f431-bb66-4d96-8266-58f8d6ec7ede"
      },
      "source": [
        "# 빈 샘플들을 제거\n",
        "drop_train = [index for index, sentence in enumerate(X_train) if len(sentence) < 1]\n",
        "X_train = np.delete(X_train, drop_train, axis=0)\n",
        "y_train = np.delete(y_train, drop_train, axis=0)\n",
        "print(len(X_train))\n",
        "print(len(y_train))"
      ],
      "execution_count": 14,
      "outputs": [
        {
          "output_type": "stream",
          "text": [
            "10268\n",
            "10268\n"
          ],
          "name": "stdout"
        },
        {
          "output_type": "stream",
          "text": [
            "/usr/local/lib/python3.6/dist-packages/numpy/core/_asarray.py:83: VisibleDeprecationWarning: Creating an ndarray from ragged nested sequences (which is a list-or-tuple of lists-or-tuples-or ndarrays with different lengths or shapes) is deprecated. If you meant to do this, you must specify 'dtype=object' when creating the ndarray\n",
            "  return array(a, dtype, copy=False, order=order)\n"
          ],
          "name": "stderr"
        }
      ]
    },
    {
      "cell_type": "markdown",
      "metadata": {
        "id": "_7ST7M1sOszZ"
      },
      "source": [
        "Step12. 대화 문장의 분포를 시각화해 봅니다. 이를 통해 입력노드의 문장 최대 수를 설정해 봅니다."
      ]
    },
    {
      "cell_type": "code",
      "metadata": {
        "colab": {
          "base_uri": "https://localhost:8080/",
          "height": 313
        },
        "id": "kaxyrpVAa-qP",
        "outputId": "2c7ce9ce-1c9c-4ae7-dc29-753cf2470099"
      },
      "source": [
        "print('대화의 최대 길이 :',max(len(l) for l in X_train))\n",
        "print('대화의 평균 길이 :',sum(map(len, X_train))/len(X_train))\n",
        "plt.hist([len(s) for s in X_train], bins=50)\n",
        "plt.xlabel('length of samples')\n",
        "plt.ylabel('number of samples')\n",
        "plt.show()"
      ],
      "execution_count": 15,
      "outputs": [
        {
          "output_type": "stream",
          "text": [
            "대화의 최대 길이 : 92\n",
            "대화의 평균 길이 : 12.923159329957148\n"
          ],
          "name": "stdout"
        },
        {
          "output_type": "display_data",
          "data": {
            "image/png": "[encoded data removed]",
            "text/plain": [
              "<Figure size 432x288 with 1 Axes>"
            ]
          },
          "metadata": {
            "tags": [],
            "needs_background": "light"
          }
        }
      ]
    },
    {
      "cell_type": "markdown",
      "metadata": {
        "id": "_eh-p-lUO8oo"
      },
      "source": [
        "Step13. 입력 문장의 최대 길이별로 비율을 측정해 봅니다."
      ]
    },
    {
      "cell_type": "code",
      "metadata": {
        "id": "FeWSypHua-qP"
      },
      "source": [
        "def below_threshold_len(max_len, nested_list):\n",
        "  cnt = 0\n",
        "  for s in nested_list:\n",
        "    if(len(s) <= max_len):\n",
        "        cnt = cnt + 1\n",
        "  print('전체 샘플 중 길이가 %s 이하인 샘플의 비율: %s'%(max_len, (cnt / len(nested_list))*100))"
      ],
      "execution_count": 16,
      "outputs": []
    },
    {
      "cell_type": "code",
      "metadata": {
        "scrolled": true,
        "colab": {
          "base_uri": "https://localhost:8080/"
        },
        "id": "O1BiSxMja-qP",
        "outputId": "3e68041b-41f0-4f3b-bcf6-30be87775c03"
      },
      "source": [
        "max_len = 40\n",
        "below_threshold_len(max_len, X_train)"
      ],
      "execution_count": 17,
      "outputs": [
        {
          "output_type": "stream",
          "text": [
            "전체 샘플 중 길이가 40 이하인 샘플의 비율: 99.58122321776392\n"
          ],
          "name": "stdout"
        }
      ]
    },
    {
      "cell_type": "markdown",
      "metadata": {
        "id": "Cg9aZIpQPQmk"
      },
      "source": [
        "Step14. 설정한 최대길이에 맞춰 데이터셋을 패딩처리합니다."
      ]
    },
    {
      "cell_type": "code",
      "metadata": {
        "id": "QfGyow4aa-qP"
      },
      "source": [
        "X_train = pad_sequences(X_train, maxlen = max_len)\n",
        "X_test = pad_sequences(X_test, maxlen = max_len)"
      ],
      "execution_count": 18,
      "outputs": []
    },
    {
      "cell_type": "markdown",
      "metadata": {
        "id": "oCXCIMGdPYXU"
      },
      "source": [
        "Step15. 모델 구성을 위한 라이브러리를 로드합니다."
      ]
    },
    {
      "cell_type": "code",
      "metadata": {
        "id": "BqzgvedHa-qP"
      },
      "source": [
        "from tensorflow.keras.layers import Embedding, Dense, LSTM\n",
        "from tensorflow.keras.models import Sequential\n",
        "from tensorflow.keras.models import load_model\n",
        "from tensorflow.keras.callbacks import EarlyStopping, ModelCheckpoint"
      ],
      "execution_count": 19,
      "outputs": []
    },
    {
      "cell_type": "markdown",
      "metadata": {
        "id": "9NWQiJrnPfbm"
      },
      "source": [
        "Step16. 임베딩층, LSTM층, 전결합층으로 모델을 구성합니다."
      ]
    },
    {
      "cell_type": "code",
      "metadata": {
        "id": "KDRSIAwza-qP"
      },
      "source": [
        "model = Sequential()\n",
        "model.add(Embedding(vocab_size, 32)) # 32 차원으로 설정\n",
        "model.add(LSTM(128,dropout=0.2)) # 노드는 128, 드롭아웃으로 20% 설정 \n",
        "model.add(Dense(9, activation='sigmoid')) # 출력노드는 분류값 9 (8이지만 인덱스 설정 시 1~8로 하여 원핫벡터가 9차원으로 정의됨), 활성함수는 sigmoid(0~1)"
      ],
      "execution_count": 20,
      "outputs": []
    },
    {
      "cell_type": "markdown",
      "metadata": {
        "id": "Ba1moh1KULkK"
      },
      "source": [
        "Step17. 검증손실값의 최소값이 4회 연속 상승 시 earlystop, 검증정확도값이 최대값일 때만 모델을 저장합니다."
      ]
    },
    {
      "cell_type": "code",
      "metadata": {
        "id": "K8N8boG9a-qQ"
      },
      "source": [
        "es = EarlyStopping(monitor='val_loss', mode='min', verbose=1, patience=4)\n",
        "mc = ModelCheckpoint('best_model.h5', monitor='val_acc', mode='max', verbose=1, save_best_only=True)"
      ],
      "execution_count": 21,
      "outputs": []
    },
    {
      "cell_type": "markdown",
      "metadata": {
        "id": "y9YEadMbUhnO"
      },
      "source": [
        "Step18. 모델을 컴파일하고, 훈련을 시작합니다. 손실함수는 다중분류에 사용하는 categorical_crossentropy를 사용합니다."
      ]
    },
    {
      "cell_type": "code",
      "metadata": {
        "colab": {
          "base_uri": "https://localhost:8080/"
        },
        "id": "C6RwCvmZa-qQ",
        "outputId": "5185b15d-68f6-4465-a6e1-692c812698e3"
      },
      "source": [
        "model.compile(optimizer='adam', loss='categorical_crossentropy', metrics=['acc'])\n",
        "history = model.fit(X_train, y_train, epochs=100, callbacks=[es, mc], batch_size=60, validation_split=0.2)"
      ],
      "execution_count": 22,
      "outputs": [
        {
          "output_type": "stream",
          "text": [
            "Epoch 1/100\n",
            "137/137 [==============================] - 10s 14ms/step - loss: 1.7502 - acc: 0.4376 - val_loss: 1.5487 - val_acc: 0.4630\n",
            "\n",
            "Epoch 00001: val_acc improved from -inf to 0.46300, saving model to best_model.h5\n",
            "Epoch 2/100\n",
            "137/137 [==============================] - 1s 8ms/step - loss: 1.4414 - acc: 0.4905 - val_loss: 1.4744 - val_acc: 0.4727\n",
            "\n",
            "Epoch 00002: val_acc improved from 0.46300 to 0.47274, saving model to best_model.h5\n",
            "Epoch 3/100\n",
            "137/137 [==============================] - 1s 7ms/step - loss: 1.3223 - acc: 0.5351 - val_loss: 1.4790 - val_acc: 0.4966\n",
            "\n",
            "Epoch 00003: val_acc improved from 0.47274 to 0.49659, saving model to best_model.h5\n",
            "Epoch 4/100\n",
            "137/137 [==============================] - 1s 8ms/step - loss: 1.2467 - acc: 0.5546 - val_loss: 1.4526 - val_acc: 0.5024\n",
            "\n",
            "Epoch 00004: val_acc improved from 0.49659 to 0.50243, saving model to best_model.h5\n",
            "Epoch 5/100\n",
            "137/137 [==============================] - 1s 7ms/step - loss: 1.1967 - acc: 0.5789 - val_loss: 1.4232 - val_acc: 0.4893\n",
            "\n",
            "Epoch 00005: val_acc did not improve from 0.50243\n",
            "Epoch 6/100\n",
            "137/137 [==============================] - 1s 7ms/step - loss: 1.1120 - acc: 0.6128 - val_loss: 1.4417 - val_acc: 0.5073\n",
            "\n",
            "Epoch 00006: val_acc improved from 0.50243 to 0.50730, saving model to best_model.h5\n",
            "Epoch 7/100\n",
            "137/137 [==============================] - 1s 8ms/step - loss: 1.0798 - acc: 0.6252 - val_loss: 1.4937 - val_acc: 0.5034\n",
            "\n",
            "Epoch 00007: val_acc did not improve from 0.50730\n",
            "Epoch 8/100\n",
            "137/137 [==============================] - 1s 8ms/step - loss: 1.0204 - acc: 0.6496 - val_loss: 1.5295 - val_acc: 0.5102\n",
            "\n",
            "Epoch 00008: val_acc improved from 0.50730 to 0.51022, saving model to best_model.h5\n",
            "Epoch 9/100\n",
            "137/137 [==============================] - 1s 8ms/step - loss: 0.9545 - acc: 0.6771 - val_loss: 1.4840 - val_acc: 0.5000\n",
            "\n",
            "Epoch 00009: val_acc did not improve from 0.51022\n",
            "Epoch 00009: early stopping\n"
          ],
          "name": "stdout"
        }
      ]
    },
    {
      "cell_type": "markdown",
      "metadata": {
        "id": "HZzpQMlPU1Rm"
      },
      "source": [
        "Step19. 모델을 검증해 봅니다."
      ]
    },
    {
      "cell_type": "code",
      "metadata": {
        "colab": {
          "base_uri": "https://localhost:8080/"
        },
        "id": "5ayt10bNa-qQ",
        "outputId": "1aa68d4f-ad08-4ca1-d863-3795b16c0ec1"
      },
      "source": [
        "loaded_model = load_model('best_model.h5')\n",
        "print(\"\\n 테스트 정확도: %.4f\" % (loaded_model.evaluate(X_test, y_test)[1]))"
      ],
      "execution_count": 23,
      "outputs": [
        {
          "output_type": "stream",
          "text": [
            "79/79 [==============================] - 1s 4ms/step - loss: 1.3958 - acc: 0.5532\n",
            "\n",
            " 테스트 정확도: 0.5532\n"
          ],
          "name": "stdout"
        }
      ]
    },
    {
      "cell_type": "markdown",
      "metadata": {
        "id": "3hAd5x29U8_O"
      },
      "source": [
        "Step20. 시험데이터셋을 실행시킬 함수를 정의합니다. 이전 전처리과정도 포함시킵니다."
      ]
    },
    {
      "cell_type": "code",
      "metadata": {
        "id": "4K2z_UfOa-qQ",
        "colab": {
          "base_uri": "https://localhost:8080/"
        },
        "outputId": "6509ea6e-09de-40a5-804d-64b0ceea5b99"
      },
      "source": [
        "# 휴리스틱 검출규칙 : 비표준어에 대해 직관적인 방법으로 규칙을 만들어 교체\n",
        "heuristic_rule = [\n",
        "    ['+', \"'\"],\n",
        "    ['-', ' - '],\n",
        "    ['  +', ' ']\n",
        "]\n",
        "\n",
        "\n",
        "def sentiment_predict(new_sentence):\n",
        "  #new_sentence = new_sentence.replace(\"[^0-9a-zA-Z ]\",\"\") # 숫자영문자 제외한 문자제거\n",
        "  new_sentence = new_sentence.lower()\n",
        "  for rule in heuristic_rule:\n",
        "    new_sentence = new_sentence.replace(rule[0],rule[1]) # 휴리스틱 규칙적용\n",
        "  new_sentence = word_tokenize(new_sentence)\n",
        "  #new_sentence = [word for word in new_sentence if not word in stopwords.words('english')] # 불용어 제거\n",
        "  encoded = tokenizer.texts_to_sequences([new_sentence]) # 정수 인코딩\n",
        "  pad_new = pad_sequences(encoded, maxlen = max_len) # 패딩\n",
        "  score = loaded_model.predict(pad_new) # 예측\n",
        "  #print(np.argmax(score))\n",
        "  return np.argmax(score)\n",
        "\n",
        "sentiment_predict('That I did That I did')"
      ],
      "execution_count": 24,
      "outputs": [
        {
          "output_type": "execute_result",
          "data": {
            "text/plain": [
              "1"
            ]
          },
          "metadata": {
            "tags": []
          },
          "execution_count": 24
        }
      ]
    },
    {
      "cell_type": "markdown",
      "metadata": {
        "id": "cdjcpyB5VICC"
      },
      "source": [
        "Step21. 시험데이터를 불러옵니다."
      ]
    },
    {
      "cell_type": "code",
      "metadata": {
        "id": "5kne2pi-QZ8P",
        "colab": {
          "base_uri": "https://localhost:8080/",
          "height": 204
        },
        "outputId": "27263c76-f016-4124-acf3-21a20d9adfb5"
      },
      "source": [
        "real_data = pd.read_csv(mypath+'en_data.csv')\n",
        "real_data['Predicted'] = 0\n",
        "real_data.head()"
      ],
      "execution_count": 25,
      "outputs": [
        {
          "output_type": "execute_result",
          "data": {
            "text/html": [
              "<div>\n",
              "<style scoped>\n",
              "    .dataframe tbody tr th:only-of-type {\n",
              "        vertical-align: middle;\n",
              "    }\n",
              "\n",
              "    .dataframe tbody tr th {\n",
              "        vertical-align: top;\n",
              "    }\n",
              "\n",
              "    .dataframe thead th {\n",
              "        text-align: right;\n",
              "    }\n",
              "</style>\n",
              "<table border=\"1\" class=\"dataframe\">\n",
              "  <thead>\n",
              "    <tr style=\"text-align: right;\">\n",
              "      <th></th>\n",
              "      <th>id</th>\n",
              "      <th>i_dialog</th>\n",
              "      <th>i_utterance</th>\n",
              "      <th>speaker</th>\n",
              "      <th>utterance</th>\n",
              "      <th>Predicted</th>\n",
              "    </tr>\n",
              "  </thead>\n",
              "  <tbody>\n",
              "    <tr>\n",
              "      <th>0</th>\n",
              "      <td>0</td>\n",
              "      <td>0</td>\n",
              "      <td>0</td>\n",
              "      <td>Phoebe</td>\n",
              "      <td>Alright, whadyou do with him?</td>\n",
              "      <td>0</td>\n",
              "    </tr>\n",
              "    <tr>\n",
              "      <th>1</th>\n",
              "      <td>1</td>\n",
              "      <td>0</td>\n",
              "      <td>1</td>\n",
              "      <td>Monica</td>\n",
              "      <td>Oh! You're awake!</td>\n",
              "      <td>0</td>\n",
              "    </tr>\n",
              "    <tr>\n",
              "      <th>2</th>\n",
              "      <td>2</td>\n",
              "      <td>0</td>\n",
              "      <td>2</td>\n",
              "      <td>Joey</td>\n",
              "      <td>Then you gotta come clean with Ma! This is not...</td>\n",
              "      <td>0</td>\n",
              "    </tr>\n",
              "    <tr>\n",
              "      <th>3</th>\n",
              "      <td>3</td>\n",
              "      <td>0</td>\n",
              "      <td>3</td>\n",
              "      <td>Mr. Tribbiani</td>\n",
              "      <td>Yeah, but this is</td>\n",
              "      <td>0</td>\n",
              "    </tr>\n",
              "    <tr>\n",
              "      <th>4</th>\n",
              "      <td>4</td>\n",
              "      <td>0</td>\n",
              "      <td>4</td>\n",
              "      <td>Joey</td>\n",
              "      <td>I don't wanna hear it! Now go to my room!</td>\n",
              "      <td>0</td>\n",
              "    </tr>\n",
              "  </tbody>\n",
              "</table>\n",
              "</div>"
            ],
            "text/plain": [
              "   id  i_dialog  ...                                          utterance Predicted\n",
              "0   0         0  ...                      Alright, whadyou do with him?         0\n",
              "1   1         0  ...                                  Oh! You're awake!         0\n",
              "2   2         0  ...  Then you gotta come clean with Ma! This is not...         0\n",
              "3   3         0  ...                                  Yeah, but this is         0\n",
              "4   4         0  ...          I don't wanna hear it! Now go to my room!         0\n",
              "\n",
              "[5 rows x 6 columns]"
            ]
          },
          "metadata": {
            "tags": []
          },
          "execution_count": 25
        }
      ]
    },
    {
      "cell_type": "markdown",
      "metadata": {
        "id": "t3UpDfdgVRDI"
      },
      "source": [
        "Step22. 반복하여 결과를 출력하고, 예측된 인덱스값을 다시 감정단어로 변환시킵니다."
      ]
    },
    {
      "cell_type": "code",
      "metadata": {
        "colab": {
          "base_uri": "https://localhost:8080/",
          "height": 236,
          "referenced_widgets": [
            "948889edf77b415c8ba51b4a40c89a2f",
            "21a47558be4a475d9164e83a65e058fd",
            "148314a00f954e13963232c4e676adb5",
            "978da56ce5f348f2aa22f1a84b4abe1e",
            "73afac0090e4460ea0cee7138221bb05",
            "4bce9a0820e6420ebb50b3050d06168d",
            "abf565310aa6461b8e655d3d2aae09bb",
            "67749e0a032949cd9cf7f4c1ecb7323f"
          ]
        },
        "id": "iwuJHbySSiv_",
        "outputId": "ecef01c6-de16-4d44-9ecf-569b28f6b83c"
      },
      "source": [
        "change_value_dict = {1:'neutral', 2:'joy', 3:'sadness', 4:'fear', 5:'anger', 6:'surprise', 7:'disgust', 8:'non-neutral'}\n",
        "\n",
        "for i in tqdm(real_data.index):\n",
        "  real_data['Predicted'][i] = change_value_dict[sentiment_predict(real_data['speaker'][i] + ' ' + real_data['utterance'][i])]"
      ],
      "execution_count": 26,
      "outputs": [
        {
          "output_type": "display_data",
          "data": {
            "application/vnd.jupyter.widget-view+json": {
              "model_id": "948889edf77b415c8ba51b4a40c89a2f",
              "version_minor": 0,
              "version_major": 2
            },
            "text/plain": [
              "HBox(children=(FloatProgress(value=0.0, max=1623.0), HTML(value='')))"
            ]
          },
          "metadata": {
            "tags": []
          }
        },
        {
          "output_type": "stream",
          "text": [
            "/usr/local/lib/python3.6/dist-packages/ipykernel_launcher.py:4: SettingWithCopyWarning: \n",
            "A value is trying to be set on a copy of a slice from a DataFrame\n",
            "\n",
            "See the caveats in the documentation: https://pandas.pydata.org/pandas-docs/stable/user_guide/indexing.html#returning-a-view-versus-a-copy\n",
            "  after removing the cwd from sys.path.\n",
            "/usr/local/lib/python3.6/dist-packages/pandas/core/indexing.py:670: SettingWithCopyWarning: \n",
            "A value is trying to be set on a copy of a slice from a DataFrame\n",
            "\n",
            "See the caveats in the documentation: https://pandas.pydata.org/pandas-docs/stable/user_guide/indexing.html#returning-a-view-versus-a-copy\n",
            "  iloc._setitem_with_indexer(indexer, value)\n"
          ],
          "name": "stderr"
        },
        {
          "output_type": "stream",
          "text": [
            "\n"
          ],
          "name": "stdout"
        }
      ]
    },
    {
      "cell_type": "markdown",
      "metadata": {
        "id": "KES_yypNVeAs"
      },
      "source": [
        "Step23. 정상처리되었는지 확인합니다."
      ]
    },
    {
      "cell_type": "code",
      "metadata": {
        "colab": {
          "base_uri": "https://localhost:8080/",
          "height": 979
        },
        "id": "JdI8hA9TYCpD",
        "outputId": "634b6428-22b7-4bea-f54a-d60fba18670b"
      },
      "source": [
        "real_data[:30]"
      ],
      "execution_count": 27,
      "outputs": [
        {
          "output_type": "execute_result",
          "data": {
            "text/html": [
              "<div>\n",
              "<style scoped>\n",
              "    .dataframe tbody tr th:only-of-type {\n",
              "        vertical-align: middle;\n",
              "    }\n",
              "\n",
              "    .dataframe tbody tr th {\n",
              "        vertical-align: top;\n",
              "    }\n",
              "\n",
              "    .dataframe thead th {\n",
              "        text-align: right;\n",
              "    }\n",
              "</style>\n",
              "<table border=\"1\" class=\"dataframe\">\n",
              "  <thead>\n",
              "    <tr style=\"text-align: right;\">\n",
              "      <th></th>\n",
              "      <th>id</th>\n",
              "      <th>i_dialog</th>\n",
              "      <th>i_utterance</th>\n",
              "      <th>speaker</th>\n",
              "      <th>utterance</th>\n",
              "      <th>Predicted</th>\n",
              "    </tr>\n",
              "  </thead>\n",
              "  <tbody>\n",
              "    <tr>\n",
              "      <th>0</th>\n",
              "      <td>0</td>\n",
              "      <td>0</td>\n",
              "      <td>0</td>\n",
              "      <td>Phoebe</td>\n",
              "      <td>Alright, whadyou do with him?</td>\n",
              "      <td>neutral</td>\n",
              "    </tr>\n",
              "    <tr>\n",
              "      <th>1</th>\n",
              "      <td>1</td>\n",
              "      <td>0</td>\n",
              "      <td>1</td>\n",
              "      <td>Monica</td>\n",
              "      <td>Oh! You're awake!</td>\n",
              "      <td>surprise</td>\n",
              "    </tr>\n",
              "    <tr>\n",
              "      <th>2</th>\n",
              "      <td>2</td>\n",
              "      <td>0</td>\n",
              "      <td>2</td>\n",
              "      <td>Joey</td>\n",
              "      <td>Then you gotta come clean with Ma! This is not...</td>\n",
              "      <td>non-neutral</td>\n",
              "    </tr>\n",
              "    <tr>\n",
              "      <th>3</th>\n",
              "      <td>3</td>\n",
              "      <td>0</td>\n",
              "      <td>3</td>\n",
              "      <td>Mr. Tribbiani</td>\n",
              "      <td>Yeah, but this is</td>\n",
              "      <td>neutral</td>\n",
              "    </tr>\n",
              "    <tr>\n",
              "      <th>4</th>\n",
              "      <td>4</td>\n",
              "      <td>0</td>\n",
              "      <td>4</td>\n",
              "      <td>Joey</td>\n",
              "      <td>I don't wanna hear it! Now go to my room!</td>\n",
              "      <td>non-neutral</td>\n",
              "    </tr>\n",
              "    <tr>\n",
              "      <th>5</th>\n",
              "      <td>5</td>\n",
              "      <td>1</td>\n",
              "      <td>0</td>\n",
              "      <td>Chandler</td>\n",
              "      <td>I don?t want him to tell this story for years.</td>\n",
              "      <td>neutral</td>\n",
              "    </tr>\n",
              "    <tr>\n",
              "      <th>6</th>\n",
              "      <td>6</td>\n",
              "      <td>1</td>\n",
              "      <td>1</td>\n",
              "      <td>Ross</td>\n",
              "      <td>Oh, but he will. He still tells the story how ...</td>\n",
              "      <td>joy</td>\n",
              "    </tr>\n",
              "    <tr>\n",
              "      <th>7</th>\n",
              "      <td>7</td>\n",
              "      <td>1</td>\n",
              "      <td>2</td>\n",
              "      <td>Monica</td>\n",
              "      <td>I wasn?t escaping.</td>\n",
              "      <td>neutral</td>\n",
              "    </tr>\n",
              "    <tr>\n",
              "      <th>8</th>\n",
              "      <td>8</td>\n",
              "      <td>1</td>\n",
              "      <td>3</td>\n",
              "      <td>Ross</td>\n",
              "      <td>Then how did you get caught in the barbed wire?</td>\n",
              "      <td>non-neutral</td>\n",
              "    </tr>\n",
              "    <tr>\n",
              "      <th>9</th>\n",
              "      <td>9</td>\n",
              "      <td>1</td>\n",
              "      <td>4</td>\n",
              "      <td>Monica</td>\n",
              "      <td>I was trying to help out a squirrel.</td>\n",
              "      <td>non-neutral</td>\n",
              "    </tr>\n",
              "    <tr>\n",
              "      <th>10</th>\n",
              "      <td>10</td>\n",
              "      <td>1</td>\n",
              "      <td>5</td>\n",
              "      <td>Ross</td>\n",
              "      <td>You were trying to eat it!</td>\n",
              "      <td>non-neutral</td>\n",
              "    </tr>\n",
              "    <tr>\n",
              "      <th>11</th>\n",
              "      <td>11</td>\n",
              "      <td>1</td>\n",
              "      <td>6</td>\n",
              "      <td>Chandler</td>\n",
              "      <td>If</td>\n",
              "      <td>neutral</td>\n",
              "    </tr>\n",
              "    <tr>\n",
              "      <th>12</th>\n",
              "      <td>12</td>\n",
              "      <td>1</td>\n",
              "      <td>7</td>\n",
              "      <td>Monica</td>\n",
              "      <td>Come on.  Hello?  I?m sorry you have the wrong...</td>\n",
              "      <td>neutral</td>\n",
              "    </tr>\n",
              "    <tr>\n",
              "      <th>13</th>\n",
              "      <td>13</td>\n",
              "      <td>2</td>\n",
              "      <td>0</td>\n",
              "      <td>Julie</td>\n",
              "      <td>I was thinking of doing it a little shorter, y...</td>\n",
              "      <td>neutral</td>\n",
              "    </tr>\n",
              "    <tr>\n",
              "      <th>14</th>\n",
              "      <td>14</td>\n",
              "      <td>2</td>\n",
              "      <td>1</td>\n",
              "      <td>Phoebe</td>\n",
              "      <td>Oh yeah!? Oh, I can do that.</td>\n",
              "      <td>surprise</td>\n",
              "    </tr>\n",
              "    <tr>\n",
              "      <th>15</th>\n",
              "      <td>15</td>\n",
              "      <td>2</td>\n",
              "      <td>2</td>\n",
              "      <td>Julie</td>\n",
              "      <td>Really?</td>\n",
              "      <td>neutral</td>\n",
              "    </tr>\n",
              "    <tr>\n",
              "      <th>16</th>\n",
              "      <td>16</td>\n",
              "      <td>2</td>\n",
              "      <td>3</td>\n",
              "      <td>Hombre Man</td>\n",
              "      <td>I'm sorry. I am such a doofus. I'm so sorry, I...</td>\n",
              "      <td>sadness</td>\n",
              "    </tr>\n",
              "    <tr>\n",
              "      <th>17</th>\n",
              "      <td>17</td>\n",
              "      <td>2</td>\n",
              "      <td>4</td>\n",
              "      <td>Annabelle</td>\n",
              "      <td>My god, what happened?</td>\n",
              "      <td>surprise</td>\n",
              "    </tr>\n",
              "    <tr>\n",
              "      <th>18</th>\n",
              "      <td>18</td>\n",
              "      <td>2</td>\n",
              "      <td>5</td>\n",
              "      <td>Joey</td>\n",
              "      <td>These new kids, they never last.</td>\n",
              "      <td>surprise</td>\n",
              "    </tr>\n",
              "    <tr>\n",
              "      <th>19</th>\n",
              "      <td>19</td>\n",
              "      <td>2</td>\n",
              "      <td>6</td>\n",
              "      <td>Joey</td>\n",
              "      <td>Sooner or later, they all...stop lastin'.</td>\n",
              "      <td>neutral</td>\n",
              "    </tr>\n",
              "    <tr>\n",
              "      <th>20</th>\n",
              "      <td>20</td>\n",
              "      <td>2</td>\n",
              "      <td>7</td>\n",
              "      <td>Joey</td>\n",
              "      <td>Listen, uh, what do you say I buy you that cup...</td>\n",
              "      <td>neutral</td>\n",
              "    </tr>\n",
              "    <tr>\n",
              "      <th>21</th>\n",
              "      <td>21</td>\n",
              "      <td>2</td>\n",
              "      <td>8</td>\n",
              "      <td>Annabelle</td>\n",
              "      <td>Sure.</td>\n",
              "      <td>neutral</td>\n",
              "    </tr>\n",
              "    <tr>\n",
              "      <th>22</th>\n",
              "      <td>22</td>\n",
              "      <td>3</td>\n",
              "      <td>0</td>\n",
              "      <td>Monica</td>\n",
              "      <td>Oh my God Phoebe, you?re on fire!</td>\n",
              "      <td>surprise</td>\n",
              "    </tr>\n",
              "    <tr>\n",
              "      <th>23</th>\n",
              "      <td>23</td>\n",
              "      <td>3</td>\n",
              "      <td>1</td>\n",
              "      <td>Phoebe</td>\n",
              "      <td>I know!</td>\n",
              "      <td>non-neutral</td>\n",
              "    </tr>\n",
              "    <tr>\n",
              "      <th>24</th>\n",
              "      <td>24</td>\n",
              "      <td>3</td>\n",
              "      <td>2</td>\n",
              "      <td>Chandler</td>\n",
              "      <td>One more score to go! You can do it!</td>\n",
              "      <td>joy</td>\n",
              "    </tr>\n",
              "    <tr>\n",
              "      <th>25</th>\n",
              "      <td>25</td>\n",
              "      <td>3</td>\n",
              "      <td>3</td>\n",
              "      <td>Phoebe</td>\n",
              "      <td>Don?t touch me!!</td>\n",
              "      <td>non-neutral</td>\n",
              "    </tr>\n",
              "    <tr>\n",
              "      <th>26</th>\n",
              "      <td>26</td>\n",
              "      <td>3</td>\n",
              "      <td>4</td>\n",
              "      <td>Monica</td>\n",
              "      <td>Don?t touch her!!</td>\n",
              "      <td>non-neutral</td>\n",
              "    </tr>\n",
              "    <tr>\n",
              "      <th>27</th>\n",
              "      <td>27</td>\n",
              "      <td>3</td>\n",
              "      <td>5</td>\n",
              "      <td>Chandler</td>\n",
              "      <td>All right! Go left! Go left! Go right!! Go rig...</td>\n",
              "      <td>joy</td>\n",
              "    </tr>\n",
              "    <tr>\n",
              "      <th>28</th>\n",
              "      <td>28</td>\n",
              "      <td>3</td>\n",
              "      <td>6</td>\n",
              "      <td>Phoebe</td>\n",
              "      <td>I can?t!! I can?t!!  Noooooooo!!!!!!! You son ...</td>\n",
              "      <td>anger</td>\n",
              "    </tr>\n",
              "    <tr>\n",
              "      <th>29</th>\n",
              "      <td>29</td>\n",
              "      <td>3</td>\n",
              "      <td>7</td>\n",
              "      <td>Ross</td>\n",
              "      <td>Phoebe!!</td>\n",
              "      <td>joy</td>\n",
              "    </tr>\n",
              "  </tbody>\n",
              "</table>\n",
              "</div>"
            ],
            "text/plain": [
              "    id  ...    Predicted\n",
              "0    0  ...      neutral\n",
              "1    1  ...     surprise\n",
              "2    2  ...  non-neutral\n",
              "3    3  ...      neutral\n",
              "4    4  ...  non-neutral\n",
              "5    5  ...      neutral\n",
              "6    6  ...          joy\n",
              "7    7  ...      neutral\n",
              "8    8  ...  non-neutral\n",
              "9    9  ...  non-neutral\n",
              "10  10  ...  non-neutral\n",
              "11  11  ...      neutral\n",
              "12  12  ...      neutral\n",
              "13  13  ...      neutral\n",
              "14  14  ...     surprise\n",
              "15  15  ...      neutral\n",
              "16  16  ...      sadness\n",
              "17  17  ...     surprise\n",
              "18  18  ...     surprise\n",
              "19  19  ...      neutral\n",
              "20  20  ...      neutral\n",
              "21  21  ...      neutral\n",
              "22  22  ...     surprise\n",
              "23  23  ...  non-neutral\n",
              "24  24  ...          joy\n",
              "25  25  ...  non-neutral\n",
              "26  26  ...  non-neutral\n",
              "27  27  ...          joy\n",
              "28  28  ...        anger\n",
              "29  29  ...          joy\n",
              "\n",
              "[30 rows x 6 columns]"
            ]
          },
          "metadata": {
            "tags": []
          },
          "execution_count": 27
        }
      ]
    },
    {
      "cell_type": "markdown",
      "metadata": {
        "id": "csBXXtHvV4MZ"
      },
      "source": [
        "Step24. 결과를 저장합니다."
      ]
    },
    {
      "cell_type": "code",
      "metadata": {
        "id": "KYuT9Rp2Y13W"
      },
      "source": [
        "real_data.to_csv(mypath+'en_sample.csv',columns=['id','Predicted'],index=False) # 캐글에 올릴 때\n",
        "#real_data.to_csv('sample_full.csv',columns=['id','utterance','Predicted'],index=False) # 데이터 확인 시\n",
        "#pd.DataFrame(list(tokenizer.word_counts.items())).to_csv('friends_word_counts.csv',index=False) # 단어집을 추출해 볼 때"
      ],
      "execution_count": 29,
      "outputs": []
    }
  ]
}