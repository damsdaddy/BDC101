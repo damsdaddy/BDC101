{
 "cells": [
  {
   "cell_type": "code",
   "execution_count": 190,
   "metadata": {},
   "outputs": [],
   "source": [
    "import json\n",
    "import pandas as pd\n",
    "import numpy as np\n",
    "from tqdm import tqdm"
   ]
  },
  {
   "cell_type": "code",
   "execution_count": 284,
   "metadata": {},
   "outputs": [],
   "source": [
    "train_data_json = pd.read_json('friends_train.json', orient='records', typ='series')\n",
    "dev_data_json = pd.read_json('friends_dev.json', orient='records', typ='series')\n",
    "test_data_json = pd.read_json('friends_test.json', orient='records', typ='series')\n",
    "#ddata = json.load('friends_train.json')\n",
    "#train_data = pd.read_json('friends_train.json', lines=True)"
   ]
  },
  {
   "cell_type": "code",
   "execution_count": 285,
   "metadata": {},
   "outputs": [
    {
     "data": {
      "text/plain": [
       "0    [{'speaker': 'Chandler', 'utterance': 'also I ...\n",
       "1    [{'speaker': 'Chandler', 'utterance': 'Hey, Mo...\n",
       "2    [{'speaker': 'Rachel', 'utterance': 'Hey!', 'e...\n",
       "3    [{'speaker': 'Chandler', 'utterance': 'Good jo...\n",
       "4    [{'speaker': 'Joey', 'utterance': 'Okay, look,...\n",
       "5    [{'speaker': 'Chandler', 'utterance': 'What've...\n",
       "6    [{'speaker': 'Phoebe', 'utterance': 'Nobody!',...\n",
       "7    [{'speaker': 'Chandler', 'utterance': 'Hey!', ...\n",
       "8    [{'speaker': 'Mona', 'utterance': 'I love your...\n",
       "9    [{'speaker': 'Ross', 'utterance': 'Get Out!', ...\n",
       "dtype: object"
      ]
     },
     "execution_count": 285,
     "metadata": {},
     "output_type": "execute_result"
    }
   ],
   "source": [
    "train_data_json[:10]"
   ]
  },
  {
   "cell_type": "code",
   "execution_count": 286,
   "metadata": {},
   "outputs": [
    {
     "data": {
      "text/plain": [
       "0    [{'speaker': 'Phoebe', 'utterance': 'Oh my God...\n",
       "1    [{'speaker': 'Joey', 'utterance': 'Hey Estelle...\n",
       "2    [{'speaker': 'Ross', 'utterance': 'Yes? Yes?! ...\n",
       "3    [{'speaker': 'Ross', 'utterance': 'You had no ...\n",
       "4    [{'speaker': 'Phoebe', 'utterance': 'Oh, it's ...\n",
       "5    [{'speaker': 'Monica', 'utterance': 'Hey! What...\n",
       "6    [{'speaker': 'Joey', 'utterance': 'Hey, whats...\n",
       "7    [{'speaker': 'Ross', 'utterance': 'So where ar...\n",
       "8    [{'speaker': 'Monica', 'utterance': 'Well, you...\n",
       "9    [{'speaker': 'Dr. Harad', 'utterance': 'Okay. ...\n",
       "dtype: object"
      ]
     },
     "execution_count": 286,
     "metadata": {},
     "output_type": "execute_result"
    }
   ],
   "source": [
    "dev_data_json[:10]"
   ]
  },
  {
   "cell_type": "code",
   "execution_count": 287,
   "metadata": {},
   "outputs": [
    {
     "data": {
      "text/plain": [
       "0    [{'speaker': 'Mark', 'utterance': 'Why do all ...\n",
       "1    [{'speaker': 'Joey', 'utterance': 'Come on, Ly...\n",
       "2    [{'speaker': 'Ross', 'utterance': 'Okay.', 'em...\n",
       "3    [{'speaker': 'Phoebe', 'utterance': 'Ohh!', 'e...\n",
       "4    [{'speaker': 'Joey', 'utterance': 'Previously ...\n",
       "5    [{'speaker': 'Jade', 'utterance': 'Oh, Bob, he...\n",
       "6    [{'speaker': 'Phoebe', 'utterance': 'Coming th...\n",
       "7    [{'speaker': 'Rachel', 'utterance': 'Well Phoe...\n",
       "8    [{'speaker': 'Ross', 'utterance': 'Whats all ...\n",
       "9    [{'speaker': 'Roger', 'utterance': 'Oh.', 'emo...\n",
       "dtype: object"
      ]
     },
     "execution_count": 287,
     "metadata": {},
     "output_type": "execute_result"
    }
   ],
   "source": [
    "test_data_json[:10]"
   ]
  },
  {
   "cell_type": "code",
   "execution_count": 288,
   "metadata": {},
   "outputs": [],
   "source": [
    "train_data = pd.DataFrame(columns = ['speaker' , 'utterance', 'emotion', 'annotation'])\n",
    "test_data = pd.DataFrame(columns = ['speaker' , 'utterance', 'emotion', 'annotation'])"
   ]
  },
  {
   "cell_type": "code",
   "execution_count": 289,
   "metadata": {},
   "outputs": [
    {
     "name": "stderr",
     "output_type": "stream",
     "text": [
      "100%|██████████| 720/720 [00:27<00:00, 26.31it/s]\n"
     ]
    }
   ],
   "source": [
    "for i in tqdm(train_data_json):\n",
    "    for j in list(i):\n",
    "        train_data = train_data.append(j, ignore_index=True)"
   ]
  },
  {
   "cell_type": "code",
   "execution_count": 290,
   "metadata": {},
   "outputs": [
    {
     "name": "stderr",
     "output_type": "stream",
     "text": [
      "100%|██████████| 80/80 [00:03<00:00, 23.12it/s]\n"
     ]
    }
   ],
   "source": [
    "for i in tqdm(dev_data_json):\n",
    "    for j in list(i):\n",
    "        train_data = train_data.append(j, ignore_index=True)"
   ]
  },
  {
   "cell_type": "code",
   "execution_count": 291,
   "metadata": {},
   "outputs": [
    {
     "name": "stderr",
     "output_type": "stream",
     "text": [
      "100%|██████████| 200/200 [00:06<00:00, 29.51it/s]\n"
     ]
    }
   ],
   "source": [
    "for i in tqdm(test_data_json):\n",
    "    for j in list(i):\n",
    "        test_data = test_data.append(j, ignore_index=True)"
   ]
  },
  {
   "cell_type": "code",
   "execution_count": 292,
   "metadata": {},
   "outputs": [
    {
     "data": {
      "text/html": [
       "<div>\n",
       "<style scoped>\n",
       "    .dataframe tbody tr th:only-of-type {\n",
       "        vertical-align: middle;\n",
       "    }\n",
       "\n",
       "    .dataframe tbody tr th {\n",
       "        vertical-align: top;\n",
       "    }\n",
       "\n",
       "    .dataframe thead th {\n",
       "        text-align: right;\n",
       "    }\n",
       "</style>\n",
       "<table border=\"1\" class=\"dataframe\">\n",
       "  <thead>\n",
       "    <tr style=\"text-align: right;\">\n",
       "      <th></th>\n",
       "      <th>speaker</th>\n",
       "      <th>utterance</th>\n",
       "      <th>emotion</th>\n",
       "      <th>annotation</th>\n",
       "    </tr>\n",
       "  </thead>\n",
       "  <tbody>\n",
       "    <tr>\n",
       "      <th>0</th>\n",
       "      <td>Chandler</td>\n",
       "      <td>also I was the point person on my companys tr...</td>\n",
       "      <td>neutral</td>\n",
       "      <td>4100000</td>\n",
       "    </tr>\n",
       "    <tr>\n",
       "      <th>1</th>\n",
       "      <td>The Interviewer</td>\n",
       "      <td>You mustve had your hands full.</td>\n",
       "      <td>neutral</td>\n",
       "      <td>5000000</td>\n",
       "    </tr>\n",
       "    <tr>\n",
       "      <th>2</th>\n",
       "      <td>Chandler</td>\n",
       "      <td>That I did. That I did.</td>\n",
       "      <td>neutral</td>\n",
       "      <td>5000000</td>\n",
       "    </tr>\n",
       "    <tr>\n",
       "      <th>3</th>\n",
       "      <td>The Interviewer</td>\n",
       "      <td>So lets talk a little bit about your duties.</td>\n",
       "      <td>neutral</td>\n",
       "      <td>5000000</td>\n",
       "    </tr>\n",
       "    <tr>\n",
       "      <th>4</th>\n",
       "      <td>Chandler</td>\n",
       "      <td>My duties?  All right.</td>\n",
       "      <td>surprise</td>\n",
       "      <td>2000030</td>\n",
       "    </tr>\n",
       "    <tr>\n",
       "      <th>...</th>\n",
       "      <td>...</td>\n",
       "      <td>...</td>\n",
       "      <td>...</td>\n",
       "      <td>...</td>\n",
       "    </tr>\n",
       "    <tr>\n",
       "      <th>11734</th>\n",
       "      <td>Monica</td>\n",
       "      <td>No.</td>\n",
       "      <td>sadness</td>\n",
       "      <td>2030000</td>\n",
       "    </tr>\n",
       "    <tr>\n",
       "      <th>11735</th>\n",
       "      <td>Rachel</td>\n",
       "      <td>What? Oh my God! Im gonna miss you so much!</td>\n",
       "      <td>sadness</td>\n",
       "      <td>0040010</td>\n",
       "    </tr>\n",
       "    <tr>\n",
       "      <th>11736</th>\n",
       "      <td>Monica</td>\n",
       "      <td>Im gonna miss you!</td>\n",
       "      <td>sadness</td>\n",
       "      <td>0050000</td>\n",
       "    </tr>\n",
       "    <tr>\n",
       "      <th>11737</th>\n",
       "      <td>Rachel</td>\n",
       "      <td>I mean its the end of an era!</td>\n",
       "      <td>sadness</td>\n",
       "      <td>0050000</td>\n",
       "    </tr>\n",
       "    <tr>\n",
       "      <th>11738</th>\n",
       "      <td>Monica</td>\n",
       "      <td>I know!</td>\n",
       "      <td>sadness</td>\n",
       "      <td>0040010</td>\n",
       "    </tr>\n",
       "  </tbody>\n",
       "</table>\n",
       "<p>11739 rows × 4 columns</p>\n",
       "</div>"
      ],
      "text/plain": [
       "               speaker                                          utterance  \\\n",
       "0             Chandler  also I was the point person on my companys tr...   \n",
       "1      The Interviewer                   You mustve had your hands full.   \n",
       "2             Chandler                            That I did. That I did.   \n",
       "3      The Interviewer      So lets talk a little bit about your duties.   \n",
       "4             Chandler                             My duties?  All right.   \n",
       "...                ...                                                ...   \n",
       "11734           Monica                                                No.   \n",
       "11735           Rachel       What? Oh my God! Im gonna miss you so much!   \n",
       "11736           Monica                                Im gonna miss you!   \n",
       "11737           Rachel                     I mean its the end of an era!   \n",
       "11738           Monica                                            I know!   \n",
       "\n",
       "        emotion annotation  \n",
       "0       neutral    4100000  \n",
       "1       neutral    5000000  \n",
       "2       neutral    5000000  \n",
       "3       neutral    5000000  \n",
       "4      surprise    2000030  \n",
       "...         ...        ...  \n",
       "11734   sadness    2030000  \n",
       "11735   sadness    0040010  \n",
       "11736   sadness    0050000  \n",
       "11737   sadness    0050000  \n",
       "11738   sadness    0040010  \n",
       "\n",
       "[11739 rows x 4 columns]"
      ]
     },
     "execution_count": 292,
     "metadata": {},
     "output_type": "execute_result"
    }
   ],
   "source": [
    "train_data"
   ]
  },
  {
   "cell_type": "code",
   "execution_count": 293,
   "metadata": {},
   "outputs": [
    {
     "data": {
      "text/html": [
       "<div>\n",
       "<style scoped>\n",
       "    .dataframe tbody tr th:only-of-type {\n",
       "        vertical-align: middle;\n",
       "    }\n",
       "\n",
       "    .dataframe tbody tr th {\n",
       "        vertical-align: top;\n",
       "    }\n",
       "\n",
       "    .dataframe thead th {\n",
       "        text-align: right;\n",
       "    }\n",
       "</style>\n",
       "<table border=\"1\" class=\"dataframe\">\n",
       "  <thead>\n",
       "    <tr style=\"text-align: right;\">\n",
       "      <th></th>\n",
       "      <th>speaker</th>\n",
       "      <th>utterance</th>\n",
       "      <th>emotion</th>\n",
       "      <th>annotation</th>\n",
       "    </tr>\n",
       "  </thead>\n",
       "  <tbody>\n",
       "    <tr>\n",
       "      <th>0</th>\n",
       "      <td>Mark</td>\n",
       "      <td>Why do all youre coffee mugs have numbers on ...</td>\n",
       "      <td>surprise</td>\n",
       "      <td>2000030</td>\n",
       "    </tr>\n",
       "    <tr>\n",
       "      <th>1</th>\n",
       "      <td>Rachel</td>\n",
       "      <td>Oh. Thats so Monica can keep track. That way ...</td>\n",
       "      <td>non-neutral</td>\n",
       "      <td>2100011</td>\n",
       "    </tr>\n",
       "    <tr>\n",
       "      <th>2</th>\n",
       "      <td>Rachel</td>\n",
       "      <td>Y'know what?</td>\n",
       "      <td>neutral</td>\n",
       "      <td>3000020</td>\n",
       "    </tr>\n",
       "    <tr>\n",
       "      <th>3</th>\n",
       "      <td>Ross</td>\n",
       "      <td>It didnt.</td>\n",
       "      <td>neutral</td>\n",
       "      <td>5000000</td>\n",
       "    </tr>\n",
       "    <tr>\n",
       "      <th>4</th>\n",
       "      <td>Frank</td>\n",
       "      <td>Okay, so what you used to have with Rachel, is...</td>\n",
       "      <td>joy</td>\n",
       "      <td>1300010</td>\n",
       "    </tr>\n",
       "    <tr>\n",
       "      <th>...</th>\n",
       "      <td>...</td>\n",
       "      <td>...</td>\n",
       "      <td>...</td>\n",
       "      <td>...</td>\n",
       "    </tr>\n",
       "    <tr>\n",
       "      <th>2759</th>\n",
       "      <td>Phoebe</td>\n",
       "      <td>Hey, why dont you guys go get portraits done ...</td>\n",
       "      <td>neutral</td>\n",
       "      <td>5000000</td>\n",
       "    </tr>\n",
       "    <tr>\n",
       "      <th>2760</th>\n",
       "      <td>Monica</td>\n",
       "      <td>Thats a good idea! I bet they have one of tho...</td>\n",
       "      <td>joy</td>\n",
       "      <td>1400000</td>\n",
       "    </tr>\n",
       "    <tr>\n",
       "      <th>2761</th>\n",
       "      <td>Phoebe</td>\n",
       "      <td>Yeah thats great! Next to that, Chandler won...</td>\n",
       "      <td>neutral</td>\n",
       "      <td>3100100</td>\n",
       "    </tr>\n",
       "    <tr>\n",
       "      <th>2762</th>\n",
       "      <td>Monica</td>\n",
       "      <td>Chandler what do you say?</td>\n",
       "      <td>neutral</td>\n",
       "      <td>5000000</td>\n",
       "    </tr>\n",
       "    <tr>\n",
       "      <th>2763</th>\n",
       "      <td>Chandler</td>\n",
       "      <td>All right, but I should warn you, Im not goin...</td>\n",
       "      <td>neutral</td>\n",
       "      <td>4000100</td>\n",
       "    </tr>\n",
       "  </tbody>\n",
       "</table>\n",
       "<p>2764 rows × 4 columns</p>\n",
       "</div>"
      ],
      "text/plain": [
       "       speaker                                          utterance  \\\n",
       "0         Mark  Why do all youre coffee mugs have numbers on ...   \n",
       "1       Rachel  Oh. Thats so Monica can keep track. That way ...   \n",
       "2       Rachel                                       Y'know what?   \n",
       "3         Ross                                         It didnt.   \n",
       "4        Frank  Okay, so what you used to have with Rachel, is...   \n",
       "...        ...                                                ...   \n",
       "2759    Phoebe  Hey, why dont you guys go get portraits done ...   \n",
       "2760    Monica  Thats a good idea! I bet they have one of tho...   \n",
       "2761    Phoebe  Yeah thats great! Next to that, Chandler won...   \n",
       "2762    Monica                          Chandler what do you say?   \n",
       "2763  Chandler  All right, but I should warn you, Im not goin...   \n",
       "\n",
       "          emotion annotation  \n",
       "0        surprise    2000030  \n",
       "1     non-neutral    2100011  \n",
       "2         neutral    3000020  \n",
       "3         neutral    5000000  \n",
       "4             joy    1300010  \n",
       "...           ...        ...  \n",
       "2759      neutral    5000000  \n",
       "2760          joy    1400000  \n",
       "2761      neutral    3100100  \n",
       "2762      neutral    5000000  \n",
       "2763      neutral    4000100  \n",
       "\n",
       "[2764 rows x 4 columns]"
      ]
     },
     "execution_count": 293,
     "metadata": {},
     "output_type": "execute_result"
    }
   ],
   "source": [
    "test_data"
   ]
  },
  {
   "cell_type": "code",
   "execution_count": 294,
   "metadata": {},
   "outputs": [
    {
     "name": "stderr",
     "output_type": "stream",
     "text": [
      "100%|██████████| 3/3 [00:00<00:00, 70.28it/s]"
     ]
    },
    {
     "name": "stdout",
     "output_type": "stream",
     "text": [
      "열 중복제거 후 테스트용 샘플의 개수 : 10268\n",
      "Null값 제거 후 테스트용 샘플의 개수 : 10268\n"
     ]
    },
    {
     "name": "stderr",
     "output_type": "stream",
     "text": [
      "\n"
     ]
    }
   ],
   "source": [
    "# train_data 전처리\n",
    "\n",
    "# 휴리스틱 검출규칙 : 비표준어에 대해 직관적인 방법으로 규칙을 만들어 교체\n",
    "heuristic_rule = [\n",
    "    ['+', \"'\"],\n",
    "    ['-', ' - '],\n",
    "    ['  +', ' ']\n",
    "]\n",
    "\n",
    "#train_data['utterance'] = train_data['utterance'].str.replace(\"[^0-9a-zA-Z ]\",\"\") # 정규 표현식 수행\n",
    "train_data['utterance'] = train_data['utterance'].str.lower()\n",
    "\n",
    "for rule in tqdm(heuristic_rule):\n",
    "    train_data['utterance'] = train_data['utterance'].str.replace(rule[0],rule[1]) # 휴리스틱 규칙적용\n",
    "\n",
    "\n",
    "train_data.drop_duplicates(subset = ['utterance'], inplace=True) # 열에서 중복인 내용이 있다면 중복 제거\n",
    "print('열 중복제거 후 테스트용 샘플의 개수 :',len(train_data))\n",
    "train_data['utterance'].replace('', np.nan, inplace=True) # 공백은 Null 값으로 변경\n",
    "train_data = train_data.dropna(how='any') # Null 값 제거\n",
    "print('Null값 제거 후 테스트용 샘플의 개수 :',len(train_data))\n",
    "\n",
    "# 감정단어를 숫자값으로 변환\n",
    "change_value_dict = {'neutral':1, 'joy':2, 'sadness':3, 'fear':4, 'anger':5, 'surprise':6, 'disgust':7, 'non-neutral':8}\n",
    "train_data = train_data.replace({'emotion':change_value_dict})\n"
   ]
  },
  {
   "cell_type": "code",
   "execution_count": 295,
   "metadata": {},
   "outputs": [
    {
     "name": "stderr",
     "output_type": "stream",
     "text": [
      "100%|██████████| 3/3 [00:00<00:00, 178.10it/s]"
     ]
    },
    {
     "name": "stdout",
     "output_type": "stream",
     "text": [
      "전처리 후 테스트용 샘플의 개수 : 2500\n"
     ]
    },
    {
     "name": "stderr",
     "output_type": "stream",
     "text": [
      "\n"
     ]
    }
   ],
   "source": [
    "# test_data 전처리\n",
    "#test_data['utterance'] = test_data['utterance'].str.replace(\"[^0-9a-zA-Z ]\",\"\") # 정규 표현식 수행\n",
    "test_data['utterance'] = test_data['utterance'].str.lower()\n",
    "\n",
    "for rule in tqdm(heuristic_rule):\n",
    "    test_data['utterance'] = test_data['utterance'].str.replace(rule[0],rule[1]) # 휴리스틱 규칙적용\n",
    "\n",
    "test_data.drop_duplicates(subset = ['utterance'], inplace=True) # 열에서 중복인 내용이 있다면 중복 제거\n",
    "test_data['utterance'].replace('', np.nan, inplace=True) # 공백은 Null 값으로 변경\n",
    "test_data = test_data.dropna(how='any') # Null 값 제거\n",
    "\n",
    "# 감정단어를 숫자값으로 변환\n",
    "test_data = test_data.replace({'emotion':change_value_dict})\n",
    "\n",
    "print('전처리 후 테스트용 샘플의 개수 :',len(test_data))"
   ]
  },
  {
   "cell_type": "code",
   "execution_count": 296,
   "metadata": {},
   "outputs": [
    {
     "data": {
      "text/html": [
       "<div>\n",
       "<style scoped>\n",
       "    .dataframe tbody tr th:only-of-type {\n",
       "        vertical-align: middle;\n",
       "    }\n",
       "\n",
       "    .dataframe tbody tr th {\n",
       "        vertical-align: top;\n",
       "    }\n",
       "\n",
       "    .dataframe thead th {\n",
       "        text-align: right;\n",
       "    }\n",
       "</style>\n",
       "<table border=\"1\" class=\"dataframe\">\n",
       "  <thead>\n",
       "    <tr style=\"text-align: right;\">\n",
       "      <th></th>\n",
       "      <th>speaker</th>\n",
       "      <th>utterance</th>\n",
       "      <th>emotion</th>\n",
       "      <th>annotation</th>\n",
       "    </tr>\n",
       "  </thead>\n",
       "  <tbody>\n",
       "    <tr>\n",
       "      <th>0</th>\n",
       "      <td>Chandler</td>\n",
       "      <td>also i was the point person on my company's tr...</td>\n",
       "      <td>1</td>\n",
       "      <td>4100000</td>\n",
       "    </tr>\n",
       "    <tr>\n",
       "      <th>1</th>\n",
       "      <td>The Interviewer</td>\n",
       "      <td>you must've had your hands full.</td>\n",
       "      <td>1</td>\n",
       "      <td>5000000</td>\n",
       "    </tr>\n",
       "    <tr>\n",
       "      <th>2</th>\n",
       "      <td>Chandler</td>\n",
       "      <td>that i did. that i did.</td>\n",
       "      <td>1</td>\n",
       "      <td>5000000</td>\n",
       "    </tr>\n",
       "    <tr>\n",
       "      <th>3</th>\n",
       "      <td>The Interviewer</td>\n",
       "      <td>so let's talk a little bit about your duties.</td>\n",
       "      <td>1</td>\n",
       "      <td>5000000</td>\n",
       "    </tr>\n",
       "    <tr>\n",
       "      <th>4</th>\n",
       "      <td>Chandler</td>\n",
       "      <td>my duties? all right.</td>\n",
       "      <td>6</td>\n",
       "      <td>2000030</td>\n",
       "    </tr>\n",
       "    <tr>\n",
       "      <th>...</th>\n",
       "      <td>...</td>\n",
       "      <td>...</td>\n",
       "      <td>...</td>\n",
       "      <td>...</td>\n",
       "    </tr>\n",
       "    <tr>\n",
       "      <th>11732</th>\n",
       "      <td>Monica</td>\n",
       "      <td>yeah, sweetie.</td>\n",
       "      <td>1</td>\n",
       "      <td>3200000</td>\n",
       "    </tr>\n",
       "    <tr>\n",
       "      <th>11733</th>\n",
       "      <td>Rachel</td>\n",
       "      <td>i mean we're not, we're not gonna live togethe...</td>\n",
       "      <td>3</td>\n",
       "      <td>0040010</td>\n",
       "    </tr>\n",
       "    <tr>\n",
       "      <th>11735</th>\n",
       "      <td>Rachel</td>\n",
       "      <td>what? oh my god! i'm gonna miss you so much!</td>\n",
       "      <td>3</td>\n",
       "      <td>0040010</td>\n",
       "    </tr>\n",
       "    <tr>\n",
       "      <th>11736</th>\n",
       "      <td>Monica</td>\n",
       "      <td>i'm gonna miss you!</td>\n",
       "      <td>3</td>\n",
       "      <td>0050000</td>\n",
       "    </tr>\n",
       "    <tr>\n",
       "      <th>11737</th>\n",
       "      <td>Rachel</td>\n",
       "      <td>i mean it's the end of an era!</td>\n",
       "      <td>3</td>\n",
       "      <td>0050000</td>\n",
       "    </tr>\n",
       "  </tbody>\n",
       "</table>\n",
       "<p>10268 rows × 4 columns</p>\n",
       "</div>"
      ],
      "text/plain": [
       "               speaker                                          utterance  \\\n",
       "0             Chandler  also i was the point person on my company's tr...   \n",
       "1      The Interviewer                   you must've had your hands full.   \n",
       "2             Chandler                            that i did. that i did.   \n",
       "3      The Interviewer      so let's talk a little bit about your duties.   \n",
       "4             Chandler                              my duties? all right.   \n",
       "...                ...                                                ...   \n",
       "11732           Monica                                     yeah, sweetie.   \n",
       "11733           Rachel  i mean we're not, we're not gonna live togethe...   \n",
       "11735           Rachel       what? oh my god! i'm gonna miss you so much!   \n",
       "11736           Monica                                i'm gonna miss you!   \n",
       "11737           Rachel                     i mean it's the end of an era!   \n",
       "\n",
       "       emotion annotation  \n",
       "0            1    4100000  \n",
       "1            1    5000000  \n",
       "2            1    5000000  \n",
       "3            1    5000000  \n",
       "4            6    2000030  \n",
       "...        ...        ...  \n",
       "11732        1    3200000  \n",
       "11733        3    0040010  \n",
       "11735        3    0040010  \n",
       "11736        3    0050000  \n",
       "11737        3    0050000  \n",
       "\n",
       "[10268 rows x 4 columns]"
      ]
     },
     "execution_count": 296,
     "metadata": {},
     "output_type": "execute_result"
    }
   ],
   "source": [
    "train_data"
   ]
  },
  {
   "cell_type": "code",
   "execution_count": 297,
   "metadata": {},
   "outputs": [
    {
     "data": {
      "text/html": [
       "<div>\n",
       "<style scoped>\n",
       "    .dataframe tbody tr th:only-of-type {\n",
       "        vertical-align: middle;\n",
       "    }\n",
       "\n",
       "    .dataframe tbody tr th {\n",
       "        vertical-align: top;\n",
       "    }\n",
       "\n",
       "    .dataframe thead th {\n",
       "        text-align: right;\n",
       "    }\n",
       "</style>\n",
       "<table border=\"1\" class=\"dataframe\">\n",
       "  <thead>\n",
       "    <tr style=\"text-align: right;\">\n",
       "      <th></th>\n",
       "      <th>speaker</th>\n",
       "      <th>utterance</th>\n",
       "      <th>emotion</th>\n",
       "      <th>annotation</th>\n",
       "    </tr>\n",
       "  </thead>\n",
       "  <tbody>\n",
       "    <tr>\n",
       "      <th>0</th>\n",
       "      <td>Mark</td>\n",
       "      <td>why do all you're coffee mugs have numbers on ...</td>\n",
       "      <td>6</td>\n",
       "      <td>2000030</td>\n",
       "    </tr>\n",
       "    <tr>\n",
       "      <th>1</th>\n",
       "      <td>Rachel</td>\n",
       "      <td>oh. that's so monica can keep track. that way ...</td>\n",
       "      <td>8</td>\n",
       "      <td>2100011</td>\n",
       "    </tr>\n",
       "    <tr>\n",
       "      <th>2</th>\n",
       "      <td>Rachel</td>\n",
       "      <td>y'know what?</td>\n",
       "      <td>1</td>\n",
       "      <td>3000020</td>\n",
       "    </tr>\n",
       "    <tr>\n",
       "      <th>3</th>\n",
       "      <td>Ross</td>\n",
       "      <td>it didn't.</td>\n",
       "      <td>1</td>\n",
       "      <td>5000000</td>\n",
       "    </tr>\n",
       "    <tr>\n",
       "      <th>4</th>\n",
       "      <td>Frank</td>\n",
       "      <td>okay, so what you used to have with rachel, is...</td>\n",
       "      <td>2</td>\n",
       "      <td>1300010</td>\n",
       "    </tr>\n",
       "    <tr>\n",
       "      <th>...</th>\n",
       "      <td>...</td>\n",
       "      <td>...</td>\n",
       "      <td>...</td>\n",
       "      <td>...</td>\n",
       "    </tr>\n",
       "    <tr>\n",
       "      <th>2759</th>\n",
       "      <td>Phoebe</td>\n",
       "      <td>hey, why don't you guys go get portraits done ...</td>\n",
       "      <td>1</td>\n",
       "      <td>5000000</td>\n",
       "    </tr>\n",
       "    <tr>\n",
       "      <th>2760</th>\n",
       "      <td>Monica</td>\n",
       "      <td>that's a good idea! i bet they have one of tho...</td>\n",
       "      <td>2</td>\n",
       "      <td>1400000</td>\n",
       "    </tr>\n",
       "    <tr>\n",
       "      <th>2761</th>\n",
       "      <td>Phoebe</td>\n",
       "      <td>yeah that's great! next to that, chandler won'...</td>\n",
       "      <td>1</td>\n",
       "      <td>3100100</td>\n",
       "    </tr>\n",
       "    <tr>\n",
       "      <th>2762</th>\n",
       "      <td>Monica</td>\n",
       "      <td>chandler what do you say?</td>\n",
       "      <td>1</td>\n",
       "      <td>5000000</td>\n",
       "    </tr>\n",
       "    <tr>\n",
       "      <th>2763</th>\n",
       "      <td>Chandler</td>\n",
       "      <td>all right, but i should warn you, i'm not goin...</td>\n",
       "      <td>1</td>\n",
       "      <td>4000100</td>\n",
       "    </tr>\n",
       "  </tbody>\n",
       "</table>\n",
       "<p>2500 rows × 4 columns</p>\n",
       "</div>"
      ],
      "text/plain": [
       "       speaker                                          utterance  emotion  \\\n",
       "0         Mark  why do all you're coffee mugs have numbers on ...        6   \n",
       "1       Rachel  oh. that's so monica can keep track. that way ...        8   \n",
       "2       Rachel                                       y'know what?        1   \n",
       "3         Ross                                         it didn't.        1   \n",
       "4        Frank  okay, so what you used to have with rachel, is...        2   \n",
       "...        ...                                                ...      ...   \n",
       "2759    Phoebe  hey, why don't you guys go get portraits done ...        1   \n",
       "2760    Monica  that's a good idea! i bet they have one of tho...        2   \n",
       "2761    Phoebe  yeah that's great! next to that, chandler won'...        1   \n",
       "2762    Monica                          chandler what do you say?        1   \n",
       "2763  Chandler  all right, but i should warn you, i'm not goin...        1   \n",
       "\n",
       "     annotation  \n",
       "0       2000030  \n",
       "1       2100011  \n",
       "2       3000020  \n",
       "3       5000000  \n",
       "4       1300010  \n",
       "...         ...  \n",
       "2759    5000000  \n",
       "2760    1400000  \n",
       "2761    3100100  \n",
       "2762    5000000  \n",
       "2763    4000100  \n",
       "\n",
       "[2500 rows x 4 columns]"
      ]
     },
     "execution_count": 297,
     "metadata": {},
     "output_type": "execute_result"
    }
   ],
   "source": [
    "test_data"
   ]
  },
  {
   "cell_type": "code",
   "execution_count": 298,
   "metadata": {},
   "outputs": [],
   "source": [
    "train_data.to_csv('friends_train_preprocess.csv',sep='|')\n",
    "test_data.to_csv('friends_test_preprocess.csv',sep='|')"
   ]
  },
  {
   "cell_type": "code",
   "execution_count": 64,
   "metadata": {},
   "outputs": [],
   "source": [
    "# 데이터 분석용 코드\n",
    "#for i in train_data_json:\n",
    "#    for j in list(i):\n",
    "#        print(j)"
   ]
  }
 ],
 "metadata": {
  "kernelspec": {
   "display_name": "Python 3",
   "language": "python",
   "name": "python3"
  },
  "language_info": {
   "codemirror_mode": {
    "name": "ipython",
    "version": 3
   },
   "file_extension": ".py",
   "mimetype": "text/x-python",
   "name": "python",
   "nbconvert_exporter": "python",
   "pygments_lexer": "ipython3",
   "version": "3.6.9"
  }
 },
 "nbformat": 4,
 "nbformat_minor": 2
}
